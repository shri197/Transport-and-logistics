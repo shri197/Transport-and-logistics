{
 "cells": [
  {
   "cell_type": "markdown",
   "id": "2ec09c0c",
   "metadata": {},
   "source": [
    "# Defining the problem statement\n",
    "Delhivery is the largest and fastest-growing fully integrated player in India by revenue in Fiscal 2021. They aim to build the operating system for commerce, through a combination of world-class infrastructure, logistics operations of the highest quality, and cutting-edge engineering and technology capabilities.\n",
    "\n",
    "The Data team builds intelligence and capabilities using this data that helps them to widen the gap between the quality, efficiency, and profitability of their business versus their competitors."
   ]
  },
  {
   "cell_type": "markdown",
   "id": "8d06bb84",
   "metadata": {},
   "source": [
    "# Column Profiling:\n",
    "1. data - tells whether the data is testing or training data\n",
    "2. trip_creation_time – Timestamp of trip creation\n",
    "3. route_schedule_uuid – Unique Id for a particular route schedule\n",
    "4. route_type – Transportation type\n",
    "5. FTL – Full Truck Load: FTL shipments get to the destination sooner, as the truck is making no other pickups or drop-offs along the way\n",
    "    Carting: Handling system consisting of small vehicles (carts)\n",
    "6. trip_uuid - Unique ID given to a particular trip (A trip may include different source and destination centers)\n",
    "7. source_center - Source ID of trip origin\n",
    "8. source_name - Source Name of trip origin\n",
    "9. destination_cente – Destination ID\n",
    "10. destination_name – Destination Name\n",
    "11. od_start_time – Trip start time\n",
    "12. od_end_time – Trip end time\n",
    "13. start_scan_to_end_scan – Time taken to deliver from source to destination\n",
    "14. is_cutoff – Unknown field\n",
    "15. cutoff_factor – Unknown field\n",
    "16. cutoff_timestamp – Unknown field\n",
    "17. actual_distance_to_destination – Distance in Kms between source and destination warehouse\n",
    "18. actual_time – Actual time taken to complete the delivery (Cumulative)\n",
    "19. osrm_time – An open-source routing engine time calculator which computes the shortest path between points in a given map (Includes usual traffic, distance through major and minor roads) and gives the time (Cumulative)\n",
    "20. osrm_distance – An open-source routing engine which computes the shortest path between points in a given map (Includes usual traffic, distance through major and minor roads) (Cumulative)\n",
    "21. factor – Unknown field\n",
    "22. segment_actual_time – This is a segment time. Time taken by the subset of the package delivery\n",
    "23. segment_osrm_time – This is the OSRM segment time. Time taken by the subset of the package delivery\n",
    "24. segment_osrm_distance – This is the OSRM distance. Distance covered by subset of the package delivery\n",
    "25. segment_factor – Unknown field"
   ]
  },
  {
   "cell_type": "markdown",
   "id": "f57b19bb",
   "metadata": {},
   "source": [
    "## Importing the Libraries"
   ]
  },
  {
   "cell_type": "code",
   "execution_count": 1,
   "id": "d7949dfe",
   "metadata": {},
   "outputs": [],
   "source": [
    "import numpy as np\n",
    "import pandas as pd\n",
    "import matplotlib.pyplot as plt\n",
    "import seaborn as sns\n",
    "from scipy import stats"
   ]
  },
  {
   "cell_type": "code",
   "execution_count": 2,
   "id": "6b002acb",
   "metadata": {},
   "outputs": [],
   "source": [
    "df = pd.read_csv(\"delhivery_data.csv\")"
   ]
  },
  {
   "cell_type": "code",
   "execution_count": 3,
   "id": "a459522b",
   "metadata": {},
   "outputs": [
    {
     "data": {
      "text/html": [
       "<div>\n",
       "<style scoped>\n",
       "    .dataframe tbody tr th:only-of-type {\n",
       "        vertical-align: middle;\n",
       "    }\n",
       "\n",
       "    .dataframe tbody tr th {\n",
       "        vertical-align: top;\n",
       "    }\n",
       "\n",
       "    .dataframe thead th {\n",
       "        text-align: right;\n",
       "    }\n",
       "</style>\n",
       "<table border=\"1\" class=\"dataframe\">\n",
       "  <thead>\n",
       "    <tr style=\"text-align: right;\">\n",
       "      <th></th>\n",
       "      <th>data</th>\n",
       "      <th>trip_creation_time</th>\n",
       "      <th>route_schedule_uuid</th>\n",
       "      <th>route_type</th>\n",
       "      <th>trip_uuid</th>\n",
       "      <th>source_center</th>\n",
       "      <th>source_name</th>\n",
       "      <th>destination_center</th>\n",
       "      <th>destination_name</th>\n",
       "      <th>od_start_time</th>\n",
       "      <th>...</th>\n",
       "      <th>cutoff_timestamp</th>\n",
       "      <th>actual_distance_to_destination</th>\n",
       "      <th>actual_time</th>\n",
       "      <th>osrm_time</th>\n",
       "      <th>osrm_distance</th>\n",
       "      <th>factor</th>\n",
       "      <th>segment_actual_time</th>\n",
       "      <th>segment_osrm_time</th>\n",
       "      <th>segment_osrm_distance</th>\n",
       "      <th>segment_factor</th>\n",
       "    </tr>\n",
       "  </thead>\n",
       "  <tbody>\n",
       "    <tr>\n",
       "      <th>0</th>\n",
       "      <td>training</td>\n",
       "      <td>2018-09-20 02:35:36.476840</td>\n",
       "      <td>thanos::sroute:eb7bfc78-b351-4c0e-a951-fa3d5c3...</td>\n",
       "      <td>Carting</td>\n",
       "      <td>trip-153741093647649320</td>\n",
       "      <td>IND388121AAA</td>\n",
       "      <td>Anand_VUNagar_DC (Gujarat)</td>\n",
       "      <td>IND388620AAB</td>\n",
       "      <td>Khambhat_MotvdDPP_D (Gujarat)</td>\n",
       "      <td>2018-09-20 03:21:32.418600</td>\n",
       "      <td>...</td>\n",
       "      <td>2018-09-20 04:27:55</td>\n",
       "      <td>10.435660</td>\n",
       "      <td>14.0</td>\n",
       "      <td>11.0</td>\n",
       "      <td>11.9653</td>\n",
       "      <td>1.272727</td>\n",
       "      <td>14.0</td>\n",
       "      <td>11.0</td>\n",
       "      <td>11.9653</td>\n",
       "      <td>1.272727</td>\n",
       "    </tr>\n",
       "    <tr>\n",
       "      <th>1</th>\n",
       "      <td>training</td>\n",
       "      <td>2018-09-20 02:35:36.476840</td>\n",
       "      <td>thanos::sroute:eb7bfc78-b351-4c0e-a951-fa3d5c3...</td>\n",
       "      <td>Carting</td>\n",
       "      <td>trip-153741093647649320</td>\n",
       "      <td>IND388121AAA</td>\n",
       "      <td>Anand_VUNagar_DC (Gujarat)</td>\n",
       "      <td>IND388620AAB</td>\n",
       "      <td>Khambhat_MotvdDPP_D (Gujarat)</td>\n",
       "      <td>2018-09-20 03:21:32.418600</td>\n",
       "      <td>...</td>\n",
       "      <td>2018-09-20 04:17:55</td>\n",
       "      <td>18.936842</td>\n",
       "      <td>24.0</td>\n",
       "      <td>20.0</td>\n",
       "      <td>21.7243</td>\n",
       "      <td>1.200000</td>\n",
       "      <td>10.0</td>\n",
       "      <td>9.0</td>\n",
       "      <td>9.7590</td>\n",
       "      <td>1.111111</td>\n",
       "    </tr>\n",
       "    <tr>\n",
       "      <th>2</th>\n",
       "      <td>training</td>\n",
       "      <td>2018-09-20 02:35:36.476840</td>\n",
       "      <td>thanos::sroute:eb7bfc78-b351-4c0e-a951-fa3d5c3...</td>\n",
       "      <td>Carting</td>\n",
       "      <td>trip-153741093647649320</td>\n",
       "      <td>IND388121AAA</td>\n",
       "      <td>Anand_VUNagar_DC (Gujarat)</td>\n",
       "      <td>IND388620AAB</td>\n",
       "      <td>Khambhat_MotvdDPP_D (Gujarat)</td>\n",
       "      <td>2018-09-20 03:21:32.418600</td>\n",
       "      <td>...</td>\n",
       "      <td>2018-09-20 04:01:19.505586</td>\n",
       "      <td>27.637279</td>\n",
       "      <td>40.0</td>\n",
       "      <td>28.0</td>\n",
       "      <td>32.5395</td>\n",
       "      <td>1.428571</td>\n",
       "      <td>16.0</td>\n",
       "      <td>7.0</td>\n",
       "      <td>10.8152</td>\n",
       "      <td>2.285714</td>\n",
       "    </tr>\n",
       "    <tr>\n",
       "      <th>3</th>\n",
       "      <td>training</td>\n",
       "      <td>2018-09-20 02:35:36.476840</td>\n",
       "      <td>thanos::sroute:eb7bfc78-b351-4c0e-a951-fa3d5c3...</td>\n",
       "      <td>Carting</td>\n",
       "      <td>trip-153741093647649320</td>\n",
       "      <td>IND388121AAA</td>\n",
       "      <td>Anand_VUNagar_DC (Gujarat)</td>\n",
       "      <td>IND388620AAB</td>\n",
       "      <td>Khambhat_MotvdDPP_D (Gujarat)</td>\n",
       "      <td>2018-09-20 03:21:32.418600</td>\n",
       "      <td>...</td>\n",
       "      <td>2018-09-20 03:39:57</td>\n",
       "      <td>36.118028</td>\n",
       "      <td>62.0</td>\n",
       "      <td>40.0</td>\n",
       "      <td>45.5620</td>\n",
       "      <td>1.550000</td>\n",
       "      <td>21.0</td>\n",
       "      <td>12.0</td>\n",
       "      <td>13.0224</td>\n",
       "      <td>1.750000</td>\n",
       "    </tr>\n",
       "    <tr>\n",
       "      <th>4</th>\n",
       "      <td>training</td>\n",
       "      <td>2018-09-20 02:35:36.476840</td>\n",
       "      <td>thanos::sroute:eb7bfc78-b351-4c0e-a951-fa3d5c3...</td>\n",
       "      <td>Carting</td>\n",
       "      <td>trip-153741093647649320</td>\n",
       "      <td>IND388121AAA</td>\n",
       "      <td>Anand_VUNagar_DC (Gujarat)</td>\n",
       "      <td>IND388620AAB</td>\n",
       "      <td>Khambhat_MotvdDPP_D (Gujarat)</td>\n",
       "      <td>2018-09-20 03:21:32.418600</td>\n",
       "      <td>...</td>\n",
       "      <td>2018-09-20 03:33:55</td>\n",
       "      <td>39.386040</td>\n",
       "      <td>68.0</td>\n",
       "      <td>44.0</td>\n",
       "      <td>54.2181</td>\n",
       "      <td>1.545455</td>\n",
       "      <td>6.0</td>\n",
       "      <td>5.0</td>\n",
       "      <td>3.9153</td>\n",
       "      <td>1.200000</td>\n",
       "    </tr>\n",
       "  </tbody>\n",
       "</table>\n",
       "<p>5 rows × 24 columns</p>\n",
       "</div>"
      ],
      "text/plain": [
       "       data          trip_creation_time  \\\n",
       "0  training  2018-09-20 02:35:36.476840   \n",
       "1  training  2018-09-20 02:35:36.476840   \n",
       "2  training  2018-09-20 02:35:36.476840   \n",
       "3  training  2018-09-20 02:35:36.476840   \n",
       "4  training  2018-09-20 02:35:36.476840   \n",
       "\n",
       "                                 route_schedule_uuid route_type  \\\n",
       "0  thanos::sroute:eb7bfc78-b351-4c0e-a951-fa3d5c3...    Carting   \n",
       "1  thanos::sroute:eb7bfc78-b351-4c0e-a951-fa3d5c3...    Carting   \n",
       "2  thanos::sroute:eb7bfc78-b351-4c0e-a951-fa3d5c3...    Carting   \n",
       "3  thanos::sroute:eb7bfc78-b351-4c0e-a951-fa3d5c3...    Carting   \n",
       "4  thanos::sroute:eb7bfc78-b351-4c0e-a951-fa3d5c3...    Carting   \n",
       "\n",
       "                 trip_uuid source_center                 source_name  \\\n",
       "0  trip-153741093647649320  IND388121AAA  Anand_VUNagar_DC (Gujarat)   \n",
       "1  trip-153741093647649320  IND388121AAA  Anand_VUNagar_DC (Gujarat)   \n",
       "2  trip-153741093647649320  IND388121AAA  Anand_VUNagar_DC (Gujarat)   \n",
       "3  trip-153741093647649320  IND388121AAA  Anand_VUNagar_DC (Gujarat)   \n",
       "4  trip-153741093647649320  IND388121AAA  Anand_VUNagar_DC (Gujarat)   \n",
       "\n",
       "  destination_center               destination_name  \\\n",
       "0       IND388620AAB  Khambhat_MotvdDPP_D (Gujarat)   \n",
       "1       IND388620AAB  Khambhat_MotvdDPP_D (Gujarat)   \n",
       "2       IND388620AAB  Khambhat_MotvdDPP_D (Gujarat)   \n",
       "3       IND388620AAB  Khambhat_MotvdDPP_D (Gujarat)   \n",
       "4       IND388620AAB  Khambhat_MotvdDPP_D (Gujarat)   \n",
       "\n",
       "                od_start_time  ...            cutoff_timestamp  \\\n",
       "0  2018-09-20 03:21:32.418600  ...         2018-09-20 04:27:55   \n",
       "1  2018-09-20 03:21:32.418600  ...         2018-09-20 04:17:55   \n",
       "2  2018-09-20 03:21:32.418600  ...  2018-09-20 04:01:19.505586   \n",
       "3  2018-09-20 03:21:32.418600  ...         2018-09-20 03:39:57   \n",
       "4  2018-09-20 03:21:32.418600  ...         2018-09-20 03:33:55   \n",
       "\n",
       "   actual_distance_to_destination  actual_time  osrm_time osrm_distance  \\\n",
       "0                       10.435660         14.0       11.0       11.9653   \n",
       "1                       18.936842         24.0       20.0       21.7243   \n",
       "2                       27.637279         40.0       28.0       32.5395   \n",
       "3                       36.118028         62.0       40.0       45.5620   \n",
       "4                       39.386040         68.0       44.0       54.2181   \n",
       "\n",
       "     factor  segment_actual_time  segment_osrm_time  segment_osrm_distance  \\\n",
       "0  1.272727                 14.0               11.0                11.9653   \n",
       "1  1.200000                 10.0                9.0                 9.7590   \n",
       "2  1.428571                 16.0                7.0                10.8152   \n",
       "3  1.550000                 21.0               12.0                13.0224   \n",
       "4  1.545455                  6.0                5.0                 3.9153   \n",
       "\n",
       "   segment_factor  \n",
       "0        1.272727  \n",
       "1        1.111111  \n",
       "2        2.285714  \n",
       "3        1.750000  \n",
       "4        1.200000  \n",
       "\n",
       "[5 rows x 24 columns]"
      ]
     },
     "execution_count": 3,
     "metadata": {},
     "output_type": "execute_result"
    }
   ],
   "source": [
    "df.head()"
   ]
  },
  {
   "cell_type": "markdown",
   "id": "ba40efbb",
   "metadata": {},
   "source": [
    "## Exploratory data analysis"
   ]
  },
  {
   "cell_type": "code",
   "execution_count": 4,
   "id": "ee221f3a",
   "metadata": {},
   "outputs": [
    {
     "data": {
      "text/plain": [
       "(144867, 24)"
      ]
     },
     "execution_count": 4,
     "metadata": {},
     "output_type": "execute_result"
    }
   ],
   "source": [
    "df.shape"
   ]
  },
  {
   "cell_type": "code",
   "execution_count": 6,
   "id": "13149871",
   "metadata": {},
   "outputs": [
    {
     "name": "stdout",
     "output_type": "stream",
     "text": [
      "<class 'pandas.core.frame.DataFrame'>\n",
      "RangeIndex: 144867 entries, 0 to 144866\n",
      "Data columns (total 24 columns):\n",
      " #   Column                          Non-Null Count   Dtype  \n",
      "---  ------                          --------------   -----  \n",
      " 0   data                            144867 non-null  object \n",
      " 1   trip_creation_time              144867 non-null  object \n",
      " 2   route_schedule_uuid             144867 non-null  object \n",
      " 3   route_type                      144867 non-null  object \n",
      " 4   trip_uuid                       144867 non-null  object \n",
      " 5   source_center                   144867 non-null  object \n",
      " 6   source_name                     144574 non-null  object \n",
      " 7   destination_center              144867 non-null  object \n",
      " 8   destination_name                144606 non-null  object \n",
      " 9   od_start_time                   144867 non-null  object \n",
      " 10  od_end_time                     144867 non-null  object \n",
      " 11  start_scan_to_end_scan          144867 non-null  float64\n",
      " 12  is_cutoff                       144867 non-null  bool   \n",
      " 13  cutoff_factor                   144867 non-null  int64  \n",
      " 14  cutoff_timestamp                144867 non-null  object \n",
      " 15  actual_distance_to_destination  144867 non-null  float64\n",
      " 16  actual_time                     144867 non-null  float64\n",
      " 17  osrm_time                       144867 non-null  float64\n",
      " 18  osrm_distance                   144867 non-null  float64\n",
      " 19  factor                          144867 non-null  float64\n",
      " 20  segment_actual_time             144867 non-null  float64\n",
      " 21  segment_osrm_time               144867 non-null  float64\n",
      " 22  segment_osrm_distance           144867 non-null  float64\n",
      " 23  segment_factor                  144867 non-null  float64\n",
      "dtypes: bool(1), float64(10), int64(1), object(12)\n",
      "memory usage: 25.6+ MB\n"
     ]
    }
   ],
   "source": [
    "df.info()"
   ]
  },
  {
   "cell_type": "code",
   "execution_count": 7,
   "id": "e54bd4b9",
   "metadata": {},
   "outputs": [
    {
     "data": {
      "text/html": [
       "<div>\n",
       "<style scoped>\n",
       "    .dataframe tbody tr th:only-of-type {\n",
       "        vertical-align: middle;\n",
       "    }\n",
       "\n",
       "    .dataframe tbody tr th {\n",
       "        vertical-align: top;\n",
       "    }\n",
       "\n",
       "    .dataframe thead th {\n",
       "        text-align: right;\n",
       "    }\n",
       "</style>\n",
       "<table border=\"1\" class=\"dataframe\">\n",
       "  <thead>\n",
       "    <tr style=\"text-align: right;\">\n",
       "      <th></th>\n",
       "      <th>start_scan_to_end_scan</th>\n",
       "      <th>cutoff_factor</th>\n",
       "      <th>actual_distance_to_destination</th>\n",
       "      <th>actual_time</th>\n",
       "      <th>osrm_time</th>\n",
       "      <th>osrm_distance</th>\n",
       "      <th>factor</th>\n",
       "      <th>segment_actual_time</th>\n",
       "      <th>segment_osrm_time</th>\n",
       "      <th>segment_osrm_distance</th>\n",
       "      <th>segment_factor</th>\n",
       "    </tr>\n",
       "  </thead>\n",
       "  <tbody>\n",
       "    <tr>\n",
       "      <th>count</th>\n",
       "      <td>144867.000000</td>\n",
       "      <td>144867.000000</td>\n",
       "      <td>144867.000000</td>\n",
       "      <td>144867.000000</td>\n",
       "      <td>144867.000000</td>\n",
       "      <td>144867.000000</td>\n",
       "      <td>144867.000000</td>\n",
       "      <td>144867.000000</td>\n",
       "      <td>144867.000000</td>\n",
       "      <td>144867.00000</td>\n",
       "      <td>144867.000000</td>\n",
       "    </tr>\n",
       "    <tr>\n",
       "      <th>mean</th>\n",
       "      <td>961.262986</td>\n",
       "      <td>232.926567</td>\n",
       "      <td>234.073372</td>\n",
       "      <td>416.927527</td>\n",
       "      <td>213.868272</td>\n",
       "      <td>284.771297</td>\n",
       "      <td>2.120107</td>\n",
       "      <td>36.196111</td>\n",
       "      <td>18.507548</td>\n",
       "      <td>22.82902</td>\n",
       "      <td>2.218368</td>\n",
       "    </tr>\n",
       "    <tr>\n",
       "      <th>std</th>\n",
       "      <td>1037.012769</td>\n",
       "      <td>344.755577</td>\n",
       "      <td>344.990009</td>\n",
       "      <td>598.103621</td>\n",
       "      <td>308.011085</td>\n",
       "      <td>421.119294</td>\n",
       "      <td>1.715421</td>\n",
       "      <td>53.571158</td>\n",
       "      <td>14.775960</td>\n",
       "      <td>17.86066</td>\n",
       "      <td>4.847530</td>\n",
       "    </tr>\n",
       "    <tr>\n",
       "      <th>min</th>\n",
       "      <td>20.000000</td>\n",
       "      <td>9.000000</td>\n",
       "      <td>9.000045</td>\n",
       "      <td>9.000000</td>\n",
       "      <td>6.000000</td>\n",
       "      <td>9.008200</td>\n",
       "      <td>0.144000</td>\n",
       "      <td>-244.000000</td>\n",
       "      <td>0.000000</td>\n",
       "      <td>0.00000</td>\n",
       "      <td>-23.444444</td>\n",
       "    </tr>\n",
       "    <tr>\n",
       "      <th>25%</th>\n",
       "      <td>161.000000</td>\n",
       "      <td>22.000000</td>\n",
       "      <td>23.355874</td>\n",
       "      <td>51.000000</td>\n",
       "      <td>27.000000</td>\n",
       "      <td>29.914700</td>\n",
       "      <td>1.604264</td>\n",
       "      <td>20.000000</td>\n",
       "      <td>11.000000</td>\n",
       "      <td>12.07010</td>\n",
       "      <td>1.347826</td>\n",
       "    </tr>\n",
       "    <tr>\n",
       "      <th>50%</th>\n",
       "      <td>449.000000</td>\n",
       "      <td>66.000000</td>\n",
       "      <td>66.126571</td>\n",
       "      <td>132.000000</td>\n",
       "      <td>64.000000</td>\n",
       "      <td>78.525800</td>\n",
       "      <td>1.857143</td>\n",
       "      <td>29.000000</td>\n",
       "      <td>17.000000</td>\n",
       "      <td>23.51300</td>\n",
       "      <td>1.684211</td>\n",
       "    </tr>\n",
       "    <tr>\n",
       "      <th>75%</th>\n",
       "      <td>1634.000000</td>\n",
       "      <td>286.000000</td>\n",
       "      <td>286.708875</td>\n",
       "      <td>513.000000</td>\n",
       "      <td>257.000000</td>\n",
       "      <td>343.193250</td>\n",
       "      <td>2.213483</td>\n",
       "      <td>40.000000</td>\n",
       "      <td>22.000000</td>\n",
       "      <td>27.81325</td>\n",
       "      <td>2.250000</td>\n",
       "    </tr>\n",
       "    <tr>\n",
       "      <th>max</th>\n",
       "      <td>7898.000000</td>\n",
       "      <td>1927.000000</td>\n",
       "      <td>1927.447705</td>\n",
       "      <td>4532.000000</td>\n",
       "      <td>1686.000000</td>\n",
       "      <td>2326.199100</td>\n",
       "      <td>77.387097</td>\n",
       "      <td>3051.000000</td>\n",
       "      <td>1611.000000</td>\n",
       "      <td>2191.40370</td>\n",
       "      <td>574.250000</td>\n",
       "    </tr>\n",
       "  </tbody>\n",
       "</table>\n",
       "</div>"
      ],
      "text/plain": [
       "       start_scan_to_end_scan  cutoff_factor  actual_distance_to_destination  \\\n",
       "count           144867.000000  144867.000000                   144867.000000   \n",
       "mean               961.262986     232.926567                      234.073372   \n",
       "std               1037.012769     344.755577                      344.990009   \n",
       "min                 20.000000       9.000000                        9.000045   \n",
       "25%                161.000000      22.000000                       23.355874   \n",
       "50%                449.000000      66.000000                       66.126571   \n",
       "75%               1634.000000     286.000000                      286.708875   \n",
       "max               7898.000000    1927.000000                     1927.447705   \n",
       "\n",
       "         actual_time      osrm_time  osrm_distance         factor  \\\n",
       "count  144867.000000  144867.000000  144867.000000  144867.000000   \n",
       "mean      416.927527     213.868272     284.771297       2.120107   \n",
       "std       598.103621     308.011085     421.119294       1.715421   \n",
       "min         9.000000       6.000000       9.008200       0.144000   \n",
       "25%        51.000000      27.000000      29.914700       1.604264   \n",
       "50%       132.000000      64.000000      78.525800       1.857143   \n",
       "75%       513.000000     257.000000     343.193250       2.213483   \n",
       "max      4532.000000    1686.000000    2326.199100      77.387097   \n",
       "\n",
       "       segment_actual_time  segment_osrm_time  segment_osrm_distance  \\\n",
       "count        144867.000000      144867.000000           144867.00000   \n",
       "mean             36.196111          18.507548               22.82902   \n",
       "std              53.571158          14.775960               17.86066   \n",
       "min            -244.000000           0.000000                0.00000   \n",
       "25%              20.000000          11.000000               12.07010   \n",
       "50%              29.000000          17.000000               23.51300   \n",
       "75%              40.000000          22.000000               27.81325   \n",
       "max            3051.000000        1611.000000             2191.40370   \n",
       "\n",
       "       segment_factor  \n",
       "count   144867.000000  \n",
       "mean         2.218368  \n",
       "std          4.847530  \n",
       "min        -23.444444  \n",
       "25%          1.347826  \n",
       "50%          1.684211  \n",
       "75%          2.250000  \n",
       "max        574.250000  "
      ]
     },
     "execution_count": 7,
     "metadata": {},
     "output_type": "execute_result"
    }
   ],
   "source": [
    "#For Numerical columns\n",
    "df.describe()"
   ]
  },
  {
   "cell_type": "code",
   "execution_count": 8,
   "id": "18d936d3",
   "metadata": {},
   "outputs": [
    {
     "data": {
      "text/html": [
       "<div>\n",
       "<style scoped>\n",
       "    .dataframe tbody tr th:only-of-type {\n",
       "        vertical-align: middle;\n",
       "    }\n",
       "\n",
       "    .dataframe tbody tr th {\n",
       "        vertical-align: top;\n",
       "    }\n",
       "\n",
       "    .dataframe thead th {\n",
       "        text-align: right;\n",
       "    }\n",
       "</style>\n",
       "<table border=\"1\" class=\"dataframe\">\n",
       "  <thead>\n",
       "    <tr style=\"text-align: right;\">\n",
       "      <th></th>\n",
       "      <th>data</th>\n",
       "      <th>trip_creation_time</th>\n",
       "      <th>route_schedule_uuid</th>\n",
       "      <th>route_type</th>\n",
       "      <th>trip_uuid</th>\n",
       "      <th>source_center</th>\n",
       "      <th>source_name</th>\n",
       "      <th>destination_center</th>\n",
       "      <th>destination_name</th>\n",
       "      <th>od_start_time</th>\n",
       "      <th>od_end_time</th>\n",
       "      <th>cutoff_timestamp</th>\n",
       "    </tr>\n",
       "  </thead>\n",
       "  <tbody>\n",
       "    <tr>\n",
       "      <th>count</th>\n",
       "      <td>144867</td>\n",
       "      <td>144867</td>\n",
       "      <td>144867</td>\n",
       "      <td>144867</td>\n",
       "      <td>144867</td>\n",
       "      <td>144867</td>\n",
       "      <td>144574</td>\n",
       "      <td>144867</td>\n",
       "      <td>144606</td>\n",
       "      <td>144867</td>\n",
       "      <td>144867</td>\n",
       "      <td>144867</td>\n",
       "    </tr>\n",
       "    <tr>\n",
       "      <th>unique</th>\n",
       "      <td>2</td>\n",
       "      <td>14817</td>\n",
       "      <td>1504</td>\n",
       "      <td>2</td>\n",
       "      <td>14817</td>\n",
       "      <td>1508</td>\n",
       "      <td>1498</td>\n",
       "      <td>1481</td>\n",
       "      <td>1468</td>\n",
       "      <td>26369</td>\n",
       "      <td>26369</td>\n",
       "      <td>93180</td>\n",
       "    </tr>\n",
       "    <tr>\n",
       "      <th>top</th>\n",
       "      <td>training</td>\n",
       "      <td>2018-09-28 05:23:15.359220</td>\n",
       "      <td>thanos::sroute:4029a8a2-6c74-4b7e-a6d8-f9e069f...</td>\n",
       "      <td>FTL</td>\n",
       "      <td>trip-153811219535896559</td>\n",
       "      <td>IND000000ACB</td>\n",
       "      <td>Gurgaon_Bilaspur_HB (Haryana)</td>\n",
       "      <td>IND000000ACB</td>\n",
       "      <td>Gurgaon_Bilaspur_HB (Haryana)</td>\n",
       "      <td>2018-09-21 18:37:09.322207</td>\n",
       "      <td>2018-09-24 09:59:15.691618</td>\n",
       "      <td>2018-09-24 05:19:20</td>\n",
       "    </tr>\n",
       "    <tr>\n",
       "      <th>freq</th>\n",
       "      <td>104858</td>\n",
       "      <td>101</td>\n",
       "      <td>1812</td>\n",
       "      <td>99660</td>\n",
       "      <td>101</td>\n",
       "      <td>23347</td>\n",
       "      <td>23347</td>\n",
       "      <td>15192</td>\n",
       "      <td>15192</td>\n",
       "      <td>81</td>\n",
       "      <td>81</td>\n",
       "      <td>40</td>\n",
       "    </tr>\n",
       "  </tbody>\n",
       "</table>\n",
       "</div>"
      ],
      "text/plain": [
       "            data          trip_creation_time  \\\n",
       "count     144867                      144867   \n",
       "unique         2                       14817   \n",
       "top     training  2018-09-28 05:23:15.359220   \n",
       "freq      104858                         101   \n",
       "\n",
       "                                      route_schedule_uuid route_type  \\\n",
       "count                                              144867     144867   \n",
       "unique                                               1504          2   \n",
       "top     thanos::sroute:4029a8a2-6c74-4b7e-a6d8-f9e069f...        FTL   \n",
       "freq                                                 1812      99660   \n",
       "\n",
       "                      trip_uuid source_center                    source_name  \\\n",
       "count                    144867        144867                         144574   \n",
       "unique                    14817          1508                           1498   \n",
       "top     trip-153811219535896559  IND000000ACB  Gurgaon_Bilaspur_HB (Haryana)   \n",
       "freq                        101         23347                          23347   \n",
       "\n",
       "       destination_center               destination_name  \\\n",
       "count              144867                         144606   \n",
       "unique               1481                           1468   \n",
       "top          IND000000ACB  Gurgaon_Bilaspur_HB (Haryana)   \n",
       "freq                15192                          15192   \n",
       "\n",
       "                     od_start_time                 od_end_time  \\\n",
       "count                       144867                      144867   \n",
       "unique                       26369                       26369   \n",
       "top     2018-09-21 18:37:09.322207  2018-09-24 09:59:15.691618   \n",
       "freq                            81                          81   \n",
       "\n",
       "           cutoff_timestamp  \n",
       "count                144867  \n",
       "unique                93180  \n",
       "top     2018-09-24 05:19:20  \n",
       "freq                     40  "
      ]
     },
     "execution_count": 8,
     "metadata": {},
     "output_type": "execute_result"
    }
   ],
   "source": [
    "#For categorical columns\n",
    "df.describe(include = ['object'])"
   ]
  },
  {
   "cell_type": "code",
   "execution_count": 9,
   "id": "43166bc4",
   "metadata": {},
   "outputs": [
    {
     "data": {
      "text/plain": [
       "data                                   2\n",
       "trip_creation_time                 14817\n",
       "route_schedule_uuid                 1504\n",
       "route_type                             2\n",
       "trip_uuid                          14817\n",
       "source_center                       1508\n",
       "source_name                         1498\n",
       "destination_center                  1481\n",
       "destination_name                    1468\n",
       "od_start_time                      26369\n",
       "od_end_time                        26369\n",
       "start_scan_to_end_scan              1915\n",
       "is_cutoff                              2\n",
       "cutoff_factor                        501\n",
       "cutoff_timestamp                   93180\n",
       "actual_distance_to_destination    144515\n",
       "actual_time                         3182\n",
       "osrm_time                           1531\n",
       "osrm_distance                     138046\n",
       "factor                             45641\n",
       "segment_actual_time                  747\n",
       "segment_osrm_time                    214\n",
       "segment_osrm_distance             113799\n",
       "segment_factor                      5675\n",
       "dtype: int64"
      ]
     },
     "execution_count": 9,
     "metadata": {},
     "output_type": "execute_result"
    }
   ],
   "source": [
    "df.nunique()"
   ]
  },
  {
   "cell_type": "markdown",
   "id": "50479302",
   "metadata": {},
   "source": [
    "### Data Cleaning"
   ]
  },
  {
   "cell_type": "markdown",
   "id": "6bc538e7",
   "metadata": {},
   "source": [
    "#### Removing all the unknown fields & type conversion"
   ]
  },
  {
   "cell_type": "code",
   "execution_count": 10,
   "id": "a364d832",
   "metadata": {},
   "outputs": [],
   "source": [
    "df.dropna(how='any', inplace=True)\n",
    "df.reset_index(drop=True, inplace=True)"
   ]
  },
  {
   "cell_type": "code",
   "execution_count": 11,
   "id": "c14894e4",
   "metadata": {},
   "outputs": [],
   "source": [
    "df.drop(['is_cutoff', 'cutoff_factor', 'cutoff_timestamp', 'factor', 'segment_factor'], axis=1, inplace=True)"
   ]
  },
  {
   "cell_type": "code",
   "execution_count": 12,
   "id": "f6ee9e77",
   "metadata": {},
   "outputs": [],
   "source": [
    "df['route_type'] = df['route_type'].astype('category')\n",
    "df['trip_creation_time'] = pd.to_datetime(df['trip_creation_time'])\n",
    "df['od_start_time'] = pd.to_datetime(df['od_start_time'])\n",
    "df['od_end_time'] = pd.to_datetime(df['od_end_time'])"
   ]
  },
  {
   "cell_type": "code",
   "execution_count": 13,
   "id": "6f4b5624",
   "metadata": {},
   "outputs": [
    {
     "data": {
      "text/html": [
       "<div>\n",
       "<style scoped>\n",
       "    .dataframe tbody tr th:only-of-type {\n",
       "        vertical-align: middle;\n",
       "    }\n",
       "\n",
       "    .dataframe tbody tr th {\n",
       "        vertical-align: top;\n",
       "    }\n",
       "\n",
       "    .dataframe thead th {\n",
       "        text-align: right;\n",
       "    }\n",
       "</style>\n",
       "<table border=\"1\" class=\"dataframe\">\n",
       "  <thead>\n",
       "    <tr style=\"text-align: right;\">\n",
       "      <th></th>\n",
       "      <th>data</th>\n",
       "      <th>trip_creation_time</th>\n",
       "      <th>route_schedule_uuid</th>\n",
       "      <th>route_type</th>\n",
       "      <th>trip_uuid</th>\n",
       "      <th>source_center</th>\n",
       "      <th>source_name</th>\n",
       "      <th>destination_center</th>\n",
       "      <th>destination_name</th>\n",
       "      <th>od_start_time</th>\n",
       "      <th>od_end_time</th>\n",
       "      <th>start_scan_to_end_scan</th>\n",
       "      <th>actual_distance_to_destination</th>\n",
       "      <th>actual_time</th>\n",
       "      <th>osrm_time</th>\n",
       "      <th>osrm_distance</th>\n",
       "      <th>segment_actual_time</th>\n",
       "      <th>segment_osrm_time</th>\n",
       "      <th>segment_osrm_distance</th>\n",
       "    </tr>\n",
       "  </thead>\n",
       "  <tbody>\n",
       "    <tr>\n",
       "      <th>0</th>\n",
       "      <td>training</td>\n",
       "      <td>2018-09-20 02:35:36.476840</td>\n",
       "      <td>thanos::sroute:eb7bfc78-b351-4c0e-a951-fa3d5c3...</td>\n",
       "      <td>Carting</td>\n",
       "      <td>trip-153741093647649320</td>\n",
       "      <td>IND388121AAA</td>\n",
       "      <td>Anand_VUNagar_DC (Gujarat)</td>\n",
       "      <td>IND388620AAB</td>\n",
       "      <td>Khambhat_MotvdDPP_D (Gujarat)</td>\n",
       "      <td>2018-09-20 03:21:32.418600</td>\n",
       "      <td>2018-09-20 04:47:45.236797</td>\n",
       "      <td>86.0</td>\n",
       "      <td>10.435660</td>\n",
       "      <td>14.0</td>\n",
       "      <td>11.0</td>\n",
       "      <td>11.9653</td>\n",
       "      <td>14.0</td>\n",
       "      <td>11.0</td>\n",
       "      <td>11.9653</td>\n",
       "    </tr>\n",
       "    <tr>\n",
       "      <th>1</th>\n",
       "      <td>training</td>\n",
       "      <td>2018-09-20 02:35:36.476840</td>\n",
       "      <td>thanos::sroute:eb7bfc78-b351-4c0e-a951-fa3d5c3...</td>\n",
       "      <td>Carting</td>\n",
       "      <td>trip-153741093647649320</td>\n",
       "      <td>IND388121AAA</td>\n",
       "      <td>Anand_VUNagar_DC (Gujarat)</td>\n",
       "      <td>IND388620AAB</td>\n",
       "      <td>Khambhat_MotvdDPP_D (Gujarat)</td>\n",
       "      <td>2018-09-20 03:21:32.418600</td>\n",
       "      <td>2018-09-20 04:47:45.236797</td>\n",
       "      <td>86.0</td>\n",
       "      <td>18.936842</td>\n",
       "      <td>24.0</td>\n",
       "      <td>20.0</td>\n",
       "      <td>21.7243</td>\n",
       "      <td>10.0</td>\n",
       "      <td>9.0</td>\n",
       "      <td>9.7590</td>\n",
       "    </tr>\n",
       "    <tr>\n",
       "      <th>2</th>\n",
       "      <td>training</td>\n",
       "      <td>2018-09-20 02:35:36.476840</td>\n",
       "      <td>thanos::sroute:eb7bfc78-b351-4c0e-a951-fa3d5c3...</td>\n",
       "      <td>Carting</td>\n",
       "      <td>trip-153741093647649320</td>\n",
       "      <td>IND388121AAA</td>\n",
       "      <td>Anand_VUNagar_DC (Gujarat)</td>\n",
       "      <td>IND388620AAB</td>\n",
       "      <td>Khambhat_MotvdDPP_D (Gujarat)</td>\n",
       "      <td>2018-09-20 03:21:32.418600</td>\n",
       "      <td>2018-09-20 04:47:45.236797</td>\n",
       "      <td>86.0</td>\n",
       "      <td>27.637279</td>\n",
       "      <td>40.0</td>\n",
       "      <td>28.0</td>\n",
       "      <td>32.5395</td>\n",
       "      <td>16.0</td>\n",
       "      <td>7.0</td>\n",
       "      <td>10.8152</td>\n",
       "    </tr>\n",
       "  </tbody>\n",
       "</table>\n",
       "</div>"
      ],
      "text/plain": [
       "       data         trip_creation_time  \\\n",
       "0  training 2018-09-20 02:35:36.476840   \n",
       "1  training 2018-09-20 02:35:36.476840   \n",
       "2  training 2018-09-20 02:35:36.476840   \n",
       "\n",
       "                                 route_schedule_uuid route_type  \\\n",
       "0  thanos::sroute:eb7bfc78-b351-4c0e-a951-fa3d5c3...    Carting   \n",
       "1  thanos::sroute:eb7bfc78-b351-4c0e-a951-fa3d5c3...    Carting   \n",
       "2  thanos::sroute:eb7bfc78-b351-4c0e-a951-fa3d5c3...    Carting   \n",
       "\n",
       "                 trip_uuid source_center                 source_name  \\\n",
       "0  trip-153741093647649320  IND388121AAA  Anand_VUNagar_DC (Gujarat)   \n",
       "1  trip-153741093647649320  IND388121AAA  Anand_VUNagar_DC (Gujarat)   \n",
       "2  trip-153741093647649320  IND388121AAA  Anand_VUNagar_DC (Gujarat)   \n",
       "\n",
       "  destination_center               destination_name  \\\n",
       "0       IND388620AAB  Khambhat_MotvdDPP_D (Gujarat)   \n",
       "1       IND388620AAB  Khambhat_MotvdDPP_D (Gujarat)   \n",
       "2       IND388620AAB  Khambhat_MotvdDPP_D (Gujarat)   \n",
       "\n",
       "               od_start_time                od_end_time  \\\n",
       "0 2018-09-20 03:21:32.418600 2018-09-20 04:47:45.236797   \n",
       "1 2018-09-20 03:21:32.418600 2018-09-20 04:47:45.236797   \n",
       "2 2018-09-20 03:21:32.418600 2018-09-20 04:47:45.236797   \n",
       "\n",
       "   start_scan_to_end_scan  actual_distance_to_destination  actual_time  \\\n",
       "0                    86.0                       10.435660         14.0   \n",
       "1                    86.0                       18.936842         24.0   \n",
       "2                    86.0                       27.637279         40.0   \n",
       "\n",
       "   osrm_time  osrm_distance  segment_actual_time  segment_osrm_time  \\\n",
       "0       11.0        11.9653                 14.0               11.0   \n",
       "1       20.0        21.7243                 10.0                9.0   \n",
       "2       28.0        32.5395                 16.0                7.0   \n",
       "\n",
       "   segment_osrm_distance  \n",
       "0                11.9653  \n",
       "1                 9.7590  \n",
       "2                10.8152  "
      ]
     },
     "execution_count": 13,
     "metadata": {},
     "output_type": "execute_result"
    }
   ],
   "source": [
    "df.head(3)"
   ]
  },
  {
   "cell_type": "markdown",
   "id": "22d5111e",
   "metadata": {},
   "source": [
    "## Building new features"
   ]
  },
  {
   "cell_type": "markdown",
   "id": "50722b3f",
   "metadata": {},
   "source": [
    "### Aggregate on segment_key = trip_uuid + source_id + destination_id"
   ]
  },
  {
   "cell_type": "code",
   "execution_count": 14,
   "id": "7450d61a",
   "metadata": {},
   "outputs": [
    {
     "data": {
      "text/html": [
       "<div>\n",
       "<style scoped>\n",
       "    .dataframe tbody tr th:only-of-type {\n",
       "        vertical-align: middle;\n",
       "    }\n",
       "\n",
       "    .dataframe tbody tr th {\n",
       "        vertical-align: top;\n",
       "    }\n",
       "\n",
       "    .dataframe thead th {\n",
       "        text-align: right;\n",
       "    }\n",
       "</style>\n",
       "<table border=\"1\" class=\"dataframe\">\n",
       "  <thead>\n",
       "    <tr style=\"text-align: right;\">\n",
       "      <th></th>\n",
       "      <th>segment_key</th>\n",
       "      <th>segment_actual_time_sum</th>\n",
       "      <th>segment_osrm_time_sum</th>\n",
       "      <th>segment_osrm_distance_sum</th>\n",
       "    </tr>\n",
       "  </thead>\n",
       "  <tbody>\n",
       "    <tr>\n",
       "      <th>0</th>\n",
       "      <td>trip-153741093647649320IND388121AAAIND388620AAB</td>\n",
       "      <td>14.0</td>\n",
       "      <td>11.0</td>\n",
       "      <td>11.9653</td>\n",
       "    </tr>\n",
       "    <tr>\n",
       "      <th>1</th>\n",
       "      <td>trip-153741093647649320IND388121AAAIND388620AAB</td>\n",
       "      <td>24.0</td>\n",
       "      <td>20.0</td>\n",
       "      <td>21.7243</td>\n",
       "    </tr>\n",
       "    <tr>\n",
       "      <th>2</th>\n",
       "      <td>trip-153741093647649320IND388121AAAIND388620AAB</td>\n",
       "      <td>40.0</td>\n",
       "      <td>27.0</td>\n",
       "      <td>32.5395</td>\n",
       "    </tr>\n",
       "    <tr>\n",
       "      <th>3</th>\n",
       "      <td>trip-153741093647649320IND388121AAAIND388620AAB</td>\n",
       "      <td>61.0</td>\n",
       "      <td>39.0</td>\n",
       "      <td>45.5619</td>\n",
       "    </tr>\n",
       "    <tr>\n",
       "      <th>4</th>\n",
       "      <td>trip-153741093647649320IND388121AAAIND388620AAB</td>\n",
       "      <td>67.0</td>\n",
       "      <td>44.0</td>\n",
       "      <td>49.4772</td>\n",
       "    </tr>\n",
       "    <tr>\n",
       "      <th>...</th>\n",
       "      <td>...</td>\n",
       "      <td>...</td>\n",
       "      <td>...</td>\n",
       "      <td>...</td>\n",
       "    </tr>\n",
       "    <tr>\n",
       "      <th>144311</th>\n",
       "      <td>trip-153746066843555182IND131028AABIND000000ACB</td>\n",
       "      <td>92.0</td>\n",
       "      <td>94.0</td>\n",
       "      <td>65.3487</td>\n",
       "    </tr>\n",
       "    <tr>\n",
       "      <th>144312</th>\n",
       "      <td>trip-153746066843555182IND131028AABIND000000ACB</td>\n",
       "      <td>118.0</td>\n",
       "      <td>115.0</td>\n",
       "      <td>82.7212</td>\n",
       "    </tr>\n",
       "    <tr>\n",
       "      <th>144313</th>\n",
       "      <td>trip-153746066843555182IND131028AABIND000000ACB</td>\n",
       "      <td>138.0</td>\n",
       "      <td>149.0</td>\n",
       "      <td>103.4265</td>\n",
       "    </tr>\n",
       "    <tr>\n",
       "      <th>144314</th>\n",
       "      <td>trip-153746066843555182IND131028AABIND000000ACB</td>\n",
       "      <td>155.0</td>\n",
       "      <td>176.0</td>\n",
       "      <td>122.3150</td>\n",
       "    </tr>\n",
       "    <tr>\n",
       "      <th>144315</th>\n",
       "      <td>trip-153746066843555182IND131028AABIND000000ACB</td>\n",
       "      <td>423.0</td>\n",
       "      <td>185.0</td>\n",
       "      <td>131.1238</td>\n",
       "    </tr>\n",
       "  </tbody>\n",
       "</table>\n",
       "<p>144316 rows × 4 columns</p>\n",
       "</div>"
      ],
      "text/plain": [
       "                                            segment_key  \\\n",
       "0       trip-153741093647649320IND388121AAAIND388620AAB   \n",
       "1       trip-153741093647649320IND388121AAAIND388620AAB   \n",
       "2       trip-153741093647649320IND388121AAAIND388620AAB   \n",
       "3       trip-153741093647649320IND388121AAAIND388620AAB   \n",
       "4       trip-153741093647649320IND388121AAAIND388620AAB   \n",
       "...                                                 ...   \n",
       "144311  trip-153746066843555182IND131028AABIND000000ACB   \n",
       "144312  trip-153746066843555182IND131028AABIND000000ACB   \n",
       "144313  trip-153746066843555182IND131028AABIND000000ACB   \n",
       "144314  trip-153746066843555182IND131028AABIND000000ACB   \n",
       "144315  trip-153746066843555182IND131028AABIND000000ACB   \n",
       "\n",
       "        segment_actual_time_sum  segment_osrm_time_sum  \\\n",
       "0                          14.0                   11.0   \n",
       "1                          24.0                   20.0   \n",
       "2                          40.0                   27.0   \n",
       "3                          61.0                   39.0   \n",
       "4                          67.0                   44.0   \n",
       "...                         ...                    ...   \n",
       "144311                     92.0                   94.0   \n",
       "144312                    118.0                  115.0   \n",
       "144313                    138.0                  149.0   \n",
       "144314                    155.0                  176.0   \n",
       "144315                    423.0                  185.0   \n",
       "\n",
       "        segment_osrm_distance_sum  \n",
       "0                         11.9653  \n",
       "1                         21.7243  \n",
       "2                         32.5395  \n",
       "3                         45.5619  \n",
       "4                         49.4772  \n",
       "...                           ...  \n",
       "144311                    65.3487  \n",
       "144312                    82.7212  \n",
       "144313                   103.4265  \n",
       "144314                   122.3150  \n",
       "144315                   131.1238  \n",
       "\n",
       "[144316 rows x 4 columns]"
      ]
     },
     "execution_count": 14,
     "metadata": {},
     "output_type": "execute_result"
    }
   ],
   "source": [
    "df['segment_key'] = df['trip_uuid'] + df['source_center'] + df['destination_center']\n",
    "segment_cols = ['segment_actual_time', 'segment_osrm_time', 'segment_osrm_distance']\n",
    "\n",
    "for col in segment_cols:\n",
    "  df[col + '_sum'] = df.groupby(['segment_key'])[col].cumsum()\n",
    "\n",
    "df[['segment_key'] + [col + '_sum' for col in segment_cols]]"
   ]
  },
  {
   "cell_type": "code",
   "execution_count": 15,
   "id": "f1c5b466",
   "metadata": {},
   "outputs": [
    {
     "data": {
      "text/plain": [
       "training    104632\n",
       "test         39684\n",
       "Name: data, dtype: int64"
      ]
     },
     "execution_count": 15,
     "metadata": {},
     "output_type": "execute_result"
    }
   ],
   "source": [
    "df['data'].value_counts()"
   ]
  },
  {
   "cell_type": "code",
   "execution_count": 16,
   "id": "663b5c61",
   "metadata": {},
   "outputs": [
    {
     "data": {
      "text/plain": [
       "Index(['data', 'trip_creation_time', 'route_schedule_uuid', 'route_type',\n",
       "       'trip_uuid', 'source_center', 'source_name', 'destination_center',\n",
       "       'destination_name', 'od_start_time', 'od_end_time',\n",
       "       'start_scan_to_end_scan', 'actual_distance_to_destination',\n",
       "       'actual_time', 'osrm_time', 'osrm_distance', 'segment_actual_time',\n",
       "       'segment_osrm_time', 'segment_osrm_distance', 'segment_key',\n",
       "       'segment_actual_time_sum', 'segment_osrm_time_sum',\n",
       "       'segment_osrm_distance_sum'],\n",
       "      dtype='object')"
      ]
     },
     "execution_count": 16,
     "metadata": {},
     "output_type": "execute_result"
    }
   ],
   "source": [
    "df.columns"
   ]
  },
  {
   "cell_type": "code",
   "execution_count": 17,
   "id": "f48dba72",
   "metadata": {},
   "outputs": [],
   "source": [
    "create_segment_dict = {\n",
    "    'data': 'first',\n",
    "    'trip_creation_time': 'first', \n",
    "    'route_schedule_uuid': 'first',\n",
    "    'route_type': 'first',\n",
    "    'trip_uuid': 'first', \n",
    "    'source_center': 'first', \n",
    "    'source_name': 'first', \n",
    "    \n",
    "    'destination_center': 'last',\n",
    "    'destination_name': 'last', \n",
    "\n",
    "    'od_start_time': 'first', \n",
    "    'od_end_time': 'first',\n",
    "    'start_scan_to_end_scan': 'first', \n",
    "\n",
    "    'actual_distance_to_destination': 'last',\n",
    "    'actual_time': 'last', \n",
    "\n",
    "    'osrm_time': 'last', \n",
    "    'osrm_distance': 'last', \n",
    "\n",
    "    'segment_actual_time_sum': 'last',\n",
    "    'segment_osrm_time_sum': 'last', \n",
    "    'segment_osrm_distance_sum': 'last'\n",
    "}"
   ]
  },
  {
   "cell_type": "code",
   "execution_count": 18,
   "id": "40e5d138",
   "metadata": {},
   "outputs": [
    {
     "data": {
      "text/html": [
       "<div>\n",
       "<style scoped>\n",
       "    .dataframe tbody tr th:only-of-type {\n",
       "        vertical-align: middle;\n",
       "    }\n",
       "\n",
       "    .dataframe tbody tr th {\n",
       "        vertical-align: top;\n",
       "    }\n",
       "\n",
       "    .dataframe thead th {\n",
       "        text-align: right;\n",
       "    }\n",
       "</style>\n",
       "<table border=\"1\" class=\"dataframe\">\n",
       "  <thead>\n",
       "    <tr style=\"text-align: right;\">\n",
       "      <th></th>\n",
       "      <th>index</th>\n",
       "      <th>segment_key</th>\n",
       "      <th>data</th>\n",
       "      <th>trip_creation_time</th>\n",
       "      <th>route_schedule_uuid</th>\n",
       "      <th>route_type</th>\n",
       "      <th>trip_uuid</th>\n",
       "      <th>source_center</th>\n",
       "      <th>source_name</th>\n",
       "      <th>destination_center</th>\n",
       "      <th>...</th>\n",
       "      <th>od_start_time</th>\n",
       "      <th>od_end_time</th>\n",
       "      <th>start_scan_to_end_scan</th>\n",
       "      <th>actual_distance_to_destination</th>\n",
       "      <th>actual_time</th>\n",
       "      <th>osrm_time</th>\n",
       "      <th>osrm_distance</th>\n",
       "      <th>segment_actual_time_sum</th>\n",
       "      <th>segment_osrm_time_sum</th>\n",
       "      <th>segment_osrm_distance_sum</th>\n",
       "    </tr>\n",
       "  </thead>\n",
       "  <tbody>\n",
       "    <tr>\n",
       "      <th>0</th>\n",
       "      <td>0</td>\n",
       "      <td>trip-153671041653548748IND209304AAAIND000000ACB</td>\n",
       "      <td>training</td>\n",
       "      <td>2018-09-12 00:00:16.535741</td>\n",
       "      <td>thanos::sroute:d7c989ba-a29b-4a0b-b2f4-288cdc6...</td>\n",
       "      <td>FTL</td>\n",
       "      <td>trip-153671041653548748</td>\n",
       "      <td>IND209304AAA</td>\n",
       "      <td>Kanpur_Central_H_6 (Uttar Pradesh)</td>\n",
       "      <td>IND000000ACB</td>\n",
       "      <td>...</td>\n",
       "      <td>2018-09-12 16:39:46.858469</td>\n",
       "      <td>2018-09-13 13:40:23.123744</td>\n",
       "      <td>1260.0</td>\n",
       "      <td>383.759164</td>\n",
       "      <td>732.0</td>\n",
       "      <td>329.0</td>\n",
       "      <td>446.5496</td>\n",
       "      <td>728.0</td>\n",
       "      <td>534.0</td>\n",
       "      <td>670.6205</td>\n",
       "    </tr>\n",
       "    <tr>\n",
       "      <th>1</th>\n",
       "      <td>1</td>\n",
       "      <td>trip-153671041653548748IND462022AAAIND209304AAA</td>\n",
       "      <td>training</td>\n",
       "      <td>2018-09-12 00:00:16.535741</td>\n",
       "      <td>thanos::sroute:d7c989ba-a29b-4a0b-b2f4-288cdc6...</td>\n",
       "      <td>FTL</td>\n",
       "      <td>trip-153671041653548748</td>\n",
       "      <td>IND462022AAA</td>\n",
       "      <td>Bhopal_Trnsport_H (Madhya Pradesh)</td>\n",
       "      <td>IND209304AAA</td>\n",
       "      <td>...</td>\n",
       "      <td>2018-09-12 00:00:16.535741</td>\n",
       "      <td>2018-09-12 16:39:46.858469</td>\n",
       "      <td>999.0</td>\n",
       "      <td>440.973689</td>\n",
       "      <td>830.0</td>\n",
       "      <td>388.0</td>\n",
       "      <td>544.8027</td>\n",
       "      <td>820.0</td>\n",
       "      <td>474.0</td>\n",
       "      <td>649.8528</td>\n",
       "    </tr>\n",
       "    <tr>\n",
       "      <th>2</th>\n",
       "      <td>2</td>\n",
       "      <td>trip-153671042288605164IND561203AABIND562101AAA</td>\n",
       "      <td>training</td>\n",
       "      <td>2018-09-12 00:00:22.886430</td>\n",
       "      <td>thanos::sroute:3a1b0ab2-bb0b-4c53-8c59-eb2a2c0...</td>\n",
       "      <td>Carting</td>\n",
       "      <td>trip-153671042288605164</td>\n",
       "      <td>IND561203AAB</td>\n",
       "      <td>Doddablpur_ChikaDPP_D (Karnataka)</td>\n",
       "      <td>IND562101AAA</td>\n",
       "      <td>...</td>\n",
       "      <td>2018-09-12 02:03:09.655591</td>\n",
       "      <td>2018-09-12 03:01:59.598855</td>\n",
       "      <td>58.0</td>\n",
       "      <td>24.644021</td>\n",
       "      <td>47.0</td>\n",
       "      <td>26.0</td>\n",
       "      <td>28.1994</td>\n",
       "      <td>46.0</td>\n",
       "      <td>26.0</td>\n",
       "      <td>28.1995</td>\n",
       "    </tr>\n",
       "    <tr>\n",
       "      <th>3</th>\n",
       "      <td>3</td>\n",
       "      <td>trip-153671042288605164IND572101AAAIND561203AAB</td>\n",
       "      <td>training</td>\n",
       "      <td>2018-09-12 00:00:22.886430</td>\n",
       "      <td>thanos::sroute:3a1b0ab2-bb0b-4c53-8c59-eb2a2c0...</td>\n",
       "      <td>Carting</td>\n",
       "      <td>trip-153671042288605164</td>\n",
       "      <td>IND572101AAA</td>\n",
       "      <td>Tumkur_Veersagr_I (Karnataka)</td>\n",
       "      <td>IND561203AAB</td>\n",
       "      <td>...</td>\n",
       "      <td>2018-09-12 00:00:22.886430</td>\n",
       "      <td>2018-09-12 02:03:09.655591</td>\n",
       "      <td>122.0</td>\n",
       "      <td>48.542890</td>\n",
       "      <td>96.0</td>\n",
       "      <td>42.0</td>\n",
       "      <td>56.9116</td>\n",
       "      <td>95.0</td>\n",
       "      <td>39.0</td>\n",
       "      <td>55.9899</td>\n",
       "    </tr>\n",
       "    <tr>\n",
       "      <th>4</th>\n",
       "      <td>4</td>\n",
       "      <td>trip-153671043369099517IND000000ACBIND160002AAC</td>\n",
       "      <td>training</td>\n",
       "      <td>2018-09-12 00:00:33.691250</td>\n",
       "      <td>thanos::sroute:de5e208e-7641-45e6-8100-4d9fb1e...</td>\n",
       "      <td>FTL</td>\n",
       "      <td>trip-153671043369099517</td>\n",
       "      <td>IND000000ACB</td>\n",
       "      <td>Gurgaon_Bilaspur_HB (Haryana)</td>\n",
       "      <td>IND160002AAC</td>\n",
       "      <td>...</td>\n",
       "      <td>2018-09-14 03:40:17.106733</td>\n",
       "      <td>2018-09-14 17:34:55.442454</td>\n",
       "      <td>834.0</td>\n",
       "      <td>237.439610</td>\n",
       "      <td>611.0</td>\n",
       "      <td>212.0</td>\n",
       "      <td>281.2109</td>\n",
       "      <td>608.0</td>\n",
       "      <td>231.0</td>\n",
       "      <td>317.7408</td>\n",
       "    </tr>\n",
       "  </tbody>\n",
       "</table>\n",
       "<p>5 rows × 21 columns</p>\n",
       "</div>"
      ],
      "text/plain": [
       "   index                                      segment_key      data  \\\n",
       "0      0  trip-153671041653548748IND209304AAAIND000000ACB  training   \n",
       "1      1  trip-153671041653548748IND462022AAAIND209304AAA  training   \n",
       "2      2  trip-153671042288605164IND561203AABIND562101AAA  training   \n",
       "3      3  trip-153671042288605164IND572101AAAIND561203AAB  training   \n",
       "4      4  trip-153671043369099517IND000000ACBIND160002AAC  training   \n",
       "\n",
       "          trip_creation_time  \\\n",
       "0 2018-09-12 00:00:16.535741   \n",
       "1 2018-09-12 00:00:16.535741   \n",
       "2 2018-09-12 00:00:22.886430   \n",
       "3 2018-09-12 00:00:22.886430   \n",
       "4 2018-09-12 00:00:33.691250   \n",
       "\n",
       "                                 route_schedule_uuid route_type  \\\n",
       "0  thanos::sroute:d7c989ba-a29b-4a0b-b2f4-288cdc6...        FTL   \n",
       "1  thanos::sroute:d7c989ba-a29b-4a0b-b2f4-288cdc6...        FTL   \n",
       "2  thanos::sroute:3a1b0ab2-bb0b-4c53-8c59-eb2a2c0...    Carting   \n",
       "3  thanos::sroute:3a1b0ab2-bb0b-4c53-8c59-eb2a2c0...    Carting   \n",
       "4  thanos::sroute:de5e208e-7641-45e6-8100-4d9fb1e...        FTL   \n",
       "\n",
       "                 trip_uuid source_center                         source_name  \\\n",
       "0  trip-153671041653548748  IND209304AAA  Kanpur_Central_H_6 (Uttar Pradesh)   \n",
       "1  trip-153671041653548748  IND462022AAA  Bhopal_Trnsport_H (Madhya Pradesh)   \n",
       "2  trip-153671042288605164  IND561203AAB   Doddablpur_ChikaDPP_D (Karnataka)   \n",
       "3  trip-153671042288605164  IND572101AAA       Tumkur_Veersagr_I (Karnataka)   \n",
       "4  trip-153671043369099517  IND000000ACB       Gurgaon_Bilaspur_HB (Haryana)   \n",
       "\n",
       "  destination_center  ...              od_start_time  \\\n",
       "0       IND000000ACB  ... 2018-09-12 16:39:46.858469   \n",
       "1       IND209304AAA  ... 2018-09-12 00:00:16.535741   \n",
       "2       IND562101AAA  ... 2018-09-12 02:03:09.655591   \n",
       "3       IND561203AAB  ... 2018-09-12 00:00:22.886430   \n",
       "4       IND160002AAC  ... 2018-09-14 03:40:17.106733   \n",
       "\n",
       "                 od_end_time start_scan_to_end_scan  \\\n",
       "0 2018-09-13 13:40:23.123744                 1260.0   \n",
       "1 2018-09-12 16:39:46.858469                  999.0   \n",
       "2 2018-09-12 03:01:59.598855                   58.0   \n",
       "3 2018-09-12 02:03:09.655591                  122.0   \n",
       "4 2018-09-14 17:34:55.442454                  834.0   \n",
       "\n",
       "   actual_distance_to_destination  actual_time  osrm_time  osrm_distance  \\\n",
       "0                      383.759164        732.0      329.0       446.5496   \n",
       "1                      440.973689        830.0      388.0       544.8027   \n",
       "2                       24.644021         47.0       26.0        28.1994   \n",
       "3                       48.542890         96.0       42.0        56.9116   \n",
       "4                      237.439610        611.0      212.0       281.2109   \n",
       "\n",
       "   segment_actual_time_sum  segment_osrm_time_sum  segment_osrm_distance_sum  \n",
       "0                    728.0                  534.0                   670.6205  \n",
       "1                    820.0                  474.0                   649.8528  \n",
       "2                     46.0                   26.0                    28.1995  \n",
       "3                     95.0                   39.0                    55.9899  \n",
       "4                    608.0                  231.0                   317.7408  \n",
       "\n",
       "[5 rows x 21 columns]"
      ]
     },
     "execution_count": 18,
     "metadata": {},
     "output_type": "execute_result"
    }
   ],
   "source": [
    "segment = df.groupby('segment_key').agg(create_segment_dict).reset_index()\n",
    "segment = segment.sort_values(by=['segment_key', 'od_end_time'], ascending=True).reset_index()\n",
    "segment.head()"
   ]
  },
  {
   "cell_type": "code",
   "execution_count": 19,
   "id": "9457fc01",
   "metadata": {},
   "outputs": [
    {
     "data": {
      "text/html": [
       "<div>\n",
       "<style scoped>\n",
       "    .dataframe tbody tr th:only-of-type {\n",
       "        vertical-align: middle;\n",
       "    }\n",
       "\n",
       "    .dataframe tbody tr th {\n",
       "        vertical-align: top;\n",
       "    }\n",
       "\n",
       "    .dataframe thead th {\n",
       "        text-align: right;\n",
       "    }\n",
       "</style>\n",
       "<table border=\"1\" class=\"dataframe\">\n",
       "  <thead>\n",
       "    <tr style=\"text-align: right;\">\n",
       "      <th></th>\n",
       "      <th>index</th>\n",
       "      <th>segment_key</th>\n",
       "      <th>data</th>\n",
       "      <th>trip_creation_time</th>\n",
       "      <th>route_schedule_uuid</th>\n",
       "      <th>route_type</th>\n",
       "      <th>trip_uuid</th>\n",
       "      <th>source_center</th>\n",
       "      <th>source_name</th>\n",
       "      <th>destination_center</th>\n",
       "      <th>...</th>\n",
       "      <th>od_start_time</th>\n",
       "      <th>od_end_time</th>\n",
       "      <th>start_scan_to_end_scan</th>\n",
       "      <th>actual_distance_to_destination</th>\n",
       "      <th>actual_time</th>\n",
       "      <th>osrm_time</th>\n",
       "      <th>osrm_distance</th>\n",
       "      <th>segment_actual_time_sum</th>\n",
       "      <th>segment_osrm_time_sum</th>\n",
       "      <th>segment_osrm_distance_sum</th>\n",
       "    </tr>\n",
       "  </thead>\n",
       "  <tbody>\n",
       "    <tr>\n",
       "      <th>10370</th>\n",
       "      <td>10370</td>\n",
       "      <td>trip-153741093647649320IND388121AAAIND388620AAB</td>\n",
       "      <td>training</td>\n",
       "      <td>2018-09-20 02:35:36.476840</td>\n",
       "      <td>thanos::sroute:eb7bfc78-b351-4c0e-a951-fa3d5c3...</td>\n",
       "      <td>Carting</td>\n",
       "      <td>trip-153741093647649320</td>\n",
       "      <td>IND388121AAA</td>\n",
       "      <td>Anand_VUNagar_DC (Gujarat)</td>\n",
       "      <td>IND388620AAB</td>\n",
       "      <td>...</td>\n",
       "      <td>2018-09-20 03:21:32.418600</td>\n",
       "      <td>2018-09-20 04:47:45.236797</td>\n",
       "      <td>86.0</td>\n",
       "      <td>39.386040</td>\n",
       "      <td>68.0</td>\n",
       "      <td>44.0</td>\n",
       "      <td>54.2181</td>\n",
       "      <td>67.0</td>\n",
       "      <td>44.0</td>\n",
       "      <td>49.4772</td>\n",
       "    </tr>\n",
       "    <tr>\n",
       "      <th>10371</th>\n",
       "      <td>10371</td>\n",
       "      <td>trip-153741093647649320IND388620AABIND388320AAA</td>\n",
       "      <td>training</td>\n",
       "      <td>2018-09-20 02:35:36.476840</td>\n",
       "      <td>thanos::sroute:eb7bfc78-b351-4c0e-a951-fa3d5c3...</td>\n",
       "      <td>Carting</td>\n",
       "      <td>trip-153741093647649320</td>\n",
       "      <td>IND388620AAB</td>\n",
       "      <td>Khambhat_MotvdDPP_D (Gujarat)</td>\n",
       "      <td>IND388320AAA</td>\n",
       "      <td>...</td>\n",
       "      <td>2018-09-20 04:47:45.236797</td>\n",
       "      <td>2018-09-20 06:36:55.627764</td>\n",
       "      <td>109.0</td>\n",
       "      <td>43.595802</td>\n",
       "      <td>102.0</td>\n",
       "      <td>45.0</td>\n",
       "      <td>53.2334</td>\n",
       "      <td>100.0</td>\n",
       "      <td>44.0</td>\n",
       "      <td>53.2334</td>\n",
       "    </tr>\n",
       "  </tbody>\n",
       "</table>\n",
       "<p>2 rows × 21 columns</p>\n",
       "</div>"
      ],
      "text/plain": [
       "       index                                      segment_key      data  \\\n",
       "10370  10370  trip-153741093647649320IND388121AAAIND388620AAB  training   \n",
       "10371  10371  trip-153741093647649320IND388620AABIND388320AAA  training   \n",
       "\n",
       "              trip_creation_time  \\\n",
       "10370 2018-09-20 02:35:36.476840   \n",
       "10371 2018-09-20 02:35:36.476840   \n",
       "\n",
       "                                     route_schedule_uuid route_type  \\\n",
       "10370  thanos::sroute:eb7bfc78-b351-4c0e-a951-fa3d5c3...    Carting   \n",
       "10371  thanos::sroute:eb7bfc78-b351-4c0e-a951-fa3d5c3...    Carting   \n",
       "\n",
       "                     trip_uuid source_center                    source_name  \\\n",
       "10370  trip-153741093647649320  IND388121AAA     Anand_VUNagar_DC (Gujarat)   \n",
       "10371  trip-153741093647649320  IND388620AAB  Khambhat_MotvdDPP_D (Gujarat)   \n",
       "\n",
       "      destination_center  ...              od_start_time  \\\n",
       "10370       IND388620AAB  ... 2018-09-20 03:21:32.418600   \n",
       "10371       IND388320AAA  ... 2018-09-20 04:47:45.236797   \n",
       "\n",
       "                     od_end_time start_scan_to_end_scan  \\\n",
       "10370 2018-09-20 04:47:45.236797                   86.0   \n",
       "10371 2018-09-20 06:36:55.627764                  109.0   \n",
       "\n",
       "       actual_distance_to_destination  actual_time  osrm_time  osrm_distance  \\\n",
       "10370                       39.386040         68.0       44.0        54.2181   \n",
       "10371                       43.595802        102.0       45.0        53.2334   \n",
       "\n",
       "       segment_actual_time_sum  segment_osrm_time_sum  \\\n",
       "10370                     67.0                   44.0   \n",
       "10371                    100.0                   44.0   \n",
       "\n",
       "       segment_osrm_distance_sum  \n",
       "10370                    49.4772  \n",
       "10371                    53.2334  \n",
       "\n",
       "[2 rows x 21 columns]"
      ]
     },
     "execution_count": 19,
     "metadata": {},
     "output_type": "execute_result"
    }
   ],
   "source": [
    "segment[segment['trip_uuid']=='trip-153741093647649320']"
   ]
  },
  {
   "cell_type": "code",
   "execution_count": 20,
   "id": "a6e821c2",
   "metadata": {},
   "outputs": [
    {
     "name": "stdout",
     "output_type": "stream",
     "text": [
      "<class 'pandas.core.frame.DataFrame'>\n",
      "RangeIndex: 26222 entries, 0 to 26221\n",
      "Data columns (total 21 columns):\n",
      " #   Column                          Non-Null Count  Dtype         \n",
      "---  ------                          --------------  -----         \n",
      " 0   index                           26222 non-null  int64         \n",
      " 1   segment_key                     26222 non-null  object        \n",
      " 2   data                            26222 non-null  object        \n",
      " 3   trip_creation_time              26222 non-null  datetime64[ns]\n",
      " 4   route_schedule_uuid             26222 non-null  object        \n",
      " 5   route_type                      26222 non-null  category      \n",
      " 6   trip_uuid                       26222 non-null  object        \n",
      " 7   source_center                   26222 non-null  object        \n",
      " 8   source_name                     26222 non-null  object        \n",
      " 9   destination_center              26222 non-null  object        \n",
      " 10  destination_name                26222 non-null  object        \n",
      " 11  od_start_time                   26222 non-null  datetime64[ns]\n",
      " 12  od_end_time                     26222 non-null  datetime64[ns]\n",
      " 13  start_scan_to_end_scan          26222 non-null  float64       \n",
      " 14  actual_distance_to_destination  26222 non-null  float64       \n",
      " 15  actual_time                     26222 non-null  float64       \n",
      " 16  osrm_time                       26222 non-null  float64       \n",
      " 17  osrm_distance                   26222 non-null  float64       \n",
      " 18  segment_actual_time_sum         26222 non-null  float64       \n",
      " 19  segment_osrm_time_sum           26222 non-null  float64       \n",
      " 20  segment_osrm_distance_sum       26222 non-null  float64       \n",
      "dtypes: category(1), datetime64[ns](3), float64(8), int64(1), object(8)\n",
      "memory usage: 4.0+ MB\n"
     ]
    }
   ],
   "source": [
    "segment.info()"
   ]
  },
  {
   "cell_type": "code",
   "execution_count": 21,
   "id": "2e6aca8f",
   "metadata": {},
   "outputs": [
    {
     "data": {
      "text/html": [
       "<div>\n",
       "<style scoped>\n",
       "    .dataframe tbody tr th:only-of-type {\n",
       "        vertical-align: middle;\n",
       "    }\n",
       "\n",
       "    .dataframe tbody tr th {\n",
       "        vertical-align: top;\n",
       "    }\n",
       "\n",
       "    .dataframe thead th {\n",
       "        text-align: right;\n",
       "    }\n",
       "</style>\n",
       "<table border=\"1\" class=\"dataframe\">\n",
       "  <thead>\n",
       "    <tr style=\"text-align: right;\">\n",
       "      <th></th>\n",
       "      <th>od_time_diff_hour</th>\n",
       "    </tr>\n",
       "  </thead>\n",
       "  <tbody>\n",
       "    <tr>\n",
       "      <th>0</th>\n",
       "      <td>1260.604421</td>\n",
       "    </tr>\n",
       "    <tr>\n",
       "      <th>1</th>\n",
       "      <td>999.505379</td>\n",
       "    </tr>\n",
       "    <tr>\n",
       "      <th>2</th>\n",
       "      <td>58.832388</td>\n",
       "    </tr>\n",
       "    <tr>\n",
       "      <th>3</th>\n",
       "      <td>122.779486</td>\n",
       "    </tr>\n",
       "    <tr>\n",
       "      <th>4</th>\n",
       "      <td>834.638929</td>\n",
       "    </tr>\n",
       "    <tr>\n",
       "      <th>...</th>\n",
       "      <td>...</td>\n",
       "    </tr>\n",
       "    <tr>\n",
       "      <th>26217</th>\n",
       "      <td>62.115193</td>\n",
       "    </tr>\n",
       "    <tr>\n",
       "      <th>26218</th>\n",
       "      <td>91.087797</td>\n",
       "    </tr>\n",
       "    <tr>\n",
       "      <th>26219</th>\n",
       "      <td>44.174403</td>\n",
       "    </tr>\n",
       "    <tr>\n",
       "      <th>26220</th>\n",
       "      <td>287.474007</td>\n",
       "    </tr>\n",
       "    <tr>\n",
       "      <th>26221</th>\n",
       "      <td>66.933565</td>\n",
       "    </tr>\n",
       "  </tbody>\n",
       "</table>\n",
       "<p>26222 rows × 1 columns</p>\n",
       "</div>"
      ],
      "text/plain": [
       "       od_time_diff_hour\n",
       "0            1260.604421\n",
       "1             999.505379\n",
       "2              58.832388\n",
       "3             122.779486\n",
       "4             834.638929\n",
       "...                  ...\n",
       "26217          62.115193\n",
       "26218          91.087797\n",
       "26219          44.174403\n",
       "26220         287.474007\n",
       "26221          66.933565\n",
       "\n",
       "[26222 rows x 1 columns]"
      ]
     },
     "execution_count": 21,
     "metadata": {},
     "output_type": "execute_result"
    }
   ],
   "source": [
    "segment['od_time_diff_hour'] = (segment['od_end_time'] - segment['od_start_time']).dt.total_seconds() / 60\n",
    "segment[['od_time_diff_hour']]"
   ]
  },
  {
   "cell_type": "markdown",
   "id": "1b61bf3d",
   "metadata": {},
   "source": [
    "### Aggregate on trip_uuid"
   ]
  },
  {
   "cell_type": "code",
   "execution_count": 22,
   "id": "2f8a562f",
   "metadata": {},
   "outputs": [
    {
     "data": {
      "text/plain": [
       "Index(['index', 'segment_key', 'data', 'trip_creation_time',\n",
       "       'route_schedule_uuid', 'route_type', 'trip_uuid', 'source_center',\n",
       "       'source_name', 'destination_center', 'destination_name',\n",
       "       'od_start_time', 'od_end_time', 'start_scan_to_end_scan',\n",
       "       'actual_distance_to_destination', 'actual_time', 'osrm_time',\n",
       "       'osrm_distance', 'segment_actual_time_sum', 'segment_osrm_time_sum',\n",
       "       'segment_osrm_distance_sum', 'od_time_diff_hour'],\n",
       "      dtype='object')"
      ]
     },
     "execution_count": 22,
     "metadata": {},
     "output_type": "execute_result"
    }
   ],
   "source": [
    "segment.columns"
   ]
  },
  {
   "cell_type": "code",
   "execution_count": 23,
   "id": "2c38afa6",
   "metadata": {},
   "outputs": [],
   "source": [
    "create_trip_dict = {\n",
    "    'data': 'first',\n",
    "    'trip_creation_time': 'first', \n",
    "    'route_schedule_uuid': 'first',\n",
    "    'route_type': 'first',\n",
    "    'trip_uuid': 'first', \n",
    "\n",
    "    'source_center': 'first', \n",
    "    'source_name': 'first', \n",
    "    \n",
    "    'destination_center': 'last',\n",
    "    'destination_name': 'last', \n",
    "\n",
    "    'start_scan_to_end_scan': 'sum', \n",
    "    'od_time_diff_hour': 'sum',\n",
    "\n",
    "    'actual_distance_to_destination': 'sum',\n",
    "    'actual_time': 'sum', \n",
    "\n",
    "    'osrm_time': 'sum', \n",
    "    'osrm_distance': 'sum', \n",
    "\n",
    "    'segment_actual_time_sum': 'sum',\n",
    "    'segment_osrm_time_sum': 'sum', \n",
    "    'segment_osrm_distance_sum': 'sum'\n",
    "}"
   ]
  },
  {
   "cell_type": "code",
   "execution_count": 24,
   "id": "b87a7ed1",
   "metadata": {},
   "outputs": [
    {
     "data": {
      "text/html": [
       "<div>\n",
       "<style scoped>\n",
       "    .dataframe tbody tr th:only-of-type {\n",
       "        vertical-align: middle;\n",
       "    }\n",
       "\n",
       "    .dataframe tbody tr th {\n",
       "        vertical-align: top;\n",
       "    }\n",
       "\n",
       "    .dataframe thead th {\n",
       "        text-align: right;\n",
       "    }\n",
       "</style>\n",
       "<table border=\"1\" class=\"dataframe\">\n",
       "  <thead>\n",
       "    <tr style=\"text-align: right;\">\n",
       "      <th></th>\n",
       "      <th>data</th>\n",
       "      <th>trip_creation_time</th>\n",
       "      <th>route_schedule_uuid</th>\n",
       "      <th>route_type</th>\n",
       "      <th>trip_uuid</th>\n",
       "      <th>source_center</th>\n",
       "      <th>source_name</th>\n",
       "      <th>destination_center</th>\n",
       "      <th>destination_name</th>\n",
       "      <th>start_scan_to_end_scan</th>\n",
       "      <th>od_time_diff_hour</th>\n",
       "      <th>actual_distance_to_destination</th>\n",
       "      <th>actual_time</th>\n",
       "      <th>osrm_time</th>\n",
       "      <th>osrm_distance</th>\n",
       "      <th>segment_actual_time_sum</th>\n",
       "      <th>segment_osrm_time_sum</th>\n",
       "      <th>segment_osrm_distance_sum</th>\n",
       "    </tr>\n",
       "  </thead>\n",
       "  <tbody>\n",
       "    <tr>\n",
       "      <th>0</th>\n",
       "      <td>training</td>\n",
       "      <td>2018-09-12 00:00:16.535741</td>\n",
       "      <td>thanos::sroute:d7c989ba-a29b-4a0b-b2f4-288cdc6...</td>\n",
       "      <td>FTL</td>\n",
       "      <td>trip-153671041653548748</td>\n",
       "      <td>IND209304AAA</td>\n",
       "      <td>Kanpur_Central_H_6 (Uttar Pradesh)</td>\n",
       "      <td>IND209304AAA</td>\n",
       "      <td>Kanpur_Central_H_6 (Uttar Pradesh)</td>\n",
       "      <td>2259.0</td>\n",
       "      <td>2260.109800</td>\n",
       "      <td>824.732854</td>\n",
       "      <td>1562.0</td>\n",
       "      <td>717.0</td>\n",
       "      <td>991.3523</td>\n",
       "      <td>1548.0</td>\n",
       "      <td>1008.0</td>\n",
       "      <td>1320.4733</td>\n",
       "    </tr>\n",
       "    <tr>\n",
       "      <th>1</th>\n",
       "      <td>training</td>\n",
       "      <td>2018-09-12 00:00:22.886430</td>\n",
       "      <td>thanos::sroute:3a1b0ab2-bb0b-4c53-8c59-eb2a2c0...</td>\n",
       "      <td>Carting</td>\n",
       "      <td>trip-153671042288605164</td>\n",
       "      <td>IND561203AAB</td>\n",
       "      <td>Doddablpur_ChikaDPP_D (Karnataka)</td>\n",
       "      <td>IND561203AAB</td>\n",
       "      <td>Doddablpur_ChikaDPP_D (Karnataka)</td>\n",
       "      <td>180.0</td>\n",
       "      <td>181.611874</td>\n",
       "      <td>73.186911</td>\n",
       "      <td>143.0</td>\n",
       "      <td>68.0</td>\n",
       "      <td>85.1110</td>\n",
       "      <td>141.0</td>\n",
       "      <td>65.0</td>\n",
       "      <td>84.1894</td>\n",
       "    </tr>\n",
       "    <tr>\n",
       "      <th>2</th>\n",
       "      <td>training</td>\n",
       "      <td>2018-09-12 00:00:33.691250</td>\n",
       "      <td>thanos::sroute:de5e208e-7641-45e6-8100-4d9fb1e...</td>\n",
       "      <td>FTL</td>\n",
       "      <td>trip-153671043369099517</td>\n",
       "      <td>IND000000ACB</td>\n",
       "      <td>Gurgaon_Bilaspur_HB (Haryana)</td>\n",
       "      <td>IND000000ACB</td>\n",
       "      <td>Gurgaon_Bilaspur_HB (Haryana)</td>\n",
       "      <td>3933.0</td>\n",
       "      <td>3934.362520</td>\n",
       "      <td>1927.404273</td>\n",
       "      <td>3347.0</td>\n",
       "      <td>1740.0</td>\n",
       "      <td>2354.0665</td>\n",
       "      <td>3308.0</td>\n",
       "      <td>1941.0</td>\n",
       "      <td>2545.2678</td>\n",
       "    </tr>\n",
       "    <tr>\n",
       "      <th>3</th>\n",
       "      <td>training</td>\n",
       "      <td>2018-09-12 00:01:00.113710</td>\n",
       "      <td>thanos::sroute:f0176492-a679-4597-8332-bbd1c7f...</td>\n",
       "      <td>Carting</td>\n",
       "      <td>trip-153671046011330457</td>\n",
       "      <td>IND400072AAB</td>\n",
       "      <td>Mumbai Hub (Maharashtra)</td>\n",
       "      <td>IND401104AAA</td>\n",
       "      <td>Mumbai_MiraRd_IP (Maharashtra)</td>\n",
       "      <td>100.0</td>\n",
       "      <td>100.494935</td>\n",
       "      <td>17.175274</td>\n",
       "      <td>59.0</td>\n",
       "      <td>15.0</td>\n",
       "      <td>19.6800</td>\n",
       "      <td>59.0</td>\n",
       "      <td>16.0</td>\n",
       "      <td>19.8766</td>\n",
       "    </tr>\n",
       "    <tr>\n",
       "      <th>4</th>\n",
       "      <td>training</td>\n",
       "      <td>2018-09-12 00:02:09.740725</td>\n",
       "      <td>thanos::sroute:d9f07b12-65e0-4f3b-bec8-df06134...</td>\n",
       "      <td>FTL</td>\n",
       "      <td>trip-153671052974046625</td>\n",
       "      <td>IND583101AAA</td>\n",
       "      <td>Bellary_Dc (Karnataka)</td>\n",
       "      <td>IND583119AAA</td>\n",
       "      <td>Sandur_WrdN1DPP_D (Karnataka)</td>\n",
       "      <td>717.0</td>\n",
       "      <td>718.349042</td>\n",
       "      <td>127.448500</td>\n",
       "      <td>341.0</td>\n",
       "      <td>117.0</td>\n",
       "      <td>146.7918</td>\n",
       "      <td>340.0</td>\n",
       "      <td>115.0</td>\n",
       "      <td>146.7919</td>\n",
       "    </tr>\n",
       "  </tbody>\n",
       "</table>\n",
       "</div>"
      ],
      "text/plain": [
       "       data         trip_creation_time  \\\n",
       "0  training 2018-09-12 00:00:16.535741   \n",
       "1  training 2018-09-12 00:00:22.886430   \n",
       "2  training 2018-09-12 00:00:33.691250   \n",
       "3  training 2018-09-12 00:01:00.113710   \n",
       "4  training 2018-09-12 00:02:09.740725   \n",
       "\n",
       "                                 route_schedule_uuid route_type  \\\n",
       "0  thanos::sroute:d7c989ba-a29b-4a0b-b2f4-288cdc6...        FTL   \n",
       "1  thanos::sroute:3a1b0ab2-bb0b-4c53-8c59-eb2a2c0...    Carting   \n",
       "2  thanos::sroute:de5e208e-7641-45e6-8100-4d9fb1e...        FTL   \n",
       "3  thanos::sroute:f0176492-a679-4597-8332-bbd1c7f...    Carting   \n",
       "4  thanos::sroute:d9f07b12-65e0-4f3b-bec8-df06134...        FTL   \n",
       "\n",
       "                 trip_uuid source_center                         source_name  \\\n",
       "0  trip-153671041653548748  IND209304AAA  Kanpur_Central_H_6 (Uttar Pradesh)   \n",
       "1  trip-153671042288605164  IND561203AAB   Doddablpur_ChikaDPP_D (Karnataka)   \n",
       "2  trip-153671043369099517  IND000000ACB       Gurgaon_Bilaspur_HB (Haryana)   \n",
       "3  trip-153671046011330457  IND400072AAB            Mumbai Hub (Maharashtra)   \n",
       "4  trip-153671052974046625  IND583101AAA              Bellary_Dc (Karnataka)   \n",
       "\n",
       "  destination_center                    destination_name  \\\n",
       "0       IND209304AAA  Kanpur_Central_H_6 (Uttar Pradesh)   \n",
       "1       IND561203AAB   Doddablpur_ChikaDPP_D (Karnataka)   \n",
       "2       IND000000ACB       Gurgaon_Bilaspur_HB (Haryana)   \n",
       "3       IND401104AAA      Mumbai_MiraRd_IP (Maharashtra)   \n",
       "4       IND583119AAA       Sandur_WrdN1DPP_D (Karnataka)   \n",
       "\n",
       "   start_scan_to_end_scan  od_time_diff_hour  actual_distance_to_destination  \\\n",
       "0                  2259.0        2260.109800                      824.732854   \n",
       "1                   180.0         181.611874                       73.186911   \n",
       "2                  3933.0        3934.362520                     1927.404273   \n",
       "3                   100.0         100.494935                       17.175274   \n",
       "4                   717.0         718.349042                      127.448500   \n",
       "\n",
       "   actual_time  osrm_time  osrm_distance  segment_actual_time_sum  \\\n",
       "0       1562.0      717.0       991.3523                   1548.0   \n",
       "1        143.0       68.0        85.1110                    141.0   \n",
       "2       3347.0     1740.0      2354.0665                   3308.0   \n",
       "3         59.0       15.0        19.6800                     59.0   \n",
       "4        341.0      117.0       146.7918                    340.0   \n",
       "\n",
       "   segment_osrm_time_sum  segment_osrm_distance_sum  \n",
       "0                 1008.0                  1320.4733  \n",
       "1                   65.0                    84.1894  \n",
       "2                 1941.0                  2545.2678  \n",
       "3                   16.0                    19.8766  \n",
       "4                  115.0                   146.7919  "
      ]
     },
     "execution_count": 24,
     "metadata": {},
     "output_type": "execute_result"
    }
   ],
   "source": [
    "trip = segment.groupby('trip_uuid').agg(create_trip_dict).reset_index(drop=True)\n",
    "trip.head()"
   ]
  },
  {
   "cell_type": "code",
   "execution_count": 25,
   "id": "eea0149f",
   "metadata": {},
   "outputs": [
    {
     "data": {
      "text/html": [
       "<div>\n",
       "<style scoped>\n",
       "    .dataframe tbody tr th:only-of-type {\n",
       "        vertical-align: middle;\n",
       "    }\n",
       "\n",
       "    .dataframe tbody tr th {\n",
       "        vertical-align: top;\n",
       "    }\n",
       "\n",
       "    .dataframe thead th {\n",
       "        text-align: right;\n",
       "    }\n",
       "</style>\n",
       "<table border=\"1\" class=\"dataframe\">\n",
       "  <thead>\n",
       "    <tr style=\"text-align: right;\">\n",
       "      <th></th>\n",
       "      <th>actual_time</th>\n",
       "      <th>segment_actual_time_sum</th>\n",
       "    </tr>\n",
       "  </thead>\n",
       "  <tbody>\n",
       "    <tr>\n",
       "      <th>0</th>\n",
       "      <td>1562.0</td>\n",
       "      <td>1548.0</td>\n",
       "    </tr>\n",
       "    <tr>\n",
       "      <th>1</th>\n",
       "      <td>143.0</td>\n",
       "      <td>141.0</td>\n",
       "    </tr>\n",
       "    <tr>\n",
       "      <th>2</th>\n",
       "      <td>3347.0</td>\n",
       "      <td>3308.0</td>\n",
       "    </tr>\n",
       "    <tr>\n",
       "      <th>3</th>\n",
       "      <td>59.0</td>\n",
       "      <td>59.0</td>\n",
       "    </tr>\n",
       "    <tr>\n",
       "      <th>4</th>\n",
       "      <td>341.0</td>\n",
       "      <td>340.0</td>\n",
       "    </tr>\n",
       "  </tbody>\n",
       "</table>\n",
       "</div>"
      ],
      "text/plain": [
       "   actual_time  segment_actual_time_sum\n",
       "0       1562.0                   1548.0\n",
       "1        143.0                    141.0\n",
       "2       3347.0                   3308.0\n",
       "3         59.0                     59.0\n",
       "4        341.0                    340.0"
      ]
     },
     "execution_count": 25,
     "metadata": {},
     "output_type": "execute_result"
    }
   ],
   "source": [
    "trip[['actual_time', 'segment_actual_time_sum']].head()"
   ]
  },
  {
   "cell_type": "code",
   "execution_count": 26,
   "id": "04c38eaf",
   "metadata": {},
   "outputs": [
    {
     "data": {
      "text/html": [
       "<div>\n",
       "<style scoped>\n",
       "    .dataframe tbody tr th:only-of-type {\n",
       "        vertical-align: middle;\n",
       "    }\n",
       "\n",
       "    .dataframe tbody tr th {\n",
       "        vertical-align: top;\n",
       "    }\n",
       "\n",
       "    .dataframe thead th {\n",
       "        text-align: right;\n",
       "    }\n",
       "</style>\n",
       "<table border=\"1\" class=\"dataframe\">\n",
       "  <thead>\n",
       "    <tr style=\"text-align: right;\">\n",
       "      <th></th>\n",
       "      <th>data</th>\n",
       "      <th>trip_creation_time</th>\n",
       "      <th>route_schedule_uuid</th>\n",
       "      <th>route_type</th>\n",
       "      <th>trip_uuid</th>\n",
       "      <th>source_center</th>\n",
       "      <th>source_name</th>\n",
       "      <th>destination_center</th>\n",
       "      <th>destination_name</th>\n",
       "      <th>start_scan_to_end_scan</th>\n",
       "      <th>od_time_diff_hour</th>\n",
       "      <th>actual_distance_to_destination</th>\n",
       "      <th>actual_time</th>\n",
       "      <th>osrm_time</th>\n",
       "      <th>osrm_distance</th>\n",
       "      <th>segment_actual_time_sum</th>\n",
       "      <th>segment_osrm_time_sum</th>\n",
       "      <th>segment_osrm_distance_sum</th>\n",
       "    </tr>\n",
       "  </thead>\n",
       "  <tbody>\n",
       "    <tr>\n",
       "      <th>5917</th>\n",
       "      <td>training</td>\n",
       "      <td>2018-09-20 02:35:36.476840</td>\n",
       "      <td>thanos::sroute:eb7bfc78-b351-4c0e-a951-fa3d5c3...</td>\n",
       "      <td>Carting</td>\n",
       "      <td>trip-153741093647649320</td>\n",
       "      <td>IND388121AAA</td>\n",
       "      <td>Anand_VUNagar_DC (Gujarat)</td>\n",
       "      <td>IND388320AAA</td>\n",
       "      <td>Anand_Vaghasi_IP (Gujarat)</td>\n",
       "      <td>195.0</td>\n",
       "      <td>195.386819</td>\n",
       "      <td>82.981842</td>\n",
       "      <td>170.0</td>\n",
       "      <td>89.0</td>\n",
       "      <td>107.4515</td>\n",
       "      <td>167.0</td>\n",
       "      <td>88.0</td>\n",
       "      <td>102.7106</td>\n",
       "    </tr>\n",
       "  </tbody>\n",
       "</table>\n",
       "</div>"
      ],
      "text/plain": [
       "          data         trip_creation_time  \\\n",
       "5917  training 2018-09-20 02:35:36.476840   \n",
       "\n",
       "                                    route_schedule_uuid route_type  \\\n",
       "5917  thanos::sroute:eb7bfc78-b351-4c0e-a951-fa3d5c3...    Carting   \n",
       "\n",
       "                    trip_uuid source_center                 source_name  \\\n",
       "5917  trip-153741093647649320  IND388121AAA  Anand_VUNagar_DC (Gujarat)   \n",
       "\n",
       "     destination_center            destination_name  start_scan_to_end_scan  \\\n",
       "5917       IND388320AAA  Anand_Vaghasi_IP (Gujarat)                   195.0   \n",
       "\n",
       "      od_time_diff_hour  actual_distance_to_destination  actual_time  \\\n",
       "5917         195.386819                       82.981842        170.0   \n",
       "\n",
       "      osrm_time  osrm_distance  segment_actual_time_sum  \\\n",
       "5917       89.0       107.4515                    167.0   \n",
       "\n",
       "      segment_osrm_time_sum  segment_osrm_distance_sum  \n",
       "5917                   88.0                   102.7106  "
      ]
     },
     "execution_count": 26,
     "metadata": {},
     "output_type": "execute_result"
    }
   ],
   "source": [
    "trip[trip['trip_uuid']=='trip-153741093647649320']"
   ]
  },
  {
   "cell_type": "code",
   "execution_count": 27,
   "id": "c7faf0d9",
   "metadata": {},
   "outputs": [
    {
     "data": {
      "text/html": [
       "<div>\n",
       "<style scoped>\n",
       "    .dataframe tbody tr th:only-of-type {\n",
       "        vertical-align: middle;\n",
       "    }\n",
       "\n",
       "    .dataframe tbody tr th {\n",
       "        vertical-align: top;\n",
       "    }\n",
       "\n",
       "    .dataframe thead th {\n",
       "        text-align: right;\n",
       "    }\n",
       "</style>\n",
       "<table border=\"1\" class=\"dataframe\">\n",
       "  <thead>\n",
       "    <tr style=\"text-align: right;\">\n",
       "      <th></th>\n",
       "      <th>actual_distance_to_destination</th>\n",
       "      <th>osrm_distance</th>\n",
       "    </tr>\n",
       "  </thead>\n",
       "  <tbody>\n",
       "    <tr>\n",
       "      <th>0</th>\n",
       "      <td>824.732854</td>\n",
       "      <td>991.3523</td>\n",
       "    </tr>\n",
       "    <tr>\n",
       "      <th>1</th>\n",
       "      <td>73.186911</td>\n",
       "      <td>85.1110</td>\n",
       "    </tr>\n",
       "    <tr>\n",
       "      <th>2</th>\n",
       "      <td>1927.404273</td>\n",
       "      <td>2354.0665</td>\n",
       "    </tr>\n",
       "    <tr>\n",
       "      <th>3</th>\n",
       "      <td>17.175274</td>\n",
       "      <td>19.6800</td>\n",
       "    </tr>\n",
       "    <tr>\n",
       "      <th>4</th>\n",
       "      <td>127.448500</td>\n",
       "      <td>146.7918</td>\n",
       "    </tr>\n",
       "  </tbody>\n",
       "</table>\n",
       "</div>"
      ],
      "text/plain": [
       "   actual_distance_to_destination  osrm_distance\n",
       "0                      824.732854       991.3523\n",
       "1                       73.186911        85.1110\n",
       "2                     1927.404273      2354.0665\n",
       "3                       17.175274        19.6800\n",
       "4                      127.448500       146.7918"
      ]
     },
     "execution_count": 27,
     "metadata": {},
     "output_type": "execute_result"
    }
   ],
   "source": [
    "trip[['actual_distance_to_destination', 'osrm_distance']].head()"
   ]
  },
  {
   "cell_type": "code",
   "execution_count": 28,
   "id": "24d95b29",
   "metadata": {},
   "outputs": [
    {
     "name": "stdout",
     "output_type": "stream",
     "text": [
      "<class 'pandas.core.frame.DataFrame'>\n",
      "RangeIndex: 14787 entries, 0 to 14786\n",
      "Data columns (total 18 columns):\n",
      " #   Column                          Non-Null Count  Dtype         \n",
      "---  ------                          --------------  -----         \n",
      " 0   data                            14787 non-null  object        \n",
      " 1   trip_creation_time              14787 non-null  datetime64[ns]\n",
      " 2   route_schedule_uuid             14787 non-null  object        \n",
      " 3   route_type                      14787 non-null  category      \n",
      " 4   trip_uuid                       14787 non-null  object        \n",
      " 5   source_center                   14787 non-null  object        \n",
      " 6   source_name                     14787 non-null  object        \n",
      " 7   destination_center              14787 non-null  object        \n",
      " 8   destination_name                14787 non-null  object        \n",
      " 9   start_scan_to_end_scan          14787 non-null  float64       \n",
      " 10  od_time_diff_hour               14787 non-null  float64       \n",
      " 11  actual_distance_to_destination  14787 non-null  float64       \n",
      " 12  actual_time                     14787 non-null  float64       \n",
      " 13  osrm_time                       14787 non-null  float64       \n",
      " 14  osrm_distance                   14787 non-null  float64       \n",
      " 15  segment_actual_time_sum         14787 non-null  float64       \n",
      " 16  segment_osrm_time_sum           14787 non-null  float64       \n",
      " 17  segment_osrm_distance_sum       14787 non-null  float64       \n",
      "dtypes: category(1), datetime64[ns](1), float64(9), object(7)\n",
      "memory usage: 1.9+ MB\n"
     ]
    }
   ],
   "source": [
    "trip.info()"
   ]
  },
  {
   "cell_type": "code",
   "execution_count": 29,
   "id": "bddab18a",
   "metadata": {},
   "outputs": [
    {
     "data": {
      "text/plain": [
       "Gurgaon_Bilaspur_HB (Haryana)           1052\n",
       "Bhiwandi_Mankoli_HB (Maharashtra)        697\n",
       "Bangalore_Nelmngla_H (Karnataka)         624\n",
       "Bengaluru_Bomsndra_HB (Karnataka)        455\n",
       "Pune_Tathawde_H (Maharashtra)            396\n",
       "                                        ... \n",
       "Beed_JalnaRd_D (Maharashtra)               1\n",
       "Bijapur_KirtiNgr_D (Karnataka)             1\n",
       "Murshidabad_Sirjudol_D (West Bengal)       1\n",
       "Lalitpur_RjghatRd_D (Uttar Pradesh)        1\n",
       "Sandur_WrdN1DPP_D (Karnataka)              1\n",
       "Name: source_name, Length: 930, dtype: int64"
      ]
     },
     "execution_count": 29,
     "metadata": {},
     "output_type": "execute_result"
    }
   ],
   "source": [
    "trip['source_name'].value_counts()"
   ]
  },
  {
   "cell_type": "code",
   "execution_count": 30,
   "id": "8ff5c622",
   "metadata": {},
   "outputs": [
    {
     "data": {
      "text/plain": [
       "Index(['data', 'trip_creation_time', 'route_schedule_uuid', 'route_type',\n",
       "       'trip_uuid', 'source_center', 'source_name', 'destination_center',\n",
       "       'destination_name', 'start_scan_to_end_scan', 'od_time_diff_hour',\n",
       "       'actual_distance_to_destination', 'actual_time', 'osrm_time',\n",
       "       'osrm_distance', 'segment_actual_time_sum', 'segment_osrm_time_sum',\n",
       "       'segment_osrm_distance_sum'],\n",
       "      dtype='object')"
      ]
     },
     "execution_count": 30,
     "metadata": {},
     "output_type": "execute_result"
    }
   ],
   "source": [
    "trip.columns"
   ]
  },
  {
   "cell_type": "code",
   "execution_count": 31,
   "id": "9c5a8b48",
   "metadata": {},
   "outputs": [
    {
     "data": {
      "text/html": [
       "<div>\n",
       "<style scoped>\n",
       "    .dataframe tbody tr th:only-of-type {\n",
       "        vertical-align: middle;\n",
       "    }\n",
       "\n",
       "    .dataframe tbody tr th {\n",
       "        vertical-align: top;\n",
       "    }\n",
       "\n",
       "    .dataframe thead th {\n",
       "        text-align: right;\n",
       "    }\n",
       "</style>\n",
       "<table border=\"1\" class=\"dataframe\">\n",
       "  <thead>\n",
       "    <tr style=\"text-align: right;\">\n",
       "      <th></th>\n",
       "      <th>trip_creation_time</th>\n",
       "      <th>source_name</th>\n",
       "      <th>destination_name</th>\n",
       "    </tr>\n",
       "  </thead>\n",
       "  <tbody>\n",
       "    <tr>\n",
       "      <th>0</th>\n",
       "      <td>2018-09-12 00:00:16.535741</td>\n",
       "      <td>Kanpur_Central_H_6 (Uttar Pradesh)</td>\n",
       "      <td>Kanpur_Central_H_6 (Uttar Pradesh)</td>\n",
       "    </tr>\n",
       "    <tr>\n",
       "      <th>1</th>\n",
       "      <td>2018-09-12 00:00:22.886430</td>\n",
       "      <td>Doddablpur_ChikaDPP_D (Karnataka)</td>\n",
       "      <td>Doddablpur_ChikaDPP_D (Karnataka)</td>\n",
       "    </tr>\n",
       "    <tr>\n",
       "      <th>2</th>\n",
       "      <td>2018-09-12 00:00:33.691250</td>\n",
       "      <td>Gurgaon_Bilaspur_HB (Haryana)</td>\n",
       "      <td>Gurgaon_Bilaspur_HB (Haryana)</td>\n",
       "    </tr>\n",
       "    <tr>\n",
       "      <th>3</th>\n",
       "      <td>2018-09-12 00:01:00.113710</td>\n",
       "      <td>Mumbai Hub (Maharashtra)</td>\n",
       "      <td>Mumbai_MiraRd_IP (Maharashtra)</td>\n",
       "    </tr>\n",
       "    <tr>\n",
       "      <th>4</th>\n",
       "      <td>2018-09-12 00:02:09.740725</td>\n",
       "      <td>Bellary_Dc (Karnataka)</td>\n",
       "      <td>Sandur_WrdN1DPP_D (Karnataka)</td>\n",
       "    </tr>\n",
       "    <tr>\n",
       "      <th>...</th>\n",
       "      <td>...</td>\n",
       "      <td>...</td>\n",
       "      <td>...</td>\n",
       "    </tr>\n",
       "    <tr>\n",
       "      <th>14782</th>\n",
       "      <td>2018-10-03 23:55:56.258533</td>\n",
       "      <td>Chandigarh_Mehmdpur_H (Punjab)</td>\n",
       "      <td>Chandigarh_Mehmdpur_H (Punjab)</td>\n",
       "    </tr>\n",
       "    <tr>\n",
       "      <th>14783</th>\n",
       "      <td>2018-10-03 23:57:23.863155</td>\n",
       "      <td>FBD_Balabhgarh_DPC (Haryana)</td>\n",
       "      <td>Faridabad_Blbgarh_DC (Haryana)</td>\n",
       "    </tr>\n",
       "    <tr>\n",
       "      <th>14784</th>\n",
       "      <td>2018-10-03 23:57:44.429324</td>\n",
       "      <td>Kanpur_GovndNgr_DC (Uttar Pradesh)</td>\n",
       "      <td>Kanpur_GovndNgr_DC (Uttar Pradesh)</td>\n",
       "    </tr>\n",
       "    <tr>\n",
       "      <th>14785</th>\n",
       "      <td>2018-10-03 23:59:14.390954</td>\n",
       "      <td>Tirunelveli_VdkkuSrt_I (Tamil Nadu)</td>\n",
       "      <td>Tirchchndr_Shnmgprm_D (Tamil Nadu)</td>\n",
       "    </tr>\n",
       "    <tr>\n",
       "      <th>14786</th>\n",
       "      <td>2018-10-03 23:59:42.701692</td>\n",
       "      <td>Sandur_WrdN1DPP_D (Karnataka)</td>\n",
       "      <td>Sandur_WrdN1DPP_D (Karnataka)</td>\n",
       "    </tr>\n",
       "  </tbody>\n",
       "</table>\n",
       "<p>14787 rows × 3 columns</p>\n",
       "</div>"
      ],
      "text/plain": [
       "              trip_creation_time                          source_name  \\\n",
       "0     2018-09-12 00:00:16.535741   Kanpur_Central_H_6 (Uttar Pradesh)   \n",
       "1     2018-09-12 00:00:22.886430    Doddablpur_ChikaDPP_D (Karnataka)   \n",
       "2     2018-09-12 00:00:33.691250        Gurgaon_Bilaspur_HB (Haryana)   \n",
       "3     2018-09-12 00:01:00.113710             Mumbai Hub (Maharashtra)   \n",
       "4     2018-09-12 00:02:09.740725               Bellary_Dc (Karnataka)   \n",
       "...                          ...                                  ...   \n",
       "14782 2018-10-03 23:55:56.258533       Chandigarh_Mehmdpur_H (Punjab)   \n",
       "14783 2018-10-03 23:57:23.863155         FBD_Balabhgarh_DPC (Haryana)   \n",
       "14784 2018-10-03 23:57:44.429324   Kanpur_GovndNgr_DC (Uttar Pradesh)   \n",
       "14785 2018-10-03 23:59:14.390954  Tirunelveli_VdkkuSrt_I (Tamil Nadu)   \n",
       "14786 2018-10-03 23:59:42.701692        Sandur_WrdN1DPP_D (Karnataka)   \n",
       "\n",
       "                         destination_name  \n",
       "0      Kanpur_Central_H_6 (Uttar Pradesh)  \n",
       "1       Doddablpur_ChikaDPP_D (Karnataka)  \n",
       "2           Gurgaon_Bilaspur_HB (Haryana)  \n",
       "3          Mumbai_MiraRd_IP (Maharashtra)  \n",
       "4           Sandur_WrdN1DPP_D (Karnataka)  \n",
       "...                                   ...  \n",
       "14782      Chandigarh_Mehmdpur_H (Punjab)  \n",
       "14783      Faridabad_Blbgarh_DC (Haryana)  \n",
       "14784  Kanpur_GovndNgr_DC (Uttar Pradesh)  \n",
       "14785  Tirchchndr_Shnmgprm_D (Tamil Nadu)  \n",
       "14786       Sandur_WrdN1DPP_D (Karnataka)  \n",
       "\n",
       "[14787 rows x 3 columns]"
      ]
     },
     "execution_count": 31,
     "metadata": {},
     "output_type": "execute_result"
    }
   ],
   "source": [
    "trip[['trip_creation_time', 'source_name', 'destination_name']]"
   ]
  },
  {
   "cell_type": "markdown",
   "id": "f5e7e3f3",
   "metadata": {},
   "source": [
    "### Split and extract features out of source & destination. City-place-code (State)"
   ]
  },
  {
   "cell_type": "code",
   "execution_count": 32,
   "id": "3c002ee3",
   "metadata": {},
   "outputs": [
    {
     "data": {
      "text/html": [
       "<div>\n",
       "<style scoped>\n",
       "    .dataframe tbody tr th:only-of-type {\n",
       "        vertical-align: middle;\n",
       "    }\n",
       "\n",
       "    .dataframe tbody tr th {\n",
       "        vertical-align: top;\n",
       "    }\n",
       "\n",
       "    .dataframe thead th {\n",
       "        text-align: right;\n",
       "    }\n",
       "</style>\n",
       "<table border=\"1\" class=\"dataframe\">\n",
       "  <thead>\n",
       "    <tr style=\"text-align: right;\">\n",
       "      <th></th>\n",
       "      <th>source_city</th>\n",
       "      <th>source_state</th>\n",
       "      <th>destination_city</th>\n",
       "      <th>destination_state</th>\n",
       "    </tr>\n",
       "  </thead>\n",
       "  <tbody>\n",
       "    <tr>\n",
       "      <th>0</th>\n",
       "      <td>Kanpur</td>\n",
       "      <td>Uttar Pradesh</td>\n",
       "      <td>Kanpur</td>\n",
       "      <td>Uttar Pradesh</td>\n",
       "    </tr>\n",
       "    <tr>\n",
       "      <th>1</th>\n",
       "      <td>Doddablpur</td>\n",
       "      <td>Karnataka</td>\n",
       "      <td>Doddablpur</td>\n",
       "      <td>Karnataka</td>\n",
       "    </tr>\n",
       "    <tr>\n",
       "      <th>2</th>\n",
       "      <td>Gurgaon</td>\n",
       "      <td>Haryana</td>\n",
       "      <td>Gurgaon</td>\n",
       "      <td>Haryana</td>\n",
       "    </tr>\n",
       "    <tr>\n",
       "      <th>3</th>\n",
       "      <td>Mumbai Hub</td>\n",
       "      <td>Maharashtra</td>\n",
       "      <td>Mumbai</td>\n",
       "      <td>Maharashtra</td>\n",
       "    </tr>\n",
       "    <tr>\n",
       "      <th>4</th>\n",
       "      <td>Bellary</td>\n",
       "      <td>Karnataka</td>\n",
       "      <td>Sandur</td>\n",
       "      <td>Karnataka</td>\n",
       "    </tr>\n",
       "    <tr>\n",
       "      <th>...</th>\n",
       "      <td>...</td>\n",
       "      <td>...</td>\n",
       "      <td>...</td>\n",
       "      <td>...</td>\n",
       "    </tr>\n",
       "    <tr>\n",
       "      <th>14782</th>\n",
       "      <td>Chandigarh</td>\n",
       "      <td>Punjab</td>\n",
       "      <td>Chandigarh</td>\n",
       "      <td>Punjab</td>\n",
       "    </tr>\n",
       "    <tr>\n",
       "      <th>14783</th>\n",
       "      <td>FBD</td>\n",
       "      <td>Haryana</td>\n",
       "      <td>Faridabad</td>\n",
       "      <td>Haryana</td>\n",
       "    </tr>\n",
       "    <tr>\n",
       "      <th>14784</th>\n",
       "      <td>Kanpur</td>\n",
       "      <td>Uttar Pradesh</td>\n",
       "      <td>Kanpur</td>\n",
       "      <td>Uttar Pradesh</td>\n",
       "    </tr>\n",
       "    <tr>\n",
       "      <th>14785</th>\n",
       "      <td>Tirunelveli</td>\n",
       "      <td>Tamil Nadu</td>\n",
       "      <td>Tirchchndr</td>\n",
       "      <td>Tamil Nadu</td>\n",
       "    </tr>\n",
       "    <tr>\n",
       "      <th>14786</th>\n",
       "      <td>Sandur</td>\n",
       "      <td>Karnataka</td>\n",
       "      <td>Sandur</td>\n",
       "      <td>Karnataka</td>\n",
       "    </tr>\n",
       "  </tbody>\n",
       "</table>\n",
       "<p>14787 rows × 4 columns</p>\n",
       "</div>"
      ],
      "text/plain": [
       "       source_city   source_state destination_city destination_state\n",
       "0           Kanpur  Uttar Pradesh           Kanpur     Uttar Pradesh\n",
       "1       Doddablpur      Karnataka       Doddablpur         Karnataka\n",
       "2          Gurgaon        Haryana          Gurgaon           Haryana\n",
       "3       Mumbai Hub    Maharashtra           Mumbai       Maharashtra\n",
       "4          Bellary      Karnataka           Sandur         Karnataka\n",
       "...            ...            ...              ...               ...\n",
       "14782   Chandigarh         Punjab       Chandigarh            Punjab\n",
       "14783          FBD        Haryana        Faridabad           Haryana\n",
       "14784       Kanpur  Uttar Pradesh           Kanpur     Uttar Pradesh\n",
       "14785  Tirunelveli     Tamil Nadu       Tirchchndr        Tamil Nadu\n",
       "14786       Sandur      Karnataka           Sandur         Karnataka\n",
       "\n",
       "[14787 rows x 4 columns]"
      ]
     },
     "execution_count": 32,
     "metadata": {},
     "output_type": "execute_result"
    }
   ],
   "source": [
    "trip['source_state'] = trip['source_name'].str.split('(').str[1].str[:-1].str.strip()\n",
    "trip['source_city'] = trip['source_name'].str.split('(').str[0].str.split('_').str[0].str.strip()\n",
    "trip['destination_state'] = trip['destination_name'].str.split('(').str[1].str[:-1].str.strip()\n",
    "trip['destination_city'] = trip['destination_name'].str.split('(').str[0].str.split('_').str[0].str.strip()\n",
    "trip[['source_city', 'source_state', 'destination_city', 'destination_state']]"
   ]
  },
  {
   "cell_type": "code",
   "execution_count": 33,
   "id": "8227924d",
   "metadata": {},
   "outputs": [
    {
     "data": {
      "text/html": [
       "<div>\n",
       "<style scoped>\n",
       "    .dataframe tbody tr th:only-of-type {\n",
       "        vertical-align: middle;\n",
       "    }\n",
       "\n",
       "    .dataframe tbody tr th {\n",
       "        vertical-align: top;\n",
       "    }\n",
       "\n",
       "    .dataframe thead th {\n",
       "        text-align: right;\n",
       "    }\n",
       "</style>\n",
       "<table border=\"1\" class=\"dataframe\">\n",
       "  <thead>\n",
       "    <tr style=\"text-align: right;\">\n",
       "      <th></th>\n",
       "      <th>data</th>\n",
       "      <th>trip_creation_time</th>\n",
       "      <th>route_schedule_uuid</th>\n",
       "      <th>route_type</th>\n",
       "      <th>trip_uuid</th>\n",
       "      <th>source_center</th>\n",
       "      <th>source_name</th>\n",
       "      <th>destination_center</th>\n",
       "      <th>destination_name</th>\n",
       "      <th>start_scan_to_end_scan</th>\n",
       "      <th>...</th>\n",
       "      <th>actual_time</th>\n",
       "      <th>osrm_time</th>\n",
       "      <th>osrm_distance</th>\n",
       "      <th>segment_actual_time_sum</th>\n",
       "      <th>segment_osrm_time_sum</th>\n",
       "      <th>segment_osrm_distance_sum</th>\n",
       "      <th>source_state</th>\n",
       "      <th>source_city</th>\n",
       "      <th>destination_state</th>\n",
       "      <th>destination_city</th>\n",
       "    </tr>\n",
       "  </thead>\n",
       "  <tbody>\n",
       "    <tr>\n",
       "      <th>114</th>\n",
       "      <td>training</td>\n",
       "      <td>2018-09-12 02:43:11.452505</td>\n",
       "      <td>thanos::sroute:39928fa7-4ce7-4b78-8e00-c56e31d...</td>\n",
       "      <td>Carting</td>\n",
       "      <td>trip-153672019145222964</td>\n",
       "      <td>IND562132AAA</td>\n",
       "      <td>Bangalore_Nelmngla_H (Karnataka)</td>\n",
       "      <td>IND560048AAB</td>\n",
       "      <td>Bengaluru_Hoodi_IP (Karnataka)</td>\n",
       "      <td>194.0</td>\n",
       "      <td>...</td>\n",
       "      <td>106.0</td>\n",
       "      <td>40.0</td>\n",
       "      <td>35.5419</td>\n",
       "      <td>105.0</td>\n",
       "      <td>47.0</td>\n",
       "      <td>39.3452</td>\n",
       "      <td>Karnataka</td>\n",
       "      <td>Bangalore</td>\n",
       "      <td>Karnataka</td>\n",
       "      <td>Bengaluru</td>\n",
       "    </tr>\n",
       "    <tr>\n",
       "      <th>119</th>\n",
       "      <td>training</td>\n",
       "      <td>2018-09-12 02:48:39.511821</td>\n",
       "      <td>thanos::sroute:96b260f5-7df0-4432-83c9-d8b8fd4...</td>\n",
       "      <td>Carting</td>\n",
       "      <td>trip-153672051951158256</td>\n",
       "      <td>IND562132AAA</td>\n",
       "      <td>Bangalore_Nelmngla_H (Karnataka)</td>\n",
       "      <td>IND560043AAC</td>\n",
       "      <td>HBR Layout PC (Karnataka)</td>\n",
       "      <td>188.0</td>\n",
       "      <td>...</td>\n",
       "      <td>90.0</td>\n",
       "      <td>35.0</td>\n",
       "      <td>30.9114</td>\n",
       "      <td>89.0</td>\n",
       "      <td>35.0</td>\n",
       "      <td>29.8570</td>\n",
       "      <td>Karnataka</td>\n",
       "      <td>Bangalore</td>\n",
       "      <td>Karnataka</td>\n",
       "      <td>HBR Layout PC</td>\n",
       "    </tr>\n",
       "    <tr>\n",
       "      <th>124</th>\n",
       "      <td>training</td>\n",
       "      <td>2018-09-12 02:56:30.978959</td>\n",
       "      <td>thanos::sroute:074d77c8-bd46-46c6-a625-cb9e55b...</td>\n",
       "      <td>Carting</td>\n",
       "      <td>trip-153672099097862043</td>\n",
       "      <td>IND562132AAA</td>\n",
       "      <td>Bangalore_Nelmngla_H (Karnataka)</td>\n",
       "      <td>IND560078AAC</td>\n",
       "      <td>BLR_JPNagar_Pc (Karnataka)</td>\n",
       "      <td>143.0</td>\n",
       "      <td>...</td>\n",
       "      <td>65.0</td>\n",
       "      <td>31.0</td>\n",
       "      <td>33.0930</td>\n",
       "      <td>64.0</td>\n",
       "      <td>55.0</td>\n",
       "      <td>54.7183</td>\n",
       "      <td>Karnataka</td>\n",
       "      <td>Bangalore</td>\n",
       "      <td>Karnataka</td>\n",
       "      <td>BLR</td>\n",
       "    </tr>\n",
       "    <tr>\n",
       "      <th>125</th>\n",
       "      <td>training</td>\n",
       "      <td>2018-09-12 02:56:53.091158</td>\n",
       "      <td>thanos::sroute:5a979b68-18ab-430b-8ef8-814741b...</td>\n",
       "      <td>Carting</td>\n",
       "      <td>trip-153672101309094813</td>\n",
       "      <td>IND562132AAA</td>\n",
       "      <td>Bangalore_Nelmngla_H (Karnataka)</td>\n",
       "      <td>IND560002AAA</td>\n",
       "      <td>Bengaluru_KHRoad_I (Karnataka)</td>\n",
       "      <td>178.0</td>\n",
       "      <td>...</td>\n",
       "      <td>92.0</td>\n",
       "      <td>27.0</td>\n",
       "      <td>24.6239</td>\n",
       "      <td>91.0</td>\n",
       "      <td>29.0</td>\n",
       "      <td>27.1236</td>\n",
       "      <td>Karnataka</td>\n",
       "      <td>Bangalore</td>\n",
       "      <td>Karnataka</td>\n",
       "      <td>Bengaluru</td>\n",
       "    </tr>\n",
       "    <tr>\n",
       "      <th>136</th>\n",
       "      <td>training</td>\n",
       "      <td>2018-09-12 03:25:50.600701</td>\n",
       "      <td>thanos::sroute:91f94fcf-86c8-4eb1-9d3c-7a57527...</td>\n",
       "      <td>Carting</td>\n",
       "      <td>trip-153672275060033414</td>\n",
       "      <td>IND562132AAA</td>\n",
       "      <td>Bangalore_Nelmngla_H (Karnataka)</td>\n",
       "      <td>IND560060AAB</td>\n",
       "      <td>Bengaluru_Kengeri_IP (Karnataka)</td>\n",
       "      <td>121.0</td>\n",
       "      <td>...</td>\n",
       "      <td>53.0</td>\n",
       "      <td>27.0</td>\n",
       "      <td>24.8317</td>\n",
       "      <td>53.0</td>\n",
       "      <td>27.0</td>\n",
       "      <td>24.8317</td>\n",
       "      <td>Karnataka</td>\n",
       "      <td>Bangalore</td>\n",
       "      <td>Karnataka</td>\n",
       "      <td>Bengaluru</td>\n",
       "    </tr>\n",
       "    <tr>\n",
       "      <th>...</th>\n",
       "      <td>...</td>\n",
       "      <td>...</td>\n",
       "      <td>...</td>\n",
       "      <td>...</td>\n",
       "      <td>...</td>\n",
       "      <td>...</td>\n",
       "      <td>...</td>\n",
       "      <td>...</td>\n",
       "      <td>...</td>\n",
       "      <td>...</td>\n",
       "      <td>...</td>\n",
       "      <td>...</td>\n",
       "      <td>...</td>\n",
       "      <td>...</td>\n",
       "      <td>...</td>\n",
       "      <td>...</td>\n",
       "      <td>...</td>\n",
       "      <td>...</td>\n",
       "      <td>...</td>\n",
       "      <td>...</td>\n",
       "      <td>...</td>\n",
       "    </tr>\n",
       "    <tr>\n",
       "      <th>14626</th>\n",
       "      <td>test</td>\n",
       "      <td>2018-10-03 20:44:18.689692</td>\n",
       "      <td>thanos::sroute:bfdc9f03-a14d-4fcb-8509-77461e9...</td>\n",
       "      <td>Carting</td>\n",
       "      <td>trip-153859945868942255</td>\n",
       "      <td>IND562132AAA</td>\n",
       "      <td>Bangalore_Nelmngla_H (Karnataka)</td>\n",
       "      <td>IND560058AAB</td>\n",
       "      <td>Bengaluru_Peenya_IP (Karnataka)</td>\n",
       "      <td>115.0</td>\n",
       "      <td>...</td>\n",
       "      <td>20.0</td>\n",
       "      <td>14.0</td>\n",
       "      <td>12.6313</td>\n",
       "      <td>20.0</td>\n",
       "      <td>16.0</td>\n",
       "      <td>14.3524</td>\n",
       "      <td>Karnataka</td>\n",
       "      <td>Bangalore</td>\n",
       "      <td>Karnataka</td>\n",
       "      <td>Bengaluru</td>\n",
       "    </tr>\n",
       "    <tr>\n",
       "      <th>14627</th>\n",
       "      <td>test</td>\n",
       "      <td>2018-10-03 20:44:49.709860</td>\n",
       "      <td>thanos::sroute:1416d24f-6275-4b21-9813-7d052ec...</td>\n",
       "      <td>Carting</td>\n",
       "      <td>trip-153859948970962698</td>\n",
       "      <td>IND562132AAA</td>\n",
       "      <td>Bangalore_Nelmngla_H (Karnataka)</td>\n",
       "      <td>IND560058AAD</td>\n",
       "      <td>Bengaluru_Peenya_L (Karnataka)</td>\n",
       "      <td>279.0</td>\n",
       "      <td>...</td>\n",
       "      <td>48.0</td>\n",
       "      <td>20.0</td>\n",
       "      <td>15.5439</td>\n",
       "      <td>48.0</td>\n",
       "      <td>20.0</td>\n",
       "      <td>16.2059</td>\n",
       "      <td>Karnataka</td>\n",
       "      <td>Bangalore</td>\n",
       "      <td>Karnataka</td>\n",
       "      <td>Bengaluru</td>\n",
       "    </tr>\n",
       "    <tr>\n",
       "      <th>14634</th>\n",
       "      <td>test</td>\n",
       "      <td>2018-10-03 20:50:49.004009</td>\n",
       "      <td>thanos::sroute:ba9e36e6-3be9-4ed5-8f47-dd90a32...</td>\n",
       "      <td>Carting</td>\n",
       "      <td>trip-153859984900372976</td>\n",
       "      <td>IND562132AAA</td>\n",
       "      <td>Bangalore_Nelmngla_H (Karnataka)</td>\n",
       "      <td>IND560099AAB</td>\n",
       "      <td>Bengaluru_Bomsndra_HB (Karnataka)</td>\n",
       "      <td>167.0</td>\n",
       "      <td>...</td>\n",
       "      <td>69.0</td>\n",
       "      <td>47.0</td>\n",
       "      <td>49.2681</td>\n",
       "      <td>69.0</td>\n",
       "      <td>59.0</td>\n",
       "      <td>55.0141</td>\n",
       "      <td>Karnataka</td>\n",
       "      <td>Bangalore</td>\n",
       "      <td>Karnataka</td>\n",
       "      <td>Bengaluru</td>\n",
       "    </tr>\n",
       "    <tr>\n",
       "      <th>14665</th>\n",
       "      <td>test</td>\n",
       "      <td>2018-10-03 21:39:56.456386</td>\n",
       "      <td>thanos::sroute:e8223c15-c8c5-4de8-89e1-a748a0a...</td>\n",
       "      <td>Carting</td>\n",
       "      <td>trip-153860279645612700</td>\n",
       "      <td>IND562132AAA</td>\n",
       "      <td>Bangalore_Nelmngla_H (Karnataka)</td>\n",
       "      <td>IND560300AAA</td>\n",
       "      <td>Bengaluru_KGAirprt_HB (Karnataka)</td>\n",
       "      <td>158.0</td>\n",
       "      <td>...</td>\n",
       "      <td>74.0</td>\n",
       "      <td>47.0</td>\n",
       "      <td>37.3270</td>\n",
       "      <td>74.0</td>\n",
       "      <td>43.0</td>\n",
       "      <td>42.2541</td>\n",
       "      <td>Karnataka</td>\n",
       "      <td>Bangalore</td>\n",
       "      <td>Karnataka</td>\n",
       "      <td>Bengaluru</td>\n",
       "    </tr>\n",
       "    <tr>\n",
       "      <th>14690</th>\n",
       "      <td>test</td>\n",
       "      <td>2018-10-03 22:18:36.107992</td>\n",
       "      <td>thanos::sroute:ba9e36e6-3be9-4ed5-8f47-dd90a32...</td>\n",
       "      <td>Carting</td>\n",
       "      <td>trip-153860511610774986</td>\n",
       "      <td>IND562132AAA</td>\n",
       "      <td>Bangalore_Nelmngla_H (Karnataka)</td>\n",
       "      <td>IND560099AAB</td>\n",
       "      <td>Bengaluru_Bomsndra_HB (Karnataka)</td>\n",
       "      <td>395.0</td>\n",
       "      <td>...</td>\n",
       "      <td>60.0</td>\n",
       "      <td>48.0</td>\n",
       "      <td>49.1095</td>\n",
       "      <td>58.0</td>\n",
       "      <td>51.0</td>\n",
       "      <td>50.9150</td>\n",
       "      <td>Karnataka</td>\n",
       "      <td>Bangalore</td>\n",
       "      <td>Karnataka</td>\n",
       "      <td>Bengaluru</td>\n",
       "    </tr>\n",
       "  </tbody>\n",
       "</table>\n",
       "<p>648 rows × 22 columns</p>\n",
       "</div>"
      ],
      "text/plain": [
       "           data         trip_creation_time  \\\n",
       "114    training 2018-09-12 02:43:11.452505   \n",
       "119    training 2018-09-12 02:48:39.511821   \n",
       "124    training 2018-09-12 02:56:30.978959   \n",
       "125    training 2018-09-12 02:56:53.091158   \n",
       "136    training 2018-09-12 03:25:50.600701   \n",
       "...         ...                        ...   \n",
       "14626      test 2018-10-03 20:44:18.689692   \n",
       "14627      test 2018-10-03 20:44:49.709860   \n",
       "14634      test 2018-10-03 20:50:49.004009   \n",
       "14665      test 2018-10-03 21:39:56.456386   \n",
       "14690      test 2018-10-03 22:18:36.107992   \n",
       "\n",
       "                                     route_schedule_uuid route_type  \\\n",
       "114    thanos::sroute:39928fa7-4ce7-4b78-8e00-c56e31d...    Carting   \n",
       "119    thanos::sroute:96b260f5-7df0-4432-83c9-d8b8fd4...    Carting   \n",
       "124    thanos::sroute:074d77c8-bd46-46c6-a625-cb9e55b...    Carting   \n",
       "125    thanos::sroute:5a979b68-18ab-430b-8ef8-814741b...    Carting   \n",
       "136    thanos::sroute:91f94fcf-86c8-4eb1-9d3c-7a57527...    Carting   \n",
       "...                                                  ...        ...   \n",
       "14626  thanos::sroute:bfdc9f03-a14d-4fcb-8509-77461e9...    Carting   \n",
       "14627  thanos::sroute:1416d24f-6275-4b21-9813-7d052ec...    Carting   \n",
       "14634  thanos::sroute:ba9e36e6-3be9-4ed5-8f47-dd90a32...    Carting   \n",
       "14665  thanos::sroute:e8223c15-c8c5-4de8-89e1-a748a0a...    Carting   \n",
       "14690  thanos::sroute:ba9e36e6-3be9-4ed5-8f47-dd90a32...    Carting   \n",
       "\n",
       "                     trip_uuid source_center  \\\n",
       "114    trip-153672019145222964  IND562132AAA   \n",
       "119    trip-153672051951158256  IND562132AAA   \n",
       "124    trip-153672099097862043  IND562132AAA   \n",
       "125    trip-153672101309094813  IND562132AAA   \n",
       "136    trip-153672275060033414  IND562132AAA   \n",
       "...                        ...           ...   \n",
       "14626  trip-153859945868942255  IND562132AAA   \n",
       "14627  trip-153859948970962698  IND562132AAA   \n",
       "14634  trip-153859984900372976  IND562132AAA   \n",
       "14665  trip-153860279645612700  IND562132AAA   \n",
       "14690  trip-153860511610774986  IND562132AAA   \n",
       "\n",
       "                            source_name destination_center  \\\n",
       "114    Bangalore_Nelmngla_H (Karnataka)       IND560048AAB   \n",
       "119    Bangalore_Nelmngla_H (Karnataka)       IND560043AAC   \n",
       "124    Bangalore_Nelmngla_H (Karnataka)       IND560078AAC   \n",
       "125    Bangalore_Nelmngla_H (Karnataka)       IND560002AAA   \n",
       "136    Bangalore_Nelmngla_H (Karnataka)       IND560060AAB   \n",
       "...                                 ...                ...   \n",
       "14626  Bangalore_Nelmngla_H (Karnataka)       IND560058AAB   \n",
       "14627  Bangalore_Nelmngla_H (Karnataka)       IND560058AAD   \n",
       "14634  Bangalore_Nelmngla_H (Karnataka)       IND560099AAB   \n",
       "14665  Bangalore_Nelmngla_H (Karnataka)       IND560300AAA   \n",
       "14690  Bangalore_Nelmngla_H (Karnataka)       IND560099AAB   \n",
       "\n",
       "                        destination_name  start_scan_to_end_scan  ...  \\\n",
       "114       Bengaluru_Hoodi_IP (Karnataka)                   194.0  ...   \n",
       "119            HBR Layout PC (Karnataka)                   188.0  ...   \n",
       "124           BLR_JPNagar_Pc (Karnataka)                   143.0  ...   \n",
       "125       Bengaluru_KHRoad_I (Karnataka)                   178.0  ...   \n",
       "136     Bengaluru_Kengeri_IP (Karnataka)                   121.0  ...   \n",
       "...                                  ...                     ...  ...   \n",
       "14626    Bengaluru_Peenya_IP (Karnataka)                   115.0  ...   \n",
       "14627     Bengaluru_Peenya_L (Karnataka)                   279.0  ...   \n",
       "14634  Bengaluru_Bomsndra_HB (Karnataka)                   167.0  ...   \n",
       "14665  Bengaluru_KGAirprt_HB (Karnataka)                   158.0  ...   \n",
       "14690  Bengaluru_Bomsndra_HB (Karnataka)                   395.0  ...   \n",
       "\n",
       "       actual_time  osrm_time  osrm_distance  segment_actual_time_sum  \\\n",
       "114          106.0       40.0        35.5419                    105.0   \n",
       "119           90.0       35.0        30.9114                     89.0   \n",
       "124           65.0       31.0        33.0930                     64.0   \n",
       "125           92.0       27.0        24.6239                     91.0   \n",
       "136           53.0       27.0        24.8317                     53.0   \n",
       "...            ...        ...            ...                      ...   \n",
       "14626         20.0       14.0        12.6313                     20.0   \n",
       "14627         48.0       20.0        15.5439                     48.0   \n",
       "14634         69.0       47.0        49.2681                     69.0   \n",
       "14665         74.0       47.0        37.3270                     74.0   \n",
       "14690         60.0       48.0        49.1095                     58.0   \n",
       "\n",
       "       segment_osrm_time_sum  segment_osrm_distance_sum  source_state  \\\n",
       "114                     47.0                    39.3452     Karnataka   \n",
       "119                     35.0                    29.8570     Karnataka   \n",
       "124                     55.0                    54.7183     Karnataka   \n",
       "125                     29.0                    27.1236     Karnataka   \n",
       "136                     27.0                    24.8317     Karnataka   \n",
       "...                      ...                        ...           ...   \n",
       "14626                   16.0                    14.3524     Karnataka   \n",
       "14627                   20.0                    16.2059     Karnataka   \n",
       "14634                   59.0                    55.0141     Karnataka   \n",
       "14665                   43.0                    42.2541     Karnataka   \n",
       "14690                   51.0                    50.9150     Karnataka   \n",
       "\n",
       "       source_city destination_state destination_city  \n",
       "114      Bangalore         Karnataka        Bengaluru  \n",
       "119      Bangalore         Karnataka    HBR Layout PC  \n",
       "124      Bangalore         Karnataka              BLR  \n",
       "125      Bangalore         Karnataka        Bengaluru  \n",
       "136      Bangalore         Karnataka        Bengaluru  \n",
       "...            ...               ...              ...  \n",
       "14626    Bangalore         Karnataka        Bengaluru  \n",
       "14627    Bangalore         Karnataka        Bengaluru  \n",
       "14634    Bangalore         Karnataka        Bengaluru  \n",
       "14665    Bangalore         Karnataka        Bengaluru  \n",
       "14690    Bangalore         Karnataka        Bengaluru  \n",
       "\n",
       "[648 rows x 22 columns]"
      ]
     },
     "execution_count": 33,
     "metadata": {},
     "output_type": "execute_result"
    }
   ],
   "source": [
    "trip[trip['source_city'] == 'Bangalore']"
   ]
  },
  {
   "cell_type": "code",
   "execution_count": 34,
   "id": "3865e850",
   "metadata": {},
   "outputs": [
    {
     "data": {
      "text/plain": [
       "Mumbai Hub               300\n",
       "HBR Layout PC             79\n",
       "PNQ Pashan DPC            32\n",
       "PNQ Vadgaon Sheri DPC     28\n",
       "Mumbai Antop Hill         13\n",
       "Bhopal MP Nagar           11\n",
       "Ganga Nagar                4\n",
       "Panaji Goa                 3\n",
       "PNQ Rahatani DPC           2\n",
       "Mumbai Mahim               1\n",
       "Central Goa                1\n",
       "Name: source_city, dtype: int64"
      ]
     },
     "execution_count": 34,
     "metadata": {},
     "output_type": "execute_result"
    }
   ],
   "source": [
    "trip[trip['source_city'].apply(lambda x: len(x.split(' ')) > 1)]['source_city'].value_counts()"
   ]
  },
  {
   "cell_type": "code",
   "execution_count": 35,
   "id": "7ce28fc6",
   "metadata": {},
   "outputs": [
    {
     "data": {
      "text/plain": [
       "Mumbai Hub               234\n",
       "HBR Layout PC            133\n",
       "PNQ Vadgaon Sheri DPC     48\n",
       "PNQ Pashan DPC            41\n",
       "PNQ Rahatani DPC          33\n",
       "Bhopal MP Nagar           15\n",
       "Ganga Nagar                6\n",
       "Panaji Goa                 5\n",
       "Central Goa                4\n",
       "Pune Balaji Nagar          4\n",
       "Mumbai Antop Hill          2\n",
       "North Delhi                1\n",
       "Name: destination_city, dtype: int64"
      ]
     },
     "execution_count": 35,
     "metadata": {},
     "output_type": "execute_result"
    }
   ],
   "source": [
    "trip[trip['destination_city'].apply(lambda x: len(x.split(' ')) > 1)]['destination_city'].value_counts()"
   ]
  },
  {
   "cell_type": "code",
   "execution_count": 36,
   "id": "84205fb5",
   "metadata": {},
   "outputs": [],
   "source": [
    "city_name_fix = {\n",
    "    'Mumbai Hub': 'Mumbai',\n",
    "    'Mumbai Antop Hill': 'Mumbai',\n",
    "    'Mumbai Mahim': 'Mumbai',\n",
    "    'HBR Layout PC': 'Bangalore',\n",
    "    'PNQ Pashan DPC': 'Pune',\n",
    "    'PNQ Rahatani DPC': 'Pune',\n",
    "    'Pune Balaji Nagar': 'Pune',\n",
    "    'PNQ Vadgaon Sheri DPC': 'Vadgaonsheri',\n",
    "    'Bhopal MP Nagar': 'Bhopal',\n",
    "    'Panaji Goa': 'Panaji',\n",
    "    'North Delhi': 'Delhi'\n",
    "}\n",
    "for index, fix_city in enumerate(city_name_fix):\n",
    "  trip.replace(fix_city, city_name_fix[fix_city], inplace=True)"
   ]
  },
  {
   "cell_type": "code",
   "execution_count": 37,
   "id": "fecbbb0a",
   "metadata": {},
   "outputs": [
    {
     "data": {
      "text/plain": [
       "Ganga Nagar    4\n",
       "Central Goa    1\n",
       "Name: source_city, dtype: int64"
      ]
     },
     "execution_count": 37,
     "metadata": {},
     "output_type": "execute_result"
    }
   ],
   "source": [
    "trip[trip['source_city'].apply(lambda x: len(x.split(' ')) > 1)]['source_city'].value_counts()"
   ]
  },
  {
   "cell_type": "code",
   "execution_count": 38,
   "id": "7d9bc27f",
   "metadata": {},
   "outputs": [
    {
     "data": {
      "text/plain": [
       "Ganga Nagar    6\n",
       "Central Goa    4\n",
       "Name: destination_city, dtype: int64"
      ]
     },
     "execution_count": 38,
     "metadata": {},
     "output_type": "execute_result"
    }
   ],
   "source": [
    "trip[trip['destination_city'].apply(lambda x: len(x.split(' ')) > 1)]['destination_city'].value_counts()"
   ]
  },
  {
   "cell_type": "markdown",
   "id": "b5e0bc99",
   "metadata": {},
   "source": [
    "### Extract features like month, year, day, hour from trip_creation_time"
   ]
  },
  {
   "cell_type": "code",
   "execution_count": 39,
   "id": "8d34d221",
   "metadata": {},
   "outputs": [
    {
     "data": {
      "text/html": [
       "<div>\n",
       "<style scoped>\n",
       "    .dataframe tbody tr th:only-of-type {\n",
       "        vertical-align: middle;\n",
       "    }\n",
       "\n",
       "    .dataframe tbody tr th {\n",
       "        vertical-align: top;\n",
       "    }\n",
       "\n",
       "    .dataframe thead th {\n",
       "        text-align: right;\n",
       "    }\n",
       "</style>\n",
       "<table border=\"1\" class=\"dataframe\">\n",
       "  <thead>\n",
       "    <tr style=\"text-align: right;\">\n",
       "      <th></th>\n",
       "      <th>trip_creation_month_name</th>\n",
       "      <th>trip_creation_month</th>\n",
       "      <th>trip_creation_year</th>\n",
       "      <th>trip_creation_day</th>\n",
       "      <th>trip_creation_hour</th>\n",
       "      <th>trip_creation_dayofweek</th>\n",
       "      <th>trip_creation_week</th>\n",
       "    </tr>\n",
       "  </thead>\n",
       "  <tbody>\n",
       "    <tr>\n",
       "      <th>0</th>\n",
       "      <td>September</td>\n",
       "      <td>9</td>\n",
       "      <td>2018</td>\n",
       "      <td>12</td>\n",
       "      <td>0</td>\n",
       "      <td>2</td>\n",
       "      <td>37</td>\n",
       "    </tr>\n",
       "    <tr>\n",
       "      <th>1</th>\n",
       "      <td>September</td>\n",
       "      <td>9</td>\n",
       "      <td>2018</td>\n",
       "      <td>12</td>\n",
       "      <td>0</td>\n",
       "      <td>2</td>\n",
       "      <td>37</td>\n",
       "    </tr>\n",
       "    <tr>\n",
       "      <th>2</th>\n",
       "      <td>September</td>\n",
       "      <td>9</td>\n",
       "      <td>2018</td>\n",
       "      <td>12</td>\n",
       "      <td>0</td>\n",
       "      <td>2</td>\n",
       "      <td>37</td>\n",
       "    </tr>\n",
       "    <tr>\n",
       "      <th>3</th>\n",
       "      <td>September</td>\n",
       "      <td>9</td>\n",
       "      <td>2018</td>\n",
       "      <td>12</td>\n",
       "      <td>0</td>\n",
       "      <td>2</td>\n",
       "      <td>37</td>\n",
       "    </tr>\n",
       "    <tr>\n",
       "      <th>4</th>\n",
       "      <td>September</td>\n",
       "      <td>9</td>\n",
       "      <td>2018</td>\n",
       "      <td>12</td>\n",
       "      <td>0</td>\n",
       "      <td>2</td>\n",
       "      <td>37</td>\n",
       "    </tr>\n",
       "    <tr>\n",
       "      <th>...</th>\n",
       "      <td>...</td>\n",
       "      <td>...</td>\n",
       "      <td>...</td>\n",
       "      <td>...</td>\n",
       "      <td>...</td>\n",
       "      <td>...</td>\n",
       "      <td>...</td>\n",
       "    </tr>\n",
       "    <tr>\n",
       "      <th>14782</th>\n",
       "      <td>October</td>\n",
       "      <td>10</td>\n",
       "      <td>2018</td>\n",
       "      <td>3</td>\n",
       "      <td>23</td>\n",
       "      <td>2</td>\n",
       "      <td>40</td>\n",
       "    </tr>\n",
       "    <tr>\n",
       "      <th>14783</th>\n",
       "      <td>October</td>\n",
       "      <td>10</td>\n",
       "      <td>2018</td>\n",
       "      <td>3</td>\n",
       "      <td>23</td>\n",
       "      <td>2</td>\n",
       "      <td>40</td>\n",
       "    </tr>\n",
       "    <tr>\n",
       "      <th>14784</th>\n",
       "      <td>October</td>\n",
       "      <td>10</td>\n",
       "      <td>2018</td>\n",
       "      <td>3</td>\n",
       "      <td>23</td>\n",
       "      <td>2</td>\n",
       "      <td>40</td>\n",
       "    </tr>\n",
       "    <tr>\n",
       "      <th>14785</th>\n",
       "      <td>October</td>\n",
       "      <td>10</td>\n",
       "      <td>2018</td>\n",
       "      <td>3</td>\n",
       "      <td>23</td>\n",
       "      <td>2</td>\n",
       "      <td>40</td>\n",
       "    </tr>\n",
       "    <tr>\n",
       "      <th>14786</th>\n",
       "      <td>October</td>\n",
       "      <td>10</td>\n",
       "      <td>2018</td>\n",
       "      <td>3</td>\n",
       "      <td>23</td>\n",
       "      <td>2</td>\n",
       "      <td>40</td>\n",
       "    </tr>\n",
       "  </tbody>\n",
       "</table>\n",
       "<p>14787 rows × 7 columns</p>\n",
       "</div>"
      ],
      "text/plain": [
       "      trip_creation_month_name  trip_creation_month  trip_creation_year  \\\n",
       "0                    September                    9                2018   \n",
       "1                    September                    9                2018   \n",
       "2                    September                    9                2018   \n",
       "3                    September                    9                2018   \n",
       "4                    September                    9                2018   \n",
       "...                        ...                  ...                 ...   \n",
       "14782                  October                   10                2018   \n",
       "14783                  October                   10                2018   \n",
       "14784                  October                   10                2018   \n",
       "14785                  October                   10                2018   \n",
       "14786                  October                   10                2018   \n",
       "\n",
       "       trip_creation_day  trip_creation_hour  trip_creation_dayofweek  \\\n",
       "0                     12                   0                        2   \n",
       "1                     12                   0                        2   \n",
       "2                     12                   0                        2   \n",
       "3                     12                   0                        2   \n",
       "4                     12                   0                        2   \n",
       "...                  ...                 ...                      ...   \n",
       "14782                  3                  23                        2   \n",
       "14783                  3                  23                        2   \n",
       "14784                  3                  23                        2   \n",
       "14785                  3                  23                        2   \n",
       "14786                  3                  23                        2   \n",
       "\n",
       "       trip_creation_week  \n",
       "0                      37  \n",
       "1                      37  \n",
       "2                      37  \n",
       "3                      37  \n",
       "4                      37  \n",
       "...                   ...  \n",
       "14782                  40  \n",
       "14783                  40  \n",
       "14784                  40  \n",
       "14785                  40  \n",
       "14786                  40  \n",
       "\n",
       "[14787 rows x 7 columns]"
      ]
     },
     "execution_count": 39,
     "metadata": {},
     "output_type": "execute_result"
    }
   ],
   "source": [
    "trip['trip_creation_month_name'] = trip['trip_creation_time'].dt.month_name()\n",
    "trip['trip_creation_month'] = trip['trip_creation_time'].dt.month\n",
    "trip['trip_creation_year'] = trip['trip_creation_time'].dt.year\n",
    "trip['trip_creation_day'] = trip['trip_creation_time'].dt.day\n",
    "trip['trip_creation_hour'] = trip['trip_creation_time'].dt.hour\n",
    "trip['trip_creation_dayofweek'] = trip['trip_creation_time'].dt.dayofweek\n",
    "trip['trip_creation_week'] = trip['trip_creation_time'].dt.isocalendar().week\n",
    "trip[['trip_creation_month_name', 'trip_creation_month', 'trip_creation_year', 'trip_creation_day', 'trip_creation_hour', 'trip_creation_dayofweek', 'trip_creation_week']]"
   ]
  },
  {
   "cell_type": "markdown",
   "id": "a121c086",
   "metadata": {},
   "source": [
    "## Visual Analysis"
   ]
  },
  {
   "cell_type": "code",
   "execution_count": 40,
   "id": "c9121f90",
   "metadata": {},
   "outputs": [
    {
     "data": {
      "text/plain": [
       "<AxesSubplot:>"
      ]
     },
     "execution_count": 40,
     "metadata": {},
     "output_type": "execute_result"
    },
    {
     "data": {
      "image/png": "[encoded data removed]",
      "text/plain": [
       "<Figure size 1368x648 with 2 Axes>"
      ]
     },
     "metadata": {
      "needs_background": "light"
     },
     "output_type": "display_data"
    }
   ],
   "source": [
    "plt.figure(figsize=(19,9))\n",
    "sns.heatmap(trip.corr(), annot=True, linewidths=0.01)"
   ]
  },
  {
   "cell_type": "markdown",
   "id": "0dbd2d2e",
   "metadata": {},
   "source": [
    "#### It is a highly correlated data, all the fields are realted to each other."
   ]
  },
  {
   "cell_type": "code",
   "execution_count": 41,
   "id": "63106aa5",
   "metadata": {},
   "outputs": [
    {
     "data": {
      "text/html": [
       "<div>\n",
       "<style scoped>\n",
       "    .dataframe tbody tr th:only-of-type {\n",
       "        vertical-align: middle;\n",
       "    }\n",
       "\n",
       "    .dataframe tbody tr th {\n",
       "        vertical-align: top;\n",
       "    }\n",
       "\n",
       "    .dataframe thead th {\n",
       "        text-align: right;\n",
       "    }\n",
       "</style>\n",
       "<table border=\"1\" class=\"dataframe\">\n",
       "  <thead>\n",
       "    <tr style=\"text-align: right;\">\n",
       "      <th></th>\n",
       "      <th>route_type</th>\n",
       "    </tr>\n",
       "  </thead>\n",
       "  <tbody>\n",
       "    <tr>\n",
       "      <th>count</th>\n",
       "      <td>14787</td>\n",
       "    </tr>\n",
       "    <tr>\n",
       "      <th>unique</th>\n",
       "      <td>2</td>\n",
       "    </tr>\n",
       "    <tr>\n",
       "      <th>top</th>\n",
       "      <td>Carting</td>\n",
       "    </tr>\n",
       "    <tr>\n",
       "      <th>freq</th>\n",
       "      <td>8906</td>\n",
       "    </tr>\n",
       "  </tbody>\n",
       "</table>\n",
       "</div>"
      ],
      "text/plain": [
       "       route_type\n",
       "count       14787\n",
       "unique          2\n",
       "top       Carting\n",
       "freq         8906"
      ]
     },
     "execution_count": 41,
     "metadata": {},
     "output_type": "execute_result"
    }
   ],
   "source": [
    "trip[['route_type']].describe(include=['category'])"
   ]
  },
  {
   "cell_type": "code",
   "execution_count": 42,
   "id": "0cfa1f3f",
   "metadata": {},
   "outputs": [
    {
     "data": {
      "text/plain": [
       "<AxesSubplot:ylabel='route_type'>"
      ]
     },
     "execution_count": 42,
     "metadata": {},
     "output_type": "execute_result"
    },
    {
     "data": {
      "image/png": "[encoded data removed]",
      "text/plain": [
       "<Figure size 432x288 with 1 Axes>"
      ]
     },
     "metadata": {},
     "output_type": "display_data"
    }
   ],
   "source": [
    "trip['route_type'].value_counts().plot(kind='pie', autopct='%.2f')"
   ]
  },
  {
   "cell_type": "markdown",
   "id": "eac71491",
   "metadata": {},
   "source": [
    "#### Carting to FTL ratio is 60:40 almost."
   ]
  },
  {
   "cell_type": "code",
   "execution_count": 43,
   "id": "ba37644a",
   "metadata": {},
   "outputs": [
    {
     "data": {
      "text/plain": [
       "Index(['data', 'trip_creation_time', 'route_schedule_uuid', 'route_type',\n",
       "       'trip_uuid', 'source_center', 'source_name', 'destination_center',\n",
       "       'destination_name', 'start_scan_to_end_scan', 'od_time_diff_hour',\n",
       "       'actual_distance_to_destination', 'actual_time', 'osrm_time',\n",
       "       'osrm_distance', 'segment_actual_time_sum', 'segment_osrm_time_sum',\n",
       "       'segment_osrm_distance_sum', 'source_state', 'source_city',\n",
       "       'destination_state', 'destination_city', 'trip_creation_month_name',\n",
       "       'trip_creation_month', 'trip_creation_year', 'trip_creation_day',\n",
       "       'trip_creation_hour', 'trip_creation_dayofweek', 'trip_creation_week'],\n",
       "      dtype='object')"
      ]
     },
     "execution_count": 43,
     "metadata": {},
     "output_type": "execute_result"
    }
   ],
   "source": [
    "trip.columns"
   ]
  },
  {
   "cell_type": "markdown",
   "id": "5b0f59f9",
   "metadata": {},
   "source": [
    "### State"
   ]
  },
  {
   "cell_type": "code",
   "execution_count": 44,
   "id": "0d86cdd9",
   "metadata": {},
   "outputs": [
    {
     "data": {
      "text/plain": [
       "<AxesSubplot:xlabel='count', ylabel='source_state'>"
      ]
     },
     "execution_count": 44,
     "metadata": {},
     "output_type": "execute_result"
    },
    {
     "data": {
      "image/png": "[encoded data removed]",
      "text/plain": [
       "<Figure size 1368x648 with 1 Axes>"
      ]
     },
     "metadata": {
      "needs_background": "light"
     },
     "output_type": "display_data"
    }
   ],
   "source": [
    "plt.figure(figsize=(19,9))\n",
    "sns.countplot(y='source_state', data=trip, order = trip['source_state'].value_counts().index)"
   ]
  },
  {
   "cell_type": "code",
   "execution_count": 45,
   "id": "8ee48c15",
   "metadata": {},
   "outputs": [
    {
     "data": {
      "text/plain": [
       "<AxesSubplot:xlabel='count', ylabel='destination_state'>"
      ]
     },
     "execution_count": 45,
     "metadata": {},
     "output_type": "execute_result"
    },
    {
     "data": {
      "image/png": "[encoded data removed]",
      "text/plain": [
       "<Figure size 1368x648 with 1 Axes>"
      ]
     },
     "metadata": {
      "needs_background": "light"
     },
     "output_type": "display_data"
    }
   ],
   "source": [
    "plt.figure(figsize=(19,9))\n",
    "sns.countplot(y='destination_state', data=trip, order = trip['destination_state'].value_counts().index)"
   ]
  },
  {
   "cell_type": "markdown",
   "id": "e8ade2ff",
   "metadata": {},
   "source": [
    "#### MH, KA and HR are the states which have most shipments."
   ]
  },
  {
   "cell_type": "markdown",
   "id": "38be9a6f",
   "metadata": {},
   "source": [
    "### City"
   ]
  },
  {
   "cell_type": "code",
   "execution_count": 46,
   "id": "f5ad9d43",
   "metadata": {},
   "outputs": [
    {
     "data": {
      "text/plain": [
       "713"
      ]
     },
     "execution_count": 46,
     "metadata": {},
     "output_type": "execute_result"
    }
   ],
   "source": [
    "len(trip['source_city'].unique())"
   ]
  },
  {
   "cell_type": "code",
   "execution_count": 47,
   "id": "6b530d96",
   "metadata": {},
   "outputs": [
    {
     "data": {
      "text/plain": [
       "<AxesSubplot:xlabel='count', ylabel='source_city'>"
      ]
     },
     "execution_count": 47,
     "metadata": {},
     "output_type": "execute_result"
    },
    {
     "data": {
      "image/png": "[encoded data removed]",
      "text/plain": [
       "<Figure size 1368x648 with 1 Axes>"
      ]
     },
     "metadata": {
      "needs_background": "light"
     },
     "output_type": "display_data"
    }
   ],
   "source": [
    "plt.figure(figsize=(19,9))\n",
    "sns.countplot(y='source_city', data=trip, order = trip['source_city'].value_counts().index[:20])"
   ]
  },
  {
   "cell_type": "markdown",
   "id": "a50299bf",
   "metadata": {},
   "source": [
    "#### Bangalore + Bengaluru is has the highest source orders followed by Guragon & Mumbai."
   ]
  },
  {
   "cell_type": "code",
   "execution_count": 48,
   "id": "edf0ab3e",
   "metadata": {},
   "outputs": [
    {
     "data": {
      "text/plain": [
       "<AxesSubplot:xlabel='count', ylabel='destination_city'>"
      ]
     },
     "execution_count": 48,
     "metadata": {},
     "output_type": "execute_result"
    },
    {
     "data": {
      "image/png": "[encoded data removed]",
      "text/plain": [
       "<Figure size 1368x648 with 1 Axes>"
      ]
     },
     "metadata": {
      "needs_background": "light"
     },
     "output_type": "display_data"
    }
   ],
   "source": [
    "plt.figure(figsize=(19,9))\n",
    "sns.countplot(y='destination_city', data=trip, order = trip['destination_city'].value_counts().index[:20])"
   ]
  },
  {
   "cell_type": "markdown",
   "id": "4d098ee7",
   "metadata": {},
   "source": [
    "#### Bangalore + Bengaluru is has the highest source orders followed by Mumbai & Guragon."
   ]
  },
  {
   "cell_type": "markdown",
   "id": "f86a3128",
   "metadata": {},
   "source": [
    "### Trip Date Time"
   ]
  },
  {
   "cell_type": "code",
   "execution_count": 49,
   "id": "79371d20",
   "metadata": {},
   "outputs": [
    {
     "data": {
      "text/plain": [
       "<AxesSubplot:xlabel='count', ylabel='trip_creation_hour'>"
      ]
     },
     "execution_count": 49,
     "metadata": {},
     "output_type": "execute_result"
    },
    {
     "data": {
      "image/png": "[encoded data removed]",
      "text/plain": [
       "<Figure size 1368x648 with 1 Axes>"
      ]
     },
     "metadata": {
      "needs_background": "light"
     },
     "output_type": "display_data"
    }
   ],
   "source": [
    "plt.figure(figsize=(19,9))\n",
    "sns.countplot(y='trip_creation_hour', data=trip)"
   ]
  },
  {
   "cell_type": "markdown",
   "id": "fdb358f5",
   "metadata": {},
   "source": [
    "#### The least amount of trips are created during the morning time, most of the operations happen after noon till midnight."
   ]
  },
  {
   "cell_type": "code",
   "execution_count": 50,
   "id": "233f08d7",
   "metadata": {},
   "outputs": [
    {
     "data": {
      "text/plain": [
       "<AxesSubplot:xlabel='trip_creation_day', ylabel='count'>"
      ]
     },
     "execution_count": 50,
     "metadata": {},
     "output_type": "execute_result"
    },
    {
     "data": {
      "image/png": "[encoded data removed]",
      "text/plain": [
       "<Figure size 1368x648 with 1 Axes>"
      ]
     },
     "metadata": {
      "needs_background": "light"
     },
     "output_type": "display_data"
    }
   ],
   "source": [
    "plt.figure(figsize=(19,9))\n",
    "sns.countplot(x='trip_creation_day', data=trip)"
   ]
  },
  {
   "cell_type": "markdown",
   "id": "7ab6a731",
   "metadata": {},
   "source": [
    "#### Trip creation reduced toward the end of the month"
   ]
  },
  {
   "cell_type": "code",
   "execution_count": 51,
   "id": "a9ad9b3b",
   "metadata": {},
   "outputs": [
    {
     "data": {
      "text/plain": [
       "<AxesSubplot:xlabel='count', ylabel='trip_creation_month_name'>"
      ]
     },
     "execution_count": 51,
     "metadata": {},
     "output_type": "execute_result"
    },
    {
     "data": {
      "image/png": "[encoded data removed]",
      "text/plain": [
       "<Figure size 432x288 with 1 Axes>"
      ]
     },
     "metadata": {
      "needs_background": "light"
     },
     "output_type": "display_data"
    }
   ],
   "source": [
    "sns.countplot(y='trip_creation_month_name', data=trip)"
   ]
  },
  {
   "cell_type": "markdown",
   "id": "796befb6",
   "metadata": {},
   "source": [
    "#### The whole data is of only two months and in that also more data is from September."
   ]
  },
  {
   "cell_type": "code",
   "execution_count": 52,
   "id": "4141be81",
   "metadata": {},
   "outputs": [
    {
     "data": {
      "text/plain": [
       "<AxesSubplot:xlabel='count', ylabel='trip_creation_week'>"
      ]
     },
     "execution_count": 52,
     "metadata": {},
     "output_type": "execute_result"
    },
    {
     "data": {
      "image/png": "[encoded data removed]",
      "text/plain": [
       "<Figure size 432x288 with 1 Axes>"
      ]
     },
     "metadata": {
      "needs_background": "light"
     },
     "output_type": "display_data"
    }
   ],
   "source": [
    "sns.countplot(y='trip_creation_week', data=trip)"
   ]
  },
  {
   "cell_type": "code",
   "execution_count": 53,
   "id": "3d149727",
   "metadata": {},
   "outputs": [
    {
     "data": {
      "text/plain": [
       "<AxesSubplot:xlabel='count', ylabel='trip_creation_dayofweek'>"
      ]
     },
     "execution_count": 53,
     "metadata": {},
     "output_type": "execute_result"
    },
    {
     "data": {
      "image/png": "[encoded data removed]",
      "text/plain": [
       "<Figure size 432x288 with 1 Axes>"
      ]
     },
     "metadata": {
      "needs_background": "light"
     },
     "output_type": "display_data"
    }
   ],
   "source": [
    "sns.countplot(y='trip_creation_dayofweek', data=trip)"
   ]
  },
  {
   "cell_type": "markdown",
   "id": "82ce806e",
   "metadata": {},
   "source": [
    "#### Highest number of trips are created on 3rd day of the week."
   ]
  },
  {
   "cell_type": "markdown",
   "id": "f31199ab",
   "metadata": {},
   "source": [
    "### Busiest Corridors"
   ]
  },
  {
   "cell_type": "code",
   "execution_count": 54,
   "id": "1384d94c",
   "metadata": {},
   "outputs": [
    {
     "data": {
      "text/html": [
       "<div>\n",
       "<style scoped>\n",
       "    .dataframe tbody tr th:only-of-type {\n",
       "        vertical-align: middle;\n",
       "    }\n",
       "\n",
       "    .dataframe tbody tr th {\n",
       "        vertical-align: top;\n",
       "    }\n",
       "\n",
       "    .dataframe thead th {\n",
       "        text-align: right;\n",
       "    }\n",
       "</style>\n",
       "<table border=\"1\" class=\"dataframe\">\n",
       "  <thead>\n",
       "    <tr style=\"text-align: right;\">\n",
       "      <th></th>\n",
       "      <th>source_state</th>\n",
       "      <th>destination_state</th>\n",
       "      <th>trips</th>\n",
       "    </tr>\n",
       "  </thead>\n",
       "  <tbody>\n",
       "    <tr>\n",
       "      <th>88</th>\n",
       "      <td>Maharashtra</td>\n",
       "      <td>Maharashtra</td>\n",
       "      <td>2453</td>\n",
       "    </tr>\n",
       "    <tr>\n",
       "      <th>65</th>\n",
       "      <td>Karnataka</td>\n",
       "      <td>Karnataka</td>\n",
       "      <td>2057</td>\n",
       "    </tr>\n",
       "    <tr>\n",
       "      <th>114</th>\n",
       "      <td>Tamil Nadu</td>\n",
       "      <td>Tamil Nadu</td>\n",
       "      <td>1021</td>\n",
       "    </tr>\n",
       "    <tr>\n",
       "      <th>42</th>\n",
       "      <td>Haryana</td>\n",
       "      <td>Haryana</td>\n",
       "      <td>945</td>\n",
       "    </tr>\n",
       "    <tr>\n",
       "      <th>123</th>\n",
       "      <td>Telangana</td>\n",
       "      <td>Telangana</td>\n",
       "      <td>689</td>\n",
       "    </tr>\n",
       "    <tr>\n",
       "      <th>32</th>\n",
       "      <td>Gujarat</td>\n",
       "      <td>Gujarat</td>\n",
       "      <td>629</td>\n",
       "    </tr>\n",
       "    <tr>\n",
       "      <th>140</th>\n",
       "      <td>West Bengal</td>\n",
       "      <td>West Bengal</td>\n",
       "      <td>615</td>\n",
       "    </tr>\n",
       "    <tr>\n",
       "      <th>130</th>\n",
       "      <td>Uttar Pradesh</td>\n",
       "      <td>Uttar Pradesh</td>\n",
       "      <td>592</td>\n",
       "    </tr>\n",
       "    <tr>\n",
       "      <th>110</th>\n",
       "      <td>Rajasthan</td>\n",
       "      <td>Rajasthan</td>\n",
       "      <td>453</td>\n",
       "    </tr>\n",
       "    <tr>\n",
       "      <th>0</th>\n",
       "      <td>Andhra Pradesh</td>\n",
       "      <td>Andhra Pradesh</td>\n",
       "      <td>414</td>\n",
       "    </tr>\n",
       "    <tr>\n",
       "      <th>106</th>\n",
       "      <td>Punjab</td>\n",
       "      <td>Punjab</td>\n",
       "      <td>408</td>\n",
       "    </tr>\n",
       "    <tr>\n",
       "      <th>22</th>\n",
       "      <td>Delhi</td>\n",
       "      <td>Haryana</td>\n",
       "      <td>387</td>\n",
       "    </tr>\n",
       "    <tr>\n",
       "      <th>14</th>\n",
       "      <td>Bihar</td>\n",
       "      <td>Bihar</td>\n",
       "      <td>342</td>\n",
       "    </tr>\n",
       "    <tr>\n",
       "      <th>40</th>\n",
       "      <td>Haryana</td>\n",
       "      <td>Delhi</td>\n",
       "      <td>312</td>\n",
       "    </tr>\n",
       "    <tr>\n",
       "      <th>77</th>\n",
       "      <td>Madhya Pradesh</td>\n",
       "      <td>Madhya Pradesh</td>\n",
       "      <td>271</td>\n",
       "    </tr>\n",
       "    <tr>\n",
       "      <th>73</th>\n",
       "      <td>Kerala</td>\n",
       "      <td>Kerala</td>\n",
       "      <td>264</td>\n",
       "    </tr>\n",
       "    <tr>\n",
       "      <th>7</th>\n",
       "      <td>Assam</td>\n",
       "      <td>Assam</td>\n",
       "      <td>213</td>\n",
       "    </tr>\n",
       "    <tr>\n",
       "      <th>21</th>\n",
       "      <td>Delhi</td>\n",
       "      <td>Delhi</td>\n",
       "      <td>206</td>\n",
       "    </tr>\n",
       "    <tr>\n",
       "      <th>61</th>\n",
       "      <td>Jharkhand</td>\n",
       "      <td>Jharkhand</td>\n",
       "      <td>156</td>\n",
       "    </tr>\n",
       "    <tr>\n",
       "      <th>53</th>\n",
       "      <td>Haryana</td>\n",
       "      <td>Uttar Pradesh</td>\n",
       "      <td>121</td>\n",
       "    </tr>\n",
       "  </tbody>\n",
       "</table>\n",
       "</div>"
      ],
      "text/plain": [
       "       source_state destination_state  trips\n",
       "88      Maharashtra       Maharashtra   2453\n",
       "65        Karnataka         Karnataka   2057\n",
       "114      Tamil Nadu        Tamil Nadu   1021\n",
       "42          Haryana           Haryana    945\n",
       "123       Telangana         Telangana    689\n",
       "32          Gujarat           Gujarat    629\n",
       "140     West Bengal       West Bengal    615\n",
       "130   Uttar Pradesh     Uttar Pradesh    592\n",
       "110       Rajasthan         Rajasthan    453\n",
       "0    Andhra Pradesh    Andhra Pradesh    414\n",
       "106          Punjab            Punjab    408\n",
       "22            Delhi           Haryana    387\n",
       "14            Bihar             Bihar    342\n",
       "40          Haryana             Delhi    312\n",
       "77   Madhya Pradesh    Madhya Pradesh    271\n",
       "73           Kerala            Kerala    264\n",
       "7             Assam             Assam    213\n",
       "21            Delhi             Delhi    206\n",
       "61        Jharkhand         Jharkhand    156\n",
       "53          Haryana     Uttar Pradesh    121"
      ]
     },
     "execution_count": 54,
     "metadata": {},
     "output_type": "execute_result"
    }
   ],
   "source": [
    "trip.groupby([\"source_state\", \"destination_state\"]).size().reset_index(name=\"trips\").sort_values(by='trips', ascending=False).head(20)"
   ]
  },
  {
   "cell_type": "code",
   "execution_count": 55,
   "id": "294e3e8f",
   "metadata": {},
   "outputs": [
    {
     "data": {
      "text/html": [
       "<div>\n",
       "<style scoped>\n",
       "    .dataframe tbody tr th:only-of-type {\n",
       "        vertical-align: middle;\n",
       "    }\n",
       "\n",
       "    .dataframe tbody tr th {\n",
       "        vertical-align: top;\n",
       "    }\n",
       "\n",
       "    .dataframe thead th {\n",
       "        text-align: right;\n",
       "    }\n",
       "</style>\n",
       "<table border=\"1\" class=\"dataframe\">\n",
       "  <thead>\n",
       "    <tr style=\"text-align: right;\">\n",
       "      <th></th>\n",
       "      <th>source_city</th>\n",
       "      <th>destination_city</th>\n",
       "      <th>trips</th>\n",
       "    </tr>\n",
       "  </thead>\n",
       "  <tbody>\n",
       "    <tr>\n",
       "      <th>1168</th>\n",
       "      <td>Mumbai</td>\n",
       "      <td>Mumbai</td>\n",
       "      <td>675</td>\n",
       "    </tr>\n",
       "    <tr>\n",
       "      <th>211</th>\n",
       "      <td>Bengaluru</td>\n",
       "      <td>Bengaluru</td>\n",
       "      <td>581</td>\n",
       "    </tr>\n",
       "    <tr>\n",
       "      <th>155</th>\n",
       "      <td>Bangalore</td>\n",
       "      <td>Bengaluru</td>\n",
       "      <td>481</td>\n",
       "    </tr>\n",
       "    <tr>\n",
       "      <th>274</th>\n",
       "      <td>Bhiwandi</td>\n",
       "      <td>Mumbai</td>\n",
       "      <td>437</td>\n",
       "    </tr>\n",
       "    <tr>\n",
       "      <th>210</th>\n",
       "      <td>Bengaluru</td>\n",
       "      <td>Bangalore</td>\n",
       "      <td>402</td>\n",
       "    </tr>\n",
       "    <tr>\n",
       "      <th>755</th>\n",
       "      <td>Hyderabad</td>\n",
       "      <td>Hyderabad</td>\n",
       "      <td>355</td>\n",
       "    </tr>\n",
       "    <tr>\n",
       "      <th>1165</th>\n",
       "      <td>Mumbai</td>\n",
       "      <td>Bhiwandi</td>\n",
       "      <td>270</td>\n",
       "    </tr>\n",
       "    <tr>\n",
       "      <th>1337</th>\n",
       "      <td>Pune</td>\n",
       "      <td>Pune</td>\n",
       "      <td>241</td>\n",
       "    </tr>\n",
       "    <tr>\n",
       "      <th>638</th>\n",
       "      <td>Gurgaon</td>\n",
       "      <td>Delhi</td>\n",
       "      <td>241</td>\n",
       "    </tr>\n",
       "    <tr>\n",
       "      <th>378</th>\n",
       "      <td>Chennai</td>\n",
       "      <td>Chennai</td>\n",
       "      <td>223</td>\n",
       "    </tr>\n",
       "    <tr>\n",
       "      <th>455</th>\n",
       "      <td>Delhi</td>\n",
       "      <td>Gurgaon</td>\n",
       "      <td>185</td>\n",
       "    </tr>\n",
       "    <tr>\n",
       "      <th>1050</th>\n",
       "      <td>MAA</td>\n",
       "      <td>Chennai</td>\n",
       "      <td>178</td>\n",
       "    </tr>\n",
       "    <tr>\n",
       "      <th>646</th>\n",
       "      <td>Gurgaon</td>\n",
       "      <td>Gurgaon</td>\n",
       "      <td>175</td>\n",
       "    </tr>\n",
       "    <tr>\n",
       "      <th>358</th>\n",
       "      <td>Chandigarh</td>\n",
       "      <td>Chandigarh</td>\n",
       "      <td>142</td>\n",
       "    </tr>\n",
       "    <tr>\n",
       "      <th>451</th>\n",
       "      <td>Delhi</td>\n",
       "      <td>Delhi</td>\n",
       "      <td>142</td>\n",
       "    </tr>\n",
       "    <tr>\n",
       "      <th>790</th>\n",
       "      <td>Jaipur</td>\n",
       "      <td>Jaipur</td>\n",
       "      <td>139</td>\n",
       "    </tr>\n",
       "    <tr>\n",
       "      <th>379</th>\n",
       "      <td>Chennai</td>\n",
       "      <td>MAA</td>\n",
       "      <td>115</td>\n",
       "    </tr>\n",
       "    <tr>\n",
       "      <th>968</th>\n",
       "      <td>Kolkata</td>\n",
       "      <td>Kolkata</td>\n",
       "      <td>108</td>\n",
       "    </tr>\n",
       "    <tr>\n",
       "      <th>281</th>\n",
       "      <td>Bhopal</td>\n",
       "      <td>Bhopal</td>\n",
       "      <td>99</td>\n",
       "    </tr>\n",
       "    <tr>\n",
       "      <th>1542</th>\n",
       "      <td>Sonipat</td>\n",
       "      <td>Sonipat</td>\n",
       "      <td>98</td>\n",
       "    </tr>\n",
       "  </tbody>\n",
       "</table>\n",
       "</div>"
      ],
      "text/plain": [
       "     source_city destination_city  trips\n",
       "1168      Mumbai           Mumbai    675\n",
       "211    Bengaluru        Bengaluru    581\n",
       "155    Bangalore        Bengaluru    481\n",
       "274     Bhiwandi           Mumbai    437\n",
       "210    Bengaluru        Bangalore    402\n",
       "755    Hyderabad        Hyderabad    355\n",
       "1165      Mumbai         Bhiwandi    270\n",
       "1337        Pune             Pune    241\n",
       "638      Gurgaon            Delhi    241\n",
       "378      Chennai          Chennai    223\n",
       "455        Delhi          Gurgaon    185\n",
       "1050         MAA          Chennai    178\n",
       "646      Gurgaon          Gurgaon    175\n",
       "358   Chandigarh       Chandigarh    142\n",
       "451        Delhi            Delhi    142\n",
       "790       Jaipur           Jaipur    139\n",
       "379      Chennai              MAA    115\n",
       "968      Kolkata          Kolkata    108\n",
       "281       Bhopal           Bhopal     99\n",
       "1542     Sonipat          Sonipat     98"
      ]
     },
     "execution_count": 55,
     "metadata": {},
     "output_type": "execute_result"
    }
   ],
   "source": [
    "trip.groupby([\"source_city\", \"destination_city\"]).size().reset_index(name=\"trips\").sort_values(by='trips', ascending=False).head(20)"
   ]
  },
  {
   "cell_type": "markdown",
   "id": "73a76fe4",
   "metadata": {},
   "source": [
    "### Remove outliers using IQR method"
   ]
  },
  {
   "cell_type": "code",
   "execution_count": 56,
   "id": "186ab7c3",
   "metadata": {},
   "outputs": [
    {
     "data": {
      "text/plain": [
       "<AxesSubplot:>"
      ]
     },
     "execution_count": 56,
     "metadata": {},
     "output_type": "execute_result"
    },
    {
     "data": {
      "image/png": "[encoded data removed]",
      "text/plain": [
       "<Figure size 1800x720 with 1 Axes>"
      ]
     },
     "metadata": {
      "needs_background": "light"
     },
     "output_type": "display_data"
    }
   ],
   "source": [
    "num_cols = ['start_scan_to_end_scan', 'od_time_diff_hour', 'actual_distance_to_destination', 'actual_time', 'osrm_time',\n",
    "            'osrm_distance', 'segment_actual_time_sum', 'segment_osrm_time_sum', 'segment_osrm_distance_sum']\n",
    "trip[num_cols].boxplot(figsize=(25,10), rot=25)"
   ]
  },
  {
   "cell_type": "code",
   "execution_count": 57,
   "id": "83442ff5",
   "metadata": {},
   "outputs": [
    {
     "data": {
      "text/plain": [
       "True     12723\n",
       "False     2064\n",
       "dtype: int64"
      ]
     },
     "execution_count": 57,
     "metadata": {},
     "output_type": "execute_result"
    }
   ],
   "source": [
    "q1 = trip[num_cols].quantile(0.25)\n",
    "q3 = trip[num_cols].quantile(0.75)\n",
    "iqr = q3 - q1\n",
    "(((trip[num_cols] >= q1 - 1.5*iqr) & (trip[num_cols] <= q3 + 1.5*iqr)).all(axis=1)).value_counts()"
   ]
  },
  {
   "cell_type": "code",
   "execution_count": 58,
   "id": "4b5150c7",
   "metadata": {},
   "outputs": [
    {
     "data": {
      "text/plain": [
       "(13770, 29)"
      ]
     },
     "execution_count": 58,
     "metadata": {},
     "output_type": "execute_result"
    }
   ],
   "source": [
    "trip = trip[((trip[num_cols] >= q1 - 1.5*iqr) & (trip[num_cols] <= q3 + 1.5*iqr)).any(axis=1)]\n",
    "trip.reset_index(drop=True, inplace=True)\n",
    "trip.shape"
   ]
  },
  {
   "cell_type": "code",
   "execution_count": 59,
   "id": "1ffd957f",
   "metadata": {},
   "outputs": [
    {
     "data": {
      "text/plain": [
       "<AxesSubplot:>"
      ]
     },
     "execution_count": 59,
     "metadata": {},
     "output_type": "execute_result"
    },
    {
     "data": {
      "image/png": "[encoded data removed]",
      "text/plain": [
       "<Figure size 1800x576 with 1 Axes>"
      ]
     },
     "metadata": {
      "needs_background": "light"
     },
     "output_type": "display_data"
    }
   ],
   "source": [
    "trip[num_cols].boxplot(figsize=(25,8), rot=25)"
   ]
  },
  {
   "cell_type": "markdown",
   "id": "e3ed845f",
   "metadata": {},
   "source": [
    "## Hypothesis Testing"
   ]
  },
  {
   "cell_type": "code",
   "execution_count": 60,
   "id": "deb7a1d3",
   "metadata": {},
   "outputs": [
    {
     "data": {
      "text/html": [
       "<div>\n",
       "<style scoped>\n",
       "    .dataframe tbody tr th:only-of-type {\n",
       "        vertical-align: middle;\n",
       "    }\n",
       "\n",
       "    .dataframe tbody tr th {\n",
       "        vertical-align: top;\n",
       "    }\n",
       "\n",
       "    .dataframe thead th {\n",
       "        text-align: right;\n",
       "    }\n",
       "</style>\n",
       "<table border=\"1\" class=\"dataframe\">\n",
       "  <thead>\n",
       "    <tr style=\"text-align: right;\">\n",
       "      <th></th>\n",
       "      <th>data</th>\n",
       "      <th>trip_creation_time</th>\n",
       "      <th>route_schedule_uuid</th>\n",
       "      <th>route_type</th>\n",
       "      <th>trip_uuid</th>\n",
       "      <th>source_center</th>\n",
       "      <th>source_name</th>\n",
       "      <th>destination_center</th>\n",
       "      <th>destination_name</th>\n",
       "      <th>start_scan_to_end_scan</th>\n",
       "      <th>...</th>\n",
       "      <th>source_city</th>\n",
       "      <th>destination_state</th>\n",
       "      <th>destination_city</th>\n",
       "      <th>trip_creation_month_name</th>\n",
       "      <th>trip_creation_month</th>\n",
       "      <th>trip_creation_year</th>\n",
       "      <th>trip_creation_day</th>\n",
       "      <th>trip_creation_hour</th>\n",
       "      <th>trip_creation_dayofweek</th>\n",
       "      <th>trip_creation_week</th>\n",
       "    </tr>\n",
       "  </thead>\n",
       "  <tbody>\n",
       "    <tr>\n",
       "      <th>0</th>\n",
       "      <td>training</td>\n",
       "      <td>2018-09-12 00:00:22.886430</td>\n",
       "      <td>thanos::sroute:3a1b0ab2-bb0b-4c53-8c59-eb2a2c0...</td>\n",
       "      <td>Carting</td>\n",
       "      <td>trip-153671042288605164</td>\n",
       "      <td>IND561203AAB</td>\n",
       "      <td>Doddablpur_ChikaDPP_D (Karnataka)</td>\n",
       "      <td>IND561203AAB</td>\n",
       "      <td>Doddablpur_ChikaDPP_D (Karnataka)</td>\n",
       "      <td>180.0</td>\n",
       "      <td>...</td>\n",
       "      <td>Doddablpur</td>\n",
       "      <td>Karnataka</td>\n",
       "      <td>Doddablpur</td>\n",
       "      <td>September</td>\n",
       "      <td>9</td>\n",
       "      <td>2018</td>\n",
       "      <td>12</td>\n",
       "      <td>0</td>\n",
       "      <td>2</td>\n",
       "      <td>37</td>\n",
       "    </tr>\n",
       "    <tr>\n",
       "      <th>1</th>\n",
       "      <td>training</td>\n",
       "      <td>2018-09-12 00:01:00.113710</td>\n",
       "      <td>thanos::sroute:f0176492-a679-4597-8332-bbd1c7f...</td>\n",
       "      <td>Carting</td>\n",
       "      <td>trip-153671046011330457</td>\n",
       "      <td>IND400072AAB</td>\n",
       "      <td>Mumbai Hub (Maharashtra)</td>\n",
       "      <td>IND401104AAA</td>\n",
       "      <td>Mumbai_MiraRd_IP (Maharashtra)</td>\n",
       "      <td>100.0</td>\n",
       "      <td>...</td>\n",
       "      <td>Mumbai</td>\n",
       "      <td>Maharashtra</td>\n",
       "      <td>Mumbai</td>\n",
       "      <td>September</td>\n",
       "      <td>9</td>\n",
       "      <td>2018</td>\n",
       "      <td>12</td>\n",
       "      <td>0</td>\n",
       "      <td>2</td>\n",
       "      <td>37</td>\n",
       "    </tr>\n",
       "    <tr>\n",
       "      <th>2</th>\n",
       "      <td>training</td>\n",
       "      <td>2018-09-12 00:02:09.740725</td>\n",
       "      <td>thanos::sroute:d9f07b12-65e0-4f3b-bec8-df06134...</td>\n",
       "      <td>FTL</td>\n",
       "      <td>trip-153671052974046625</td>\n",
       "      <td>IND583101AAA</td>\n",
       "      <td>Bellary_Dc (Karnataka)</td>\n",
       "      <td>IND583119AAA</td>\n",
       "      <td>Sandur_WrdN1DPP_D (Karnataka)</td>\n",
       "      <td>717.0</td>\n",
       "      <td>...</td>\n",
       "      <td>Bellary</td>\n",
       "      <td>Karnataka</td>\n",
       "      <td>Sandur</td>\n",
       "      <td>September</td>\n",
       "      <td>9</td>\n",
       "      <td>2018</td>\n",
       "      <td>12</td>\n",
       "      <td>0</td>\n",
       "      <td>2</td>\n",
       "      <td>37</td>\n",
       "    </tr>\n",
       "    <tr>\n",
       "      <th>3</th>\n",
       "      <td>training</td>\n",
       "      <td>2018-09-12 00:02:34.161600</td>\n",
       "      <td>thanos::sroute:9bf03170-d0a2-4a3f-aa4d-9aaab3d...</td>\n",
       "      <td>Carting</td>\n",
       "      <td>trip-153671055416136166</td>\n",
       "      <td>IND600056AAA</td>\n",
       "      <td>Chennai_Poonamallee (Tamil Nadu)</td>\n",
       "      <td>IND600056AAA</td>\n",
       "      <td>Chennai_Poonamallee (Tamil Nadu)</td>\n",
       "      <td>189.0</td>\n",
       "      <td>...</td>\n",
       "      <td>Chennai</td>\n",
       "      <td>Tamil Nadu</td>\n",
       "      <td>Chennai</td>\n",
       "      <td>September</td>\n",
       "      <td>9</td>\n",
       "      <td>2018</td>\n",
       "      <td>12</td>\n",
       "      <td>0</td>\n",
       "      <td>2</td>\n",
       "      <td>37</td>\n",
       "    </tr>\n",
       "    <tr>\n",
       "      <th>4</th>\n",
       "      <td>training</td>\n",
       "      <td>2018-09-12 00:04:22.011653</td>\n",
       "      <td>thanos::sroute:a97698cc-846e-41a7-916b-88b1741...</td>\n",
       "      <td>Carting</td>\n",
       "      <td>trip-153671066201138152</td>\n",
       "      <td>IND600044AAD</td>\n",
       "      <td>Chennai_Chrompet_DPC (Tamil Nadu)</td>\n",
       "      <td>IND600048AAA</td>\n",
       "      <td>Chennai_Vandalur_Dc (Tamil Nadu)</td>\n",
       "      <td>98.0</td>\n",
       "      <td>...</td>\n",
       "      <td>Chennai</td>\n",
       "      <td>Tamil Nadu</td>\n",
       "      <td>Chennai</td>\n",
       "      <td>September</td>\n",
       "      <td>9</td>\n",
       "      <td>2018</td>\n",
       "      <td>12</td>\n",
       "      <td>0</td>\n",
       "      <td>2</td>\n",
       "      <td>37</td>\n",
       "    </tr>\n",
       "  </tbody>\n",
       "</table>\n",
       "<p>5 rows × 29 columns</p>\n",
       "</div>"
      ],
      "text/plain": [
       "       data         trip_creation_time  \\\n",
       "0  training 2018-09-12 00:00:22.886430   \n",
       "1  training 2018-09-12 00:01:00.113710   \n",
       "2  training 2018-09-12 00:02:09.740725   \n",
       "3  training 2018-09-12 00:02:34.161600   \n",
       "4  training 2018-09-12 00:04:22.011653   \n",
       "\n",
       "                                 route_schedule_uuid route_type  \\\n",
       "0  thanos::sroute:3a1b0ab2-bb0b-4c53-8c59-eb2a2c0...    Carting   \n",
       "1  thanos::sroute:f0176492-a679-4597-8332-bbd1c7f...    Carting   \n",
       "2  thanos::sroute:d9f07b12-65e0-4f3b-bec8-df06134...        FTL   \n",
       "3  thanos::sroute:9bf03170-d0a2-4a3f-aa4d-9aaab3d...    Carting   \n",
       "4  thanos::sroute:a97698cc-846e-41a7-916b-88b1741...    Carting   \n",
       "\n",
       "                 trip_uuid source_center                        source_name  \\\n",
       "0  trip-153671042288605164  IND561203AAB  Doddablpur_ChikaDPP_D (Karnataka)   \n",
       "1  trip-153671046011330457  IND400072AAB           Mumbai Hub (Maharashtra)   \n",
       "2  trip-153671052974046625  IND583101AAA             Bellary_Dc (Karnataka)   \n",
       "3  trip-153671055416136166  IND600056AAA   Chennai_Poonamallee (Tamil Nadu)   \n",
       "4  trip-153671066201138152  IND600044AAD  Chennai_Chrompet_DPC (Tamil Nadu)   \n",
       "\n",
       "  destination_center                   destination_name  \\\n",
       "0       IND561203AAB  Doddablpur_ChikaDPP_D (Karnataka)   \n",
       "1       IND401104AAA     Mumbai_MiraRd_IP (Maharashtra)   \n",
       "2       IND583119AAA      Sandur_WrdN1DPP_D (Karnataka)   \n",
       "3       IND600056AAA   Chennai_Poonamallee (Tamil Nadu)   \n",
       "4       IND600048AAA   Chennai_Vandalur_Dc (Tamil Nadu)   \n",
       "\n",
       "   start_scan_to_end_scan  ...  source_city  destination_state  \\\n",
       "0                   180.0  ...   Doddablpur          Karnataka   \n",
       "1                   100.0  ...       Mumbai        Maharashtra   \n",
       "2                   717.0  ...      Bellary          Karnataka   \n",
       "3                   189.0  ...      Chennai         Tamil Nadu   \n",
       "4                    98.0  ...      Chennai         Tamil Nadu   \n",
       "\n",
       "   destination_city  trip_creation_month_name  trip_creation_month  \\\n",
       "0        Doddablpur                 September                    9   \n",
       "1            Mumbai                 September                    9   \n",
       "2            Sandur                 September                    9   \n",
       "3           Chennai                 September                    9   \n",
       "4           Chennai                 September                    9   \n",
       "\n",
       "   trip_creation_year  trip_creation_day  trip_creation_hour  \\\n",
       "0                2018                 12                   0   \n",
       "1                2018                 12                   0   \n",
       "2                2018                 12                   0   \n",
       "3                2018                 12                   0   \n",
       "4                2018                 12                   0   \n",
       "\n",
       "  trip_creation_dayofweek trip_creation_week  \n",
       "0                       2                 37  \n",
       "1                       2                 37  \n",
       "2                       2                 37  \n",
       "3                       2                 37  \n",
       "4                       2                 37  \n",
       "\n",
       "[5 rows x 29 columns]"
      ]
     },
     "execution_count": 60,
     "metadata": {},
     "output_type": "execute_result"
    }
   ],
   "source": [
    "trip.head()"
   ]
  },
  {
   "cell_type": "markdown",
   "id": "a1b85f9a",
   "metadata": {},
   "source": [
    "### od_time_diff_hour vs start_scan_to_end_scan"
   ]
  },
  {
   "cell_type": "code",
   "execution_count": 61,
   "id": "ee126489",
   "metadata": {},
   "outputs": [
    {
     "data": {
      "text/plain": [
       "<AxesSubplot:>"
      ]
     },
     "execution_count": 61,
     "metadata": {},
     "output_type": "execute_result"
    },
    {
     "data": {
      "image/png": "[encoded data removed]",
      "text/plain": [
       "<Figure size 432x288 with 1 Axes>"
      ]
     },
     "metadata": {
      "needs_background": "light"
     },
     "output_type": "display_data"
    }
   ],
   "source": [
    "trip['duration_diff'] = trip['od_time_diff_hour'] - trip['start_scan_to_end_scan'] \n",
    "trip['duration_diff'].plot()"
   ]
  },
  {
   "cell_type": "code",
   "execution_count": 62,
   "id": "8a27d35c",
   "metadata": {},
   "outputs": [
    {
     "data": {
      "text/html": [
       "<div>\n",
       "<style scoped>\n",
       "    .dataframe tbody tr th:only-of-type {\n",
       "        vertical-align: middle;\n",
       "    }\n",
       "\n",
       "    .dataframe tbody tr th {\n",
       "        vertical-align: top;\n",
       "    }\n",
       "\n",
       "    .dataframe thead th {\n",
       "        text-align: right;\n",
       "    }\n",
       "</style>\n",
       "<table border=\"1\" class=\"dataframe\">\n",
       "  <thead>\n",
       "    <tr style=\"text-align: right;\">\n",
       "      <th></th>\n",
       "      <th>count</th>\n",
       "      <th>mean</th>\n",
       "      <th>std</th>\n",
       "      <th>min</th>\n",
       "      <th>25%</th>\n",
       "      <th>50%</th>\n",
       "      <th>75%</th>\n",
       "      <th>max</th>\n",
       "    </tr>\n",
       "  </thead>\n",
       "  <tbody>\n",
       "    <tr>\n",
       "      <th>start_scan_to_end_scan</th>\n",
       "      <td>13770.0</td>\n",
       "      <td>389.004866</td>\n",
       "      <td>358.385672</td>\n",
       "      <td>23.000000</td>\n",
       "      <td>143.000000</td>\n",
       "      <td>255.000000</td>\n",
       "      <td>508.750000</td>\n",
       "      <td>7898.000000</td>\n",
       "    </tr>\n",
       "    <tr>\n",
       "      <th>od_time_diff_hour</th>\n",
       "      <td>13770.0</td>\n",
       "      <td>389.887923</td>\n",
       "      <td>358.701488</td>\n",
       "      <td>23.461468</td>\n",
       "      <td>143.549659</td>\n",
       "      <td>255.831917</td>\n",
       "      <td>510.248212</td>\n",
       "      <td>7898.551955</td>\n",
       "    </tr>\n",
       "    <tr>\n",
       "      <th>actual_distance_to_destination</th>\n",
       "      <td>13770.0</td>\n",
       "      <td>92.003643</td>\n",
       "      <td>106.573895</td>\n",
       "      <td>9.002461</td>\n",
       "      <td>21.839017</td>\n",
       "      <td>42.124529</td>\n",
       "      <td>128.823404</td>\n",
       "      <td>769.326535</td>\n",
       "    </tr>\n",
       "    <tr>\n",
       "      <th>actual_time</th>\n",
       "      <td>13770.0</td>\n",
       "      <td>231.222077</td>\n",
       "      <td>252.718941</td>\n",
       "      <td>9.000000</td>\n",
       "      <td>64.000000</td>\n",
       "      <td>130.000000</td>\n",
       "      <td>304.000000</td>\n",
       "      <td>2764.000000</td>\n",
       "    </tr>\n",
       "    <tr>\n",
       "      <th>osrm_time</th>\n",
       "      <td>13770.0</td>\n",
       "      <td>98.091358</td>\n",
       "      <td>105.235220</td>\n",
       "      <td>6.000000</td>\n",
       "      <td>28.000000</td>\n",
       "      <td>54.000000</td>\n",
       "      <td>133.000000</td>\n",
       "      <td>679.000000</td>\n",
       "    </tr>\n",
       "    <tr>\n",
       "      <th>osrm_distance</th>\n",
       "      <td>13770.0</td>\n",
       "      <td>117.016812</td>\n",
       "      <td>133.689773</td>\n",
       "      <td>9.072900</td>\n",
       "      <td>29.414150</td>\n",
       "      <td>54.476900</td>\n",
       "      <td>164.563150</td>\n",
       "      <td>883.588200</td>\n",
       "    </tr>\n",
       "    <tr>\n",
       "      <th>segment_actual_time_sum</th>\n",
       "      <td>13770.0</td>\n",
       "      <td>229.262890</td>\n",
       "      <td>251.361182</td>\n",
       "      <td>9.000000</td>\n",
       "      <td>63.000000</td>\n",
       "      <td>129.000000</td>\n",
       "      <td>300.000000</td>\n",
       "      <td>2762.000000</td>\n",
       "    </tr>\n",
       "    <tr>\n",
       "      <th>segment_osrm_time_sum</th>\n",
       "      <td>13770.0</td>\n",
       "      <td>107.861656</td>\n",
       "      <td>117.801205</td>\n",
       "      <td>6.000000</td>\n",
       "      <td>29.000000</td>\n",
       "      <td>59.000000</td>\n",
       "      <td>154.000000</td>\n",
       "      <td>867.000000</td>\n",
       "    </tr>\n",
       "    <tr>\n",
       "      <th>segment_osrm_distance_sum</th>\n",
       "      <td>13770.0</td>\n",
       "      <td>125.165480</td>\n",
       "      <td>143.222721</td>\n",
       "      <td>9.072900</td>\n",
       "      <td>30.849125</td>\n",
       "      <td>61.989300</td>\n",
       "      <td>171.419000</td>\n",
       "      <td>1061.238100</td>\n",
       "    </tr>\n",
       "    <tr>\n",
       "      <th>trip_creation_month</th>\n",
       "      <td>13770.0</td>\n",
       "      <td>9.119680</td>\n",
       "      <td>0.324599</td>\n",
       "      <td>9.000000</td>\n",
       "      <td>9.000000</td>\n",
       "      <td>9.000000</td>\n",
       "      <td>9.000000</td>\n",
       "      <td>10.000000</td>\n",
       "    </tr>\n",
       "    <tr>\n",
       "      <th>trip_creation_year</th>\n",
       "      <td>13770.0</td>\n",
       "      <td>2018.000000</td>\n",
       "      <td>0.000000</td>\n",
       "      <td>2018.000000</td>\n",
       "      <td>2018.000000</td>\n",
       "      <td>2018.000000</td>\n",
       "      <td>2018.000000</td>\n",
       "      <td>2018.000000</td>\n",
       "    </tr>\n",
       "    <tr>\n",
       "      <th>trip_creation_day</th>\n",
       "      <td>13770.0</td>\n",
       "      <td>18.371968</td>\n",
       "      <td>7.873052</td>\n",
       "      <td>1.000000</td>\n",
       "      <td>14.000000</td>\n",
       "      <td>19.000000</td>\n",
       "      <td>25.000000</td>\n",
       "      <td>30.000000</td>\n",
       "    </tr>\n",
       "    <tr>\n",
       "      <th>trip_creation_hour</th>\n",
       "      <td>13770.0</td>\n",
       "      <td>12.480973</td>\n",
       "      <td>8.004980</td>\n",
       "      <td>0.000000</td>\n",
       "      <td>4.000000</td>\n",
       "      <td>14.000000</td>\n",
       "      <td>20.000000</td>\n",
       "      <td>23.000000</td>\n",
       "    </tr>\n",
       "    <tr>\n",
       "      <th>trip_creation_dayofweek</th>\n",
       "      <td>13770.0</td>\n",
       "      <td>2.918301</td>\n",
       "      <td>1.924327</td>\n",
       "      <td>0.000000</td>\n",
       "      <td>1.000000</td>\n",
       "      <td>3.000000</td>\n",
       "      <td>5.000000</td>\n",
       "      <td>6.000000</td>\n",
       "    </tr>\n",
       "    <tr>\n",
       "      <th>trip_creation_week</th>\n",
       "      <td>13770.0</td>\n",
       "      <td>38.292012</td>\n",
       "      <td>0.967134</td>\n",
       "      <td>37.000000</td>\n",
       "      <td>38.000000</td>\n",
       "      <td>38.000000</td>\n",
       "      <td>39.000000</td>\n",
       "      <td>40.000000</td>\n",
       "    </tr>\n",
       "    <tr>\n",
       "      <th>duration_diff</th>\n",
       "      <td>13770.0</td>\n",
       "      <td>0.883057</td>\n",
       "      <td>0.705670</td>\n",
       "      <td>0.000240</td>\n",
       "      <td>0.384924</td>\n",
       "      <td>0.729103</td>\n",
       "      <td>1.122173</td>\n",
       "      <td>5.004766</td>\n",
       "    </tr>\n",
       "  </tbody>\n",
       "</table>\n",
       "</div>"
      ],
      "text/plain": [
       "                                  count         mean         std          min  \\\n",
       "start_scan_to_end_scan          13770.0   389.004866  358.385672    23.000000   \n",
       "od_time_diff_hour               13770.0   389.887923  358.701488    23.461468   \n",
       "actual_distance_to_destination  13770.0    92.003643  106.573895     9.002461   \n",
       "actual_time                     13770.0   231.222077  252.718941     9.000000   \n",
       "osrm_time                       13770.0    98.091358  105.235220     6.000000   \n",
       "osrm_distance                   13770.0   117.016812  133.689773     9.072900   \n",
       "segment_actual_time_sum         13770.0   229.262890  251.361182     9.000000   \n",
       "segment_osrm_time_sum           13770.0   107.861656  117.801205     6.000000   \n",
       "segment_osrm_distance_sum       13770.0   125.165480  143.222721     9.072900   \n",
       "trip_creation_month             13770.0     9.119680    0.324599     9.000000   \n",
       "trip_creation_year              13770.0  2018.000000    0.000000  2018.000000   \n",
       "trip_creation_day               13770.0    18.371968    7.873052     1.000000   \n",
       "trip_creation_hour              13770.0    12.480973    8.004980     0.000000   \n",
       "trip_creation_dayofweek         13770.0     2.918301    1.924327     0.000000   \n",
       "trip_creation_week              13770.0    38.292012    0.967134    37.000000   \n",
       "duration_diff                   13770.0     0.883057    0.705670     0.000240   \n",
       "\n",
       "                                        25%          50%          75%  \\\n",
       "start_scan_to_end_scan           143.000000   255.000000   508.750000   \n",
       "od_time_diff_hour                143.549659   255.831917   510.248212   \n",
       "actual_distance_to_destination    21.839017    42.124529   128.823404   \n",
       "actual_time                       64.000000   130.000000   304.000000   \n",
       "osrm_time                         28.000000    54.000000   133.000000   \n",
       "osrm_distance                     29.414150    54.476900   164.563150   \n",
       "segment_actual_time_sum           63.000000   129.000000   300.000000   \n",
       "segment_osrm_time_sum             29.000000    59.000000   154.000000   \n",
       "segment_osrm_distance_sum         30.849125    61.989300   171.419000   \n",
       "trip_creation_month                9.000000     9.000000     9.000000   \n",
       "trip_creation_year              2018.000000  2018.000000  2018.000000   \n",
       "trip_creation_day                 14.000000    19.000000    25.000000   \n",
       "trip_creation_hour                 4.000000    14.000000    20.000000   \n",
       "trip_creation_dayofweek            1.000000     3.000000     5.000000   \n",
       "trip_creation_week                38.000000    38.000000    39.000000   \n",
       "duration_diff                      0.384924     0.729103     1.122173   \n",
       "\n",
       "                                        max  \n",
       "start_scan_to_end_scan          7898.000000  \n",
       "od_time_diff_hour               7898.551955  \n",
       "actual_distance_to_destination   769.326535  \n",
       "actual_time                     2764.000000  \n",
       "osrm_time                        679.000000  \n",
       "osrm_distance                    883.588200  \n",
       "segment_actual_time_sum         2762.000000  \n",
       "segment_osrm_time_sum            867.000000  \n",
       "segment_osrm_distance_sum       1061.238100  \n",
       "trip_creation_month               10.000000  \n",
       "trip_creation_year              2018.000000  \n",
       "trip_creation_day                 30.000000  \n",
       "trip_creation_hour                23.000000  \n",
       "trip_creation_dayofweek            6.000000  \n",
       "trip_creation_week                40.000000  \n",
       "duration_diff                      5.004766  "
      ]
     },
     "execution_count": 62,
     "metadata": {},
     "output_type": "execute_result"
    }
   ],
   "source": [
    "trip.describe().T"
   ]
  },
  {
   "cell_type": "markdown",
   "id": "c2cb4c94",
   "metadata": {},
   "source": [
    "#### There is an average difference in duration of 0.88 hour"
   ]
  },
  {
   "cell_type": "markdown",
   "id": "7cbc9052",
   "metadata": {},
   "source": [
    "#### Outlier Detection & Removal"
   ]
  },
  {
   "cell_type": "code",
   "execution_count": 63,
   "id": "505fbb41",
   "metadata": {},
   "outputs": [
    {
     "name": "stderr",
     "output_type": "stream",
     "text": [
      "C:\\Users\\Shriya Mutyal\\anaconda3\\lib\\site-packages\\seaborn\\_decorators.py:36: FutureWarning: Pass the following variable as a keyword arg: x. From version 0.12, the only valid positional argument will be `data`, and passing other arguments without an explicit keyword will result in an error or misinterpretation.\n",
      "  warnings.warn(\n"
     ]
    },
    {
     "data": {
      "text/plain": [
       "<AxesSubplot:xlabel='od_time_diff_hour'>"
      ]
     },
     "execution_count": 63,
     "metadata": {},
     "output_type": "execute_result"
    },
    {
     "data": {
      "image/png": "[encoded data removed]",
      "text/plain": [
       "<Figure size 432x288 with 1 Axes>"
      ]
     },
     "metadata": {
      "needs_background": "light"
     },
     "output_type": "display_data"
    }
   ],
   "source": [
    "sns.boxplot(trip['od_time_diff_hour'])"
   ]
  },
  {
   "cell_type": "code",
   "execution_count": 64,
   "id": "d33e79c0",
   "metadata": {},
   "outputs": [
    {
     "name": "stderr",
     "output_type": "stream",
     "text": [
      "C:\\Users\\Shriya Mutyal\\anaconda3\\lib\\site-packages\\seaborn\\_decorators.py:36: FutureWarning: Pass the following variable as a keyword arg: x. From version 0.12, the only valid positional argument will be `data`, and passing other arguments without an explicit keyword will result in an error or misinterpretation.\n",
      "  warnings.warn(\n"
     ]
    },
    {
     "data": {
      "text/plain": [
       "<AxesSubplot:xlabel='start_scan_to_end_scan'>"
      ]
     },
     "execution_count": 64,
     "metadata": {},
     "output_type": "execute_result"
    },
    {
     "data": {
      "image/png": "[encoded data removed]",
      "text/plain": [
       "<Figure size 432x288 with 1 Axes>"
      ]
     },
     "metadata": {
      "needs_background": "light"
     },
     "output_type": "display_data"
    }
   ],
   "source": [
    "sns.boxplot(trip['start_scan_to_end_scan'])"
   ]
  },
  {
   "cell_type": "code",
   "execution_count": 65,
   "id": "1a14f3ca",
   "metadata": {},
   "outputs": [
    {
     "name": "stderr",
     "output_type": "stream",
     "text": [
      "C:\\Users\\Shriya Mutyal\\anaconda3\\lib\\site-packages\\seaborn\\_decorators.py:36: FutureWarning: Pass the following variable as a keyword arg: x. From version 0.12, the only valid positional argument will be `data`, and passing other arguments without an explicit keyword will result in an error or misinterpretation.\n",
      "  warnings.warn(\n"
     ]
    },
    {
     "data": {
      "text/plain": [
       "<AxesSubplot:xlabel='duration_diff'>"
      ]
     },
     "execution_count": 65,
     "metadata": {},
     "output_type": "execute_result"
    },
    {
     "data": {
      "image/png": "[encoded data removed]",
      "text/plain": [
       "<Figure size 432x288 with 1 Axes>"
      ]
     },
     "metadata": {
      "needs_background": "light"
     },
     "output_type": "display_data"
    }
   ],
   "source": [
    "sns.boxplot(trip['duration_diff'])"
   ]
  },
  {
   "cell_type": "code",
   "execution_count": 66,
   "id": "fb8a25c7",
   "metadata": {},
   "outputs": [
    {
     "data": {
      "text/plain": [
       "(13770, 30)"
      ]
     },
     "execution_count": 66,
     "metadata": {},
     "output_type": "execute_result"
    }
   ],
   "source": [
    "trip.shape"
   ]
  },
  {
   "cell_type": "code",
   "execution_count": 67,
   "id": "922f42aa",
   "metadata": {},
   "outputs": [],
   "source": [
    "q1 = trip['duration_diff'].quantile(0.25)\n",
    "q3 = trip['duration_diff'].quantile(0.75)\n",
    "iqr = q3 - q1\n",
    "trip = trip[(trip['duration_diff'] >= q1 - 1.5*iqr) & (trip['duration_diff'] <= q3 + 1.5*iqr)]"
   ]
  },
  {
   "cell_type": "code",
   "execution_count": 68,
   "id": "60999091",
   "metadata": {},
   "outputs": [
    {
     "name": "stderr",
     "output_type": "stream",
     "text": [
      "C:\\Users\\Shriya Mutyal\\anaconda3\\lib\\site-packages\\seaborn\\_decorators.py:36: FutureWarning: Pass the following variable as a keyword arg: x. From version 0.12, the only valid positional argument will be `data`, and passing other arguments without an explicit keyword will result in an error or misinterpretation.\n",
      "  warnings.warn(\n"
     ]
    },
    {
     "data": {
      "text/plain": [
       "<AxesSubplot:xlabel='duration_diff'>"
      ]
     },
     "execution_count": 68,
     "metadata": {},
     "output_type": "execute_result"
    },
    {
     "data": {
      "image/png": "[encoded data removed]",
      "text/plain": [
       "<Figure size 432x288 with 1 Axes>"
      ]
     },
     "metadata": {
      "needs_background": "light"
     },
     "output_type": "display_data"
    }
   ],
   "source": [
    "sns.boxplot(trip['duration_diff'])"
   ]
  },
  {
   "cell_type": "code",
   "execution_count": 69,
   "id": "5bfe175b",
   "metadata": {},
   "outputs": [
    {
     "data": {
      "text/plain": [
       "(12930, 30)"
      ]
     },
     "execution_count": 69,
     "metadata": {},
     "output_type": "execute_result"
    }
   ],
   "source": [
    "trip.shape"
   ]
  },
  {
   "cell_type": "code",
   "execution_count": 70,
   "id": "71b571c3",
   "metadata": {},
   "outputs": [
    {
     "data": {
      "text/html": [
       "<div>\n",
       "<style scoped>\n",
       "    .dataframe tbody tr th:only-of-type {\n",
       "        vertical-align: middle;\n",
       "    }\n",
       "\n",
       "    .dataframe tbody tr th {\n",
       "        vertical-align: top;\n",
       "    }\n",
       "\n",
       "    .dataframe thead th {\n",
       "        text-align: right;\n",
       "    }\n",
       "</style>\n",
       "<table border=\"1\" class=\"dataframe\">\n",
       "  <thead>\n",
       "    <tr style=\"text-align: right;\">\n",
       "      <th></th>\n",
       "      <th>start_scan_to_end_scan</th>\n",
       "      <th>od_time_diff_hour</th>\n",
       "      <th>actual_distance_to_destination</th>\n",
       "      <th>actual_time</th>\n",
       "      <th>osrm_time</th>\n",
       "      <th>osrm_distance</th>\n",
       "      <th>segment_actual_time_sum</th>\n",
       "      <th>segment_osrm_time_sum</th>\n",
       "      <th>segment_osrm_distance_sum</th>\n",
       "      <th>trip_creation_month</th>\n",
       "      <th>trip_creation_year</th>\n",
       "      <th>trip_creation_day</th>\n",
       "      <th>trip_creation_hour</th>\n",
       "      <th>trip_creation_dayofweek</th>\n",
       "      <th>trip_creation_week</th>\n",
       "      <th>duration_diff</th>\n",
       "    </tr>\n",
       "  </thead>\n",
       "  <tbody>\n",
       "    <tr>\n",
       "      <th>count</th>\n",
       "      <td>12930.000000</td>\n",
       "      <td>12930.000000</td>\n",
       "      <td>12930.000000</td>\n",
       "      <td>12930.000000</td>\n",
       "      <td>12930.000000</td>\n",
       "      <td>12930.000000</td>\n",
       "      <td>12930.000000</td>\n",
       "      <td>12930.000000</td>\n",
       "      <td>12930.000000</td>\n",
       "      <td>12930.000000</td>\n",
       "      <td>12930.0</td>\n",
       "      <td>12930.000000</td>\n",
       "      <td>12930.000000</td>\n",
       "      <td>12930.000000</td>\n",
       "      <td>12930.000000</td>\n",
       "      <td>12930.000000</td>\n",
       "    </tr>\n",
       "    <tr>\n",
       "      <th>mean</th>\n",
       "      <td>362.723125</td>\n",
       "      <td>363.481654</td>\n",
       "      <td>83.900514</td>\n",
       "      <td>212.786311</td>\n",
       "      <td>89.312452</td>\n",
       "      <td>106.617319</td>\n",
       "      <td>210.966667</td>\n",
       "      <td>98.635112</td>\n",
       "      <td>114.497556</td>\n",
       "      <td>9.119799</td>\n",
       "      <td>2018.0</td>\n",
       "      <td>18.379814</td>\n",
       "      <td>12.384300</td>\n",
       "      <td>2.923589</td>\n",
       "      <td>38.292885</td>\n",
       "      <td>0.758530</td>\n",
       "    </tr>\n",
       "    <tr>\n",
       "      <th>std</th>\n",
       "      <td>341.969077</td>\n",
       "      <td>342.165352</td>\n",
       "      <td>102.320260</td>\n",
       "      <td>241.298507</td>\n",
       "      <td>99.680405</td>\n",
       "      <td>128.079400</td>\n",
       "      <td>239.986671</td>\n",
       "      <td>112.328648</td>\n",
       "      <td>137.794974</td>\n",
       "      <td>0.324739</td>\n",
       "      <td>0.0</td>\n",
       "      <td>7.882518</td>\n",
       "      <td>7.953873</td>\n",
       "      <td>1.926737</td>\n",
       "      <td>0.967723</td>\n",
       "      <td>0.510818</td>\n",
       "    </tr>\n",
       "    <tr>\n",
       "      <th>min</th>\n",
       "      <td>23.000000</td>\n",
       "      <td>23.461468</td>\n",
       "      <td>9.002461</td>\n",
       "      <td>9.000000</td>\n",
       "      <td>6.000000</td>\n",
       "      <td>9.072900</td>\n",
       "      <td>9.000000</td>\n",
       "      <td>6.000000</td>\n",
       "      <td>9.072900</td>\n",
       "      <td>9.000000</td>\n",
       "      <td>2018.0</td>\n",
       "      <td>1.000000</td>\n",
       "      <td>0.000000</td>\n",
       "      <td>0.000000</td>\n",
       "      <td>37.000000</td>\n",
       "      <td>0.000240</td>\n",
       "    </tr>\n",
       "    <tr>\n",
       "      <th>25%</th>\n",
       "      <td>137.000000</td>\n",
       "      <td>137.806557</td>\n",
       "      <td>21.476637</td>\n",
       "      <td>62.000000</td>\n",
       "      <td>27.000000</td>\n",
       "      <td>28.536900</td>\n",
       "      <td>61.000000</td>\n",
       "      <td>28.000000</td>\n",
       "      <td>29.635900</td>\n",
       "      <td>9.000000</td>\n",
       "      <td>2018.0</td>\n",
       "      <td>14.000000</td>\n",
       "      <td>5.000000</td>\n",
       "      <td>1.000000</td>\n",
       "      <td>38.000000</td>\n",
       "      <td>0.363525</td>\n",
       "    </tr>\n",
       "    <tr>\n",
       "      <th>50%</th>\n",
       "      <td>237.000000</td>\n",
       "      <td>237.957216</td>\n",
       "      <td>39.052417</td>\n",
       "      <td>117.000000</td>\n",
       "      <td>50.000000</td>\n",
       "      <td>49.413550</td>\n",
       "      <td>116.000000</td>\n",
       "      <td>54.000000</td>\n",
       "      <td>54.780550</td>\n",
       "      <td>9.000000</td>\n",
       "      <td>2018.0</td>\n",
       "      <td>19.000000</td>\n",
       "      <td>14.000000</td>\n",
       "      <td>3.000000</td>\n",
       "      <td>38.000000</td>\n",
       "      <td>0.691175</td>\n",
       "    </tr>\n",
       "    <tr>\n",
       "      <th>75%</th>\n",
       "      <td>455.000000</td>\n",
       "      <td>456.008973</td>\n",
       "      <td>106.229851</td>\n",
       "      <td>267.000000</td>\n",
       "      <td>114.000000</td>\n",
       "      <td>135.895275</td>\n",
       "      <td>264.000000</td>\n",
       "      <td>132.000000</td>\n",
       "      <td>145.085375</td>\n",
       "      <td>9.000000</td>\n",
       "      <td>2018.0</td>\n",
       "      <td>25.000000</td>\n",
       "      <td>20.000000</td>\n",
       "      <td>5.000000</td>\n",
       "      <td>39.000000</td>\n",
       "      <td>0.979305</td>\n",
       "    </tr>\n",
       "    <tr>\n",
       "      <th>max</th>\n",
       "      <td>7898.000000</td>\n",
       "      <td>7898.551955</td>\n",
       "      <td>769.326535</td>\n",
       "      <td>2764.000000</td>\n",
       "      <td>679.000000</td>\n",
       "      <td>883.588200</td>\n",
       "      <td>2762.000000</td>\n",
       "      <td>867.000000</td>\n",
       "      <td>1061.238100</td>\n",
       "      <td>10.000000</td>\n",
       "      <td>2018.0</td>\n",
       "      <td>30.000000</td>\n",
       "      <td>23.000000</td>\n",
       "      <td>6.000000</td>\n",
       "      <td>40.000000</td>\n",
       "      <td>2.224872</td>\n",
       "    </tr>\n",
       "  </tbody>\n",
       "</table>\n",
       "</div>"
      ],
      "text/plain": [
       "       start_scan_to_end_scan  od_time_diff_hour  \\\n",
       "count            12930.000000       12930.000000   \n",
       "mean               362.723125         363.481654   \n",
       "std                341.969077         342.165352   \n",
       "min                 23.000000          23.461468   \n",
       "25%                137.000000         137.806557   \n",
       "50%                237.000000         237.957216   \n",
       "75%                455.000000         456.008973   \n",
       "max               7898.000000        7898.551955   \n",
       "\n",
       "       actual_distance_to_destination   actual_time     osrm_time  \\\n",
       "count                    12930.000000  12930.000000  12930.000000   \n",
       "mean                        83.900514    212.786311     89.312452   \n",
       "std                        102.320260    241.298507     99.680405   \n",
       "min                          9.002461      9.000000      6.000000   \n",
       "25%                         21.476637     62.000000     27.000000   \n",
       "50%                         39.052417    117.000000     50.000000   \n",
       "75%                        106.229851    267.000000    114.000000   \n",
       "max                        769.326535   2764.000000    679.000000   \n",
       "\n",
       "       osrm_distance  segment_actual_time_sum  segment_osrm_time_sum  \\\n",
       "count   12930.000000             12930.000000           12930.000000   \n",
       "mean      106.617319               210.966667              98.635112   \n",
       "std       128.079400               239.986671             112.328648   \n",
       "min         9.072900                 9.000000               6.000000   \n",
       "25%        28.536900                61.000000              28.000000   \n",
       "50%        49.413550               116.000000              54.000000   \n",
       "75%       135.895275               264.000000             132.000000   \n",
       "max       883.588200              2762.000000             867.000000   \n",
       "\n",
       "       segment_osrm_distance_sum  trip_creation_month  trip_creation_year  \\\n",
       "count               12930.000000         12930.000000             12930.0   \n",
       "mean                  114.497556             9.119799              2018.0   \n",
       "std                   137.794974             0.324739                 0.0   \n",
       "min                     9.072900             9.000000              2018.0   \n",
       "25%                    29.635900             9.000000              2018.0   \n",
       "50%                    54.780550             9.000000              2018.0   \n",
       "75%                   145.085375             9.000000              2018.0   \n",
       "max                  1061.238100            10.000000              2018.0   \n",
       "\n",
       "       trip_creation_day  trip_creation_hour  trip_creation_dayofweek  \\\n",
       "count       12930.000000        12930.000000             12930.000000   \n",
       "mean           18.379814           12.384300                 2.923589   \n",
       "std             7.882518            7.953873                 1.926737   \n",
       "min             1.000000            0.000000                 0.000000   \n",
       "25%            14.000000            5.000000                 1.000000   \n",
       "50%            19.000000           14.000000                 3.000000   \n",
       "75%            25.000000           20.000000                 5.000000   \n",
       "max            30.000000           23.000000                 6.000000   \n",
       "\n",
       "       trip_creation_week  duration_diff  \n",
       "count        12930.000000   12930.000000  \n",
       "mean            38.292885       0.758530  \n",
       "std              0.967723       0.510818  \n",
       "min             37.000000       0.000240  \n",
       "25%             38.000000       0.363525  \n",
       "50%             38.000000       0.691175  \n",
       "75%             39.000000       0.979305  \n",
       "max             40.000000       2.224872  "
      ]
     },
     "execution_count": 70,
     "metadata": {},
     "output_type": "execute_result"
    }
   ],
   "source": [
    "trip.describe()"
   ]
  },
  {
   "cell_type": "markdown",
   "id": "14127d5a",
   "metadata": {},
   "source": [
    "#### Normality Check"
   ]
  },
  {
   "cell_type": "code",
   "execution_count": 71,
   "id": "b6840c33",
   "metadata": {},
   "outputs": [
    {
     "data": {
      "text/plain": [
       "<seaborn.axisgrid.FacetGrid at 0x20a0a8c4220>"
      ]
     },
     "execution_count": 71,
     "metadata": {},
     "output_type": "execute_result"
    },
    {
     "data": {
      "image/png": "[encoded data removed]",
      "text/plain": [
       "<Figure size 514.5x360 with 1 Axes>"
      ]
     },
     "metadata": {
      "needs_background": "light"
     },
     "output_type": "display_data"
    }
   ],
   "source": [
    "sns.displot(trip[['od_time_diff_hour', 'start_scan_to_end_scan']], kde=True)"
   ]
  },
  {
   "cell_type": "code",
   "execution_count": 72,
   "id": "11fd7b6f",
   "metadata": {},
   "outputs": [
    {
     "data": {
      "text/plain": [
       "<seaborn.axisgrid.FacetGrid at 0x20a0ab8d3a0>"
      ]
     },
     "execution_count": 72,
     "metadata": {},
     "output_type": "execute_result"
    },
    {
     "data": {
      "image/png": "[encoded data removed]",
      "text/plain": [
       "<Figure size 514.5x360 with 1 Axes>"
      ]
     },
     "metadata": {
      "needs_background": "light"
     },
     "output_type": "display_data"
    }
   ],
   "source": [
    "sns.displot(np.log(trip[['od_time_diff_hour', 'start_scan_to_end_scan']]), kde=True)"
   ]
  },
  {
   "cell_type": "markdown",
   "id": "c3f4a057",
   "metadata": {},
   "source": [
    "#### T-test\n",
    "    H0: There is no difference in od_time_diff_hour and start_scan_to_end_scan.\n",
    "    Ha: There is a difference in od_time_diff_hour and start_scan_to_end_scan."
   ]
  },
  {
   "cell_type": "code",
   "execution_count": 75,
   "id": "2489f7e4",
   "metadata": {},
   "outputs": [],
   "source": [
    "from scipy.stats import ttest_ind, probplot, boxcox, yeojohnson"
   ]
  },
  {
   "cell_type": "code",
   "execution_count": 76,
   "id": "3d572664",
   "metadata": {},
   "outputs": [
    {
     "data": {
      "text/plain": [
       "Ttest_indResult(statistic=0.3243719132625903, pvalue=0.37282955245501515)"
      ]
     },
     "execution_count": 76,
     "metadata": {},
     "output_type": "execute_result"
    }
   ],
   "source": [
    "ttest_ind(np.log(trip['od_time_diff_hour']), np.log(trip['start_scan_to_end_scan']), equal_var=True, alternative='greater') # 1 sided"
   ]
  },
  {
   "cell_type": "markdown",
   "id": "dcf1f342",
   "metadata": {},
   "source": [
    "#### Inferences:\n",
    "    Considering an alpha value of 0.05, the p-value of 0.37 is greater than alpha. Hence we fail to reject the null hypothesis, H0\n",
    "    Therefore, there is no difference in od_time_diff_hour and start_scan_to_end_scan."
   ]
  },
  {
   "cell_type": "markdown",
   "id": "6a0527d7",
   "metadata": {},
   "source": [
    "### actual_time vs osrm_time"
   ]
  },
  {
   "cell_type": "code",
   "execution_count": 77,
   "id": "9a9e4889",
   "metadata": {},
   "outputs": [
    {
     "name": "stderr",
     "output_type": "stream",
     "text": [
      "C:\\Users\\Shriya Mutyal\\anaconda3\\lib\\site-packages\\seaborn\\_decorators.py:36: FutureWarning: Pass the following variable as a keyword arg: x. From version 0.12, the only valid positional argument will be `data`, and passing other arguments without an explicit keyword will result in an error or misinterpretation.\n",
      "  warnings.warn(\n"
     ]
    },
    {
     "data": {
      "text/plain": [
       "<AxesSubplot:xlabel='actual_time'>"
      ]
     },
     "execution_count": 77,
     "metadata": {},
     "output_type": "execute_result"
    },
    {
     "data": {
      "image/png": "[encoded data removed]",
      "text/plain": [
       "<Figure size 432x288 with 1 Axes>"
      ]
     },
     "metadata": {
      "needs_background": "light"
     },
     "output_type": "display_data"
    }
   ],
   "source": [
    "sns.boxplot(trip['actual_time'])"
   ]
  },
  {
   "cell_type": "code",
   "execution_count": 78,
   "id": "4b136910",
   "metadata": {},
   "outputs": [
    {
     "name": "stderr",
     "output_type": "stream",
     "text": [
      "C:\\Users\\Shriya Mutyal\\anaconda3\\lib\\site-packages\\seaborn\\_decorators.py:36: FutureWarning: Pass the following variable as a keyword arg: x. From version 0.12, the only valid positional argument will be `data`, and passing other arguments without an explicit keyword will result in an error or misinterpretation.\n",
      "  warnings.warn(\n"
     ]
    },
    {
     "data": {
      "text/plain": [
       "<AxesSubplot:xlabel='actual_time'>"
      ]
     },
     "execution_count": 78,
     "metadata": {},
     "output_type": "execute_result"
    },
    {
     "data": {
      "image/png": "[encoded data removed]",
      "text/plain": [
       "<Figure size 432x288 with 1 Axes>"
      ]
     },
     "metadata": {
      "needs_background": "light"
     },
     "output_type": "display_data"
    }
   ],
   "source": [
    "sns.boxplot(trip['actual_time'])"
   ]
  },
  {
   "cell_type": "code",
   "execution_count": 79,
   "id": "ccc4830f",
   "metadata": {},
   "outputs": [],
   "source": [
    "# time = trip[['actual_time', 'osrm_time', 'segment_actual_time_sum', 'segment_osrm_time_sum']]\n",
    "trip['time_diff'] = trip['actual_time'] - trip['osrm_time']"
   ]
  },
  {
   "cell_type": "code",
   "execution_count": 80,
   "id": "316d3ec5",
   "metadata": {},
   "outputs": [
    {
     "name": "stderr",
     "output_type": "stream",
     "text": [
      "C:\\Users\\Shriya Mutyal\\anaconda3\\lib\\site-packages\\seaborn\\_decorators.py:36: FutureWarning: Pass the following variable as a keyword arg: x. From version 0.12, the only valid positional argument will be `data`, and passing other arguments without an explicit keyword will result in an error or misinterpretation.\n",
      "  warnings.warn(\n"
     ]
    },
    {
     "data": {
      "text/plain": [
       "<AxesSubplot:xlabel='time_diff'>"
      ]
     },
     "execution_count": 80,
     "metadata": {},
     "output_type": "execute_result"
    },
    {
     "data": {
      "image/png": "[encoded data removed]",
      "text/plain": [
       "<Figure size 432x288 with 1 Axes>"
      ]
     },
     "metadata": {
      "needs_background": "light"
     },
     "output_type": "display_data"
    }
   ],
   "source": [
    "sns.boxplot(trip['time_diff'])"
   ]
  },
  {
   "cell_type": "markdown",
   "id": "f83a62ad",
   "metadata": {},
   "source": [
    "#### Outlier Removal"
   ]
  },
  {
   "cell_type": "code",
   "execution_count": 81,
   "id": "ec95beb5",
   "metadata": {},
   "outputs": [
    {
     "name": "stderr",
     "output_type": "stream",
     "text": [
      "C:\\Users\\Shriya Mutyal\\anaconda3\\lib\\site-packages\\seaborn\\_decorators.py:36: FutureWarning: Pass the following variable as a keyword arg: x. From version 0.12, the only valid positional argument will be `data`, and passing other arguments without an explicit keyword will result in an error or misinterpretation.\n",
      "  warnings.warn(\n"
     ]
    },
    {
     "data": {
      "text/plain": [
       "<AxesSubplot:xlabel='time_diff'>"
      ]
     },
     "execution_count": 81,
     "metadata": {},
     "output_type": "execute_result"
    },
    {
     "data": {
      "image/png": "[encoded data removed]",
      "text/plain": [
       "<Figure size 432x288 with 1 Axes>"
      ]
     },
     "metadata": {
      "needs_background": "light"
     },
     "output_type": "display_data"
    }
   ],
   "source": [
    "q1 = trip['time_diff'].quantile(0.25)\n",
    "q3 = trip['time_diff'].quantile(0.75)\n",
    "iqr = q3 - q1\n",
    "trip = trip[(trip['time_diff'] >= q1 - 1.5*iqr) & (trip['time_diff'] <= q3 + 1.5*iqr)]\n",
    "sns.boxplot(trip['time_diff'])"
   ]
  },
  {
   "cell_type": "markdown",
   "id": "2a7270e9",
   "metadata": {},
   "source": [
    "#### Normality Check"
   ]
  },
  {
   "cell_type": "code",
   "execution_count": 82,
   "id": "95be325e",
   "metadata": {},
   "outputs": [
    {
     "data": {
      "text/plain": [
       "-0.02063692359944592"
      ]
     },
     "execution_count": 82,
     "metadata": {},
     "output_type": "execute_result"
    }
   ],
   "source": [
    "boxcox(trip['actual_time'])[1]"
   ]
  },
  {
   "cell_type": "code",
   "execution_count": 83,
   "id": "ba17dea2",
   "metadata": {},
   "outputs": [
    {
     "data": {
      "text/plain": [
       "<seaborn.axisgrid.FacetGrid at 0x20a0f93d250>"
      ]
     },
     "execution_count": 83,
     "metadata": {},
     "output_type": "execute_result"
    },
    {
     "data": {
      "image/png": "[encoded data removed]",
      "text/plain": [
       "<Figure size 360x360 with 1 Axes>"
      ]
     },
     "metadata": {
      "needs_background": "light"
     },
     "output_type": "display_data"
    }
   ],
   "source": [
    "sns.displot(boxcox(trip['actual_time'])[0], kde=True)"
   ]
  },
  {
   "cell_type": "markdown",
   "id": "6bd066a1",
   "metadata": {},
   "source": [
    "#### T-test\n",
    "    H0: There is no difference in actual_time and osrm_time.\n",
    "    Ha: There is a difference in actual_time and osrm_time."
   ]
  },
  {
   "cell_type": "code",
   "execution_count": 84,
   "id": "b5e92b83",
   "metadata": {},
   "outputs": [
    {
     "data": {
      "text/plain": [
       "Ttest_indResult(statistic=72.23696473516847, pvalue=0.0)"
      ]
     },
     "execution_count": 84,
     "metadata": {},
     "output_type": "execute_result"
    }
   ],
   "source": [
    "ttest_ind(np.log(trip['actual_time']), np.log(trip['osrm_time']), equal_var=False, alternative='greater') # 1 sided"
   ]
  },
  {
   "cell_type": "markdown",
   "id": "a70a2ddd",
   "metadata": {},
   "source": [
    "#### Inferences:\n",
    "    Considering an alpha value of 0.05, the p-value of 0 is less than alpha. Hence we reject the null hypothesis, H0\n",
    "    Therefore, there is a difference in actual_time and osrm_time."
   ]
  },
  {
   "cell_type": "markdown",
   "id": "5409bd41",
   "metadata": {},
   "source": [
    "### actual_time vs segment_actual_time_sum"
   ]
  },
  {
   "cell_type": "code",
   "execution_count": 85,
   "id": "8fdf5fa7",
   "metadata": {},
   "outputs": [
    {
     "data": {
      "text/plain": [
       "(11823, 31)"
      ]
     },
     "execution_count": 85,
     "metadata": {},
     "output_type": "execute_result"
    }
   ],
   "source": [
    "trip.shape"
   ]
  },
  {
   "cell_type": "code",
   "execution_count": 86,
   "id": "0725905e",
   "metadata": {},
   "outputs": [
    {
     "name": "stderr",
     "output_type": "stream",
     "text": [
      "C:\\Users\\Shriya Mutyal\\anaconda3\\lib\\site-packages\\seaborn\\_decorators.py:36: FutureWarning: Pass the following variable as a keyword arg: x. From version 0.12, the only valid positional argument will be `data`, and passing other arguments without an explicit keyword will result in an error or misinterpretation.\n",
      "  warnings.warn(\n"
     ]
    },
    {
     "data": {
      "text/plain": [
       "<AxesSubplot:xlabel='time_diff'>"
      ]
     },
     "execution_count": 86,
     "metadata": {},
     "output_type": "execute_result"
    },
    {
     "data": {
      "image/png": "[encoded data removed]",
      "text/plain": [
       "<Figure size 432x288 with 1 Axes>"
      ]
     },
     "metadata": {
      "needs_background": "light"
     },
     "output_type": "display_data"
    }
   ],
   "source": [
    "trip['time_diff'] = trip['actual_time'] - trip['segment_actual_time_sum']\n",
    "sns.boxplot(trip['time_diff'])"
   ]
  },
  {
   "cell_type": "markdown",
   "id": "1f7ff59a",
   "metadata": {},
   "source": [
    "#### Outlier Removal"
   ]
  },
  {
   "cell_type": "code",
   "execution_count": 87,
   "id": "12046ea4",
   "metadata": {},
   "outputs": [
    {
     "name": "stderr",
     "output_type": "stream",
     "text": [
      "C:\\Users\\Shriya Mutyal\\anaconda3\\lib\\site-packages\\seaborn\\_decorators.py:36: FutureWarning: Pass the following variable as a keyword arg: x. From version 0.12, the only valid positional argument will be `data`, and passing other arguments without an explicit keyword will result in an error or misinterpretation.\n",
      "  warnings.warn(\n"
     ]
    },
    {
     "data": {
      "text/plain": [
       "<AxesSubplot:xlabel='time_diff'>"
      ]
     },
     "execution_count": 87,
     "metadata": {},
     "output_type": "execute_result"
    },
    {
     "data": {
      "image/png": "[encoded data removed]",
      "text/plain": [
       "<Figure size 432x288 with 1 Axes>"
      ]
     },
     "metadata": {
      "needs_background": "light"
     },
     "output_type": "display_data"
    }
   ],
   "source": [
    "q1 = trip['time_diff'].quantile(0.25)\n",
    "q3 = trip['time_diff'].quantile(0.75)\n",
    "iqr = q3 - q1\n",
    "trip = trip[(trip['time_diff'] >= q1 - 1.5*iqr) & (trip['time_diff'] <= q3 + 1.5*iqr)]\n",
    "sns.boxplot(trip['time_diff'])"
   ]
  },
  {
   "cell_type": "markdown",
   "id": "a94ae17d",
   "metadata": {},
   "source": [
    "#### Normality Check"
   ]
  },
  {
   "cell_type": "code",
   "execution_count": 88,
   "id": "d6435586",
   "metadata": {},
   "outputs": [
    {
     "data": {
      "image/png": "[encoded data removed]",
      "text/plain": [
       "<Figure size 432x288 with 1 Axes>"
      ]
     },
     "metadata": {
      "needs_background": "light"
     },
     "output_type": "display_data"
    }
   ],
   "source": [
    "probplot(np.log(trip['actual_time']), dist=\"norm\", plot=plt)\n",
    "plt.show()"
   ]
  },
  {
   "cell_type": "markdown",
   "id": "a561cf6d",
   "metadata": {},
   "source": [
    "#### T-test:\n",
    "    H0: There is no difference in actual_time and segment_actual_time_sum.\n",
    "    Ha: There is a difference in actual_time and segment_actual_time_sum."
   ]
  },
  {
   "cell_type": "code",
   "execution_count": 89,
   "id": "47d2e36f",
   "metadata": {},
   "outputs": [
    {
     "data": {
      "text/html": [
       "<div>\n",
       "<style scoped>\n",
       "    .dataframe tbody tr th:only-of-type {\n",
       "        vertical-align: middle;\n",
       "    }\n",
       "\n",
       "    .dataframe tbody tr th {\n",
       "        vertical-align: top;\n",
       "    }\n",
       "\n",
       "    .dataframe thead th {\n",
       "        text-align: right;\n",
       "    }\n",
       "</style>\n",
       "<table border=\"1\" class=\"dataframe\">\n",
       "  <thead>\n",
       "    <tr style=\"text-align: right;\">\n",
       "      <th></th>\n",
       "      <th>count</th>\n",
       "      <th>mean</th>\n",
       "      <th>std</th>\n",
       "      <th>min</th>\n",
       "      <th>25%</th>\n",
       "      <th>50%</th>\n",
       "      <th>75%</th>\n",
       "      <th>max</th>\n",
       "    </tr>\n",
       "  </thead>\n",
       "  <tbody>\n",
       "    <tr>\n",
       "      <th>actual_time</th>\n",
       "      <td>11363.0</td>\n",
       "      <td>142.356156</td>\n",
       "      <td>116.649233</td>\n",
       "      <td>9.0</td>\n",
       "      <td>57.0</td>\n",
       "      <td>99.0</td>\n",
       "      <td>196.0</td>\n",
       "      <td>748.0</td>\n",
       "    </tr>\n",
       "    <tr>\n",
       "      <th>segment_actual_time_sum</th>\n",
       "      <td>11363.0</td>\n",
       "      <td>141.014609</td>\n",
       "      <td>115.868141</td>\n",
       "      <td>9.0</td>\n",
       "      <td>56.0</td>\n",
       "      <td>98.0</td>\n",
       "      <td>194.0</td>\n",
       "      <td>743.0</td>\n",
       "    </tr>\n",
       "  </tbody>\n",
       "</table>\n",
       "</div>"
      ],
      "text/plain": [
       "                           count        mean         std  min   25%   50%  \\\n",
       "actual_time              11363.0  142.356156  116.649233  9.0  57.0  99.0   \n",
       "segment_actual_time_sum  11363.0  141.014609  115.868141  9.0  56.0  98.0   \n",
       "\n",
       "                           75%    max  \n",
       "actual_time              196.0  748.0  \n",
       "segment_actual_time_sum  194.0  743.0  "
      ]
     },
     "execution_count": 89,
     "metadata": {},
     "output_type": "execute_result"
    }
   ],
   "source": [
    "trip[['actual_time', 'segment_actual_time_sum']].describe().T"
   ]
  },
  {
   "cell_type": "code",
   "execution_count": 90,
   "id": "4aaa1bbc",
   "metadata": {},
   "outputs": [
    {
     "data": {
      "text/plain": [
       "Ttest_indResult(statistic=1.012150553457158, pvalue=0.15573842541302152)"
      ]
     },
     "execution_count": 90,
     "metadata": {},
     "output_type": "execute_result"
    }
   ],
   "source": [
    "ttest_ind(np.log(trip['actual_time']), np.log(trip['segment_actual_time_sum']), equal_var=True, alternative='greater') # 1 sided"
   ]
  },
  {
   "cell_type": "markdown",
   "id": "d8da6c6b",
   "metadata": {},
   "source": [
    "#### Inferences:\n",
    "    Considering an alpha value of 0.05, the p-value of 0.15 is greater than alpha. Hence we fail to reject the null hypothesis, H0\n",
    "    Therefore, there is no difference in actual_time and segment_actual_time_sum."
   ]
  },
  {
   "cell_type": "markdown",
   "id": "94d101b4",
   "metadata": {},
   "source": [
    "### osrm_time vs segment_osrm_time_sum"
   ]
  },
  {
   "cell_type": "code",
   "execution_count": 91,
   "id": "4a108c15",
   "metadata": {},
   "outputs": [
    {
     "data": {
      "text/plain": [
       "(11363, 31)"
      ]
     },
     "execution_count": 91,
     "metadata": {},
     "output_type": "execute_result"
    }
   ],
   "source": [
    "trip.shape"
   ]
  },
  {
   "cell_type": "code",
   "execution_count": 92,
   "id": "25df5a8a",
   "metadata": {},
   "outputs": [
    {
     "name": "stderr",
     "output_type": "stream",
     "text": [
      "C:\\Users\\Shriya Mutyal\\anaconda3\\lib\\site-packages\\seaborn\\_decorators.py:36: FutureWarning: Pass the following variable as a keyword arg: x. From version 0.12, the only valid positional argument will be `data`, and passing other arguments without an explicit keyword will result in an error or misinterpretation.\n",
      "  warnings.warn(\n"
     ]
    },
    {
     "data": {
      "text/plain": [
       "<AxesSubplot:xlabel='time_diff'>"
      ]
     },
     "execution_count": 92,
     "metadata": {},
     "output_type": "execute_result"
    },
    {
     "data": {
      "image/png": "[encoded data removed]",
      "text/plain": [
       "<Figure size 432x288 with 1 Axes>"
      ]
     },
     "metadata": {
      "needs_background": "light"
     },
     "output_type": "display_data"
    }
   ],
   "source": [
    "trip['time_diff'] = trip['segment_osrm_time_sum'] - trip['osrm_time']\n",
    "sns.boxplot(trip['time_diff'])"
   ]
  },
  {
   "cell_type": "markdown",
   "id": "33f73605",
   "metadata": {},
   "source": [
    "#### Outlier Removal"
   ]
  },
  {
   "cell_type": "code",
   "execution_count": 93,
   "id": "3f878030",
   "metadata": {},
   "outputs": [
    {
     "name": "stderr",
     "output_type": "stream",
     "text": [
      "C:\\Users\\Shriya Mutyal\\anaconda3\\lib\\site-packages\\seaborn\\_decorators.py:36: FutureWarning: Pass the following variable as a keyword arg: x. From version 0.12, the only valid positional argument will be `data`, and passing other arguments without an explicit keyword will result in an error or misinterpretation.\n",
      "  warnings.warn(\n"
     ]
    },
    {
     "data": {
      "text/plain": [
       "<AxesSubplot:xlabel='time_diff'>"
      ]
     },
     "execution_count": 93,
     "metadata": {},
     "output_type": "execute_result"
    },
    {
     "data": {
      "image/png": "[encoded data removed]",
      "text/plain": [
       "<Figure size 432x288 with 1 Axes>"
      ]
     },
     "metadata": {
      "needs_background": "light"
     },
     "output_type": "display_data"
    }
   ],
   "source": [
    "q1 = trip['time_diff'].quantile(0.25)\n",
    "q3 = trip['time_diff'].quantile(0.75)\n",
    "iqr = q3 - q1\n",
    "trip = trip[(trip['time_diff'] >= q1 - 1.5*iqr) & (trip['time_diff'] <= q3 + 1.5*iqr)]\n",
    "sns.boxplot(trip['time_diff'])"
   ]
  },
  {
   "cell_type": "markdown",
   "id": "9159988e",
   "metadata": {},
   "source": [
    "#### Normality Check"
   ]
  },
  {
   "cell_type": "code",
   "execution_count": 94,
   "id": "c419c484",
   "metadata": {},
   "outputs": [
    {
     "data": {
      "image/png": "[encoded data removed]",
      "text/plain": [
       "<Figure size 432x288 with 1 Axes>"
      ]
     },
     "metadata": {
      "needs_background": "light"
     },
     "output_type": "display_data"
    }
   ],
   "source": [
    "probplot(np.log(trip['osrm_time']), dist=\"norm\", plot=plt)\n",
    "plt.show()"
   ]
  },
  {
   "cell_type": "markdown",
   "id": "4fcc3e7e",
   "metadata": {},
   "source": [
    "#### T-test:\n",
    "    H0: There is no difference in osrm_time and segment_osrm_time_sum.\n",
    "    Ha: There is a difference in osrm_time and segment_osrm_time_sum."
   ]
  },
  {
   "cell_type": "code",
   "execution_count": 95,
   "id": "8482ecb4",
   "metadata": {},
   "outputs": [
    {
     "data": {
      "text/html": [
       "<div>\n",
       "<style scoped>\n",
       "    .dataframe tbody tr th:only-of-type {\n",
       "        vertical-align: middle;\n",
       "    }\n",
       "\n",
       "    .dataframe tbody tr th {\n",
       "        vertical-align: top;\n",
       "    }\n",
       "\n",
       "    .dataframe thead th {\n",
       "        text-align: right;\n",
       "    }\n",
       "</style>\n",
       "<table border=\"1\" class=\"dataframe\">\n",
       "  <thead>\n",
       "    <tr style=\"text-align: right;\">\n",
       "      <th></th>\n",
       "      <th>count</th>\n",
       "      <th>mean</th>\n",
       "      <th>std</th>\n",
       "      <th>min</th>\n",
       "      <th>25%</th>\n",
       "      <th>50%</th>\n",
       "      <th>75%</th>\n",
       "      <th>max</th>\n",
       "    </tr>\n",
       "  </thead>\n",
       "  <tbody>\n",
       "    <tr>\n",
       "      <th>segment_osrm_time_sum</th>\n",
       "      <td>10267.0</td>\n",
       "      <td>61.258596</td>\n",
       "      <td>56.388433</td>\n",
       "      <td>6.0</td>\n",
       "      <td>24.0</td>\n",
       "      <td>40.0</td>\n",
       "      <td>73.0</td>\n",
       "      <td>501.0</td>\n",
       "    </tr>\n",
       "    <tr>\n",
       "      <th>osrm_time</th>\n",
       "      <td>10267.0</td>\n",
       "      <td>59.044706</td>\n",
       "      <td>55.410927</td>\n",
       "      <td>6.0</td>\n",
       "      <td>23.0</td>\n",
       "      <td>37.0</td>\n",
       "      <td>69.0</td>\n",
       "      <td>489.0</td>\n",
       "    </tr>\n",
       "  </tbody>\n",
       "</table>\n",
       "</div>"
      ],
      "text/plain": [
       "                         count       mean        std  min   25%   50%   75%  \\\n",
       "segment_osrm_time_sum  10267.0  61.258596  56.388433  6.0  24.0  40.0  73.0   \n",
       "osrm_time              10267.0  59.044706  55.410927  6.0  23.0  37.0  69.0   \n",
       "\n",
       "                         max  \n",
       "segment_osrm_time_sum  501.0  \n",
       "osrm_time              489.0  "
      ]
     },
     "execution_count": 95,
     "metadata": {},
     "output_type": "execute_result"
    }
   ],
   "source": [
    "trip[['segment_osrm_time_sum', 'osrm_time']].describe().T"
   ]
  },
  {
   "cell_type": "code",
   "execution_count": 96,
   "id": "5190785b",
   "metadata": {},
   "outputs": [
    {
     "data": {
      "text/plain": [
       "Ttest_indResult(statistic=-73.11361793794974, pvalue=0.0)"
      ]
     },
     "execution_count": 96,
     "metadata": {},
     "output_type": "execute_result"
    }
   ],
   "source": [
    "ttest_ind(np.log(trip['osrm_time']), np.log(trip['segment_actual_time_sum']), equal_var=True) # 2 tailed"
   ]
  },
  {
   "cell_type": "markdown",
   "id": "42a071c0",
   "metadata": {},
   "source": [
    "#### Inferences:\n",
    "    Considering an alpha value of 0.05, the p-value of 0 is less than alpha. Hence we reject the null hypothesis, H0\n",
    "    Therefore, there is difference in osrm_time and segment_osrm_time_sum."
   ]
  },
  {
   "cell_type": "markdown",
   "id": "91eec47a",
   "metadata": {},
   "source": [
    "### osrm_distance vs segment_osrm_distance_sum"
   ]
  },
  {
   "cell_type": "code",
   "execution_count": 97,
   "id": "40b51200",
   "metadata": {},
   "outputs": [
    {
     "data": {
      "text/html": [
       "<div>\n",
       "<style scoped>\n",
       "    .dataframe tbody tr th:only-of-type {\n",
       "        vertical-align: middle;\n",
       "    }\n",
       "\n",
       "    .dataframe tbody tr th {\n",
       "        vertical-align: top;\n",
       "    }\n",
       "\n",
       "    .dataframe thead th {\n",
       "        text-align: right;\n",
       "    }\n",
       "</style>\n",
       "<table border=\"1\" class=\"dataframe\">\n",
       "  <thead>\n",
       "    <tr style=\"text-align: right;\">\n",
       "      <th></th>\n",
       "      <th>osrm_distance</th>\n",
       "      <th>segment_osrm_distance_sum</th>\n",
       "      <th>distance_diff</th>\n",
       "    </tr>\n",
       "  </thead>\n",
       "  <tbody>\n",
       "    <tr>\n",
       "      <th>0</th>\n",
       "      <td>85.1110</td>\n",
       "      <td>84.1894</td>\n",
       "      <td>-0.9216</td>\n",
       "    </tr>\n",
       "    <tr>\n",
       "      <th>1</th>\n",
       "      <td>19.6800</td>\n",
       "      <td>19.8766</td>\n",
       "      <td>0.1966</td>\n",
       "    </tr>\n",
       "    <tr>\n",
       "      <th>2</th>\n",
       "      <td>146.7918</td>\n",
       "      <td>146.7919</td>\n",
       "      <td>0.0001</td>\n",
       "    </tr>\n",
       "    <tr>\n",
       "      <th>3</th>\n",
       "      <td>28.0647</td>\n",
       "      <td>28.0647</td>\n",
       "      <td>0.0000</td>\n",
       "    </tr>\n",
       "    <tr>\n",
       "      <th>4</th>\n",
       "      <td>12.0184</td>\n",
       "      <td>12.0184</td>\n",
       "      <td>0.0000</td>\n",
       "    </tr>\n",
       "  </tbody>\n",
       "</table>\n",
       "</div>"
      ],
      "text/plain": [
       "   osrm_distance  segment_osrm_distance_sum  distance_diff\n",
       "0        85.1110                    84.1894        -0.9216\n",
       "1        19.6800                    19.8766         0.1966\n",
       "2       146.7918                   146.7919         0.0001\n",
       "3        28.0647                    28.0647         0.0000\n",
       "4        12.0184                    12.0184         0.0000"
      ]
     },
     "execution_count": 97,
     "metadata": {},
     "output_type": "execute_result"
    }
   ],
   "source": [
    "trip['distance_diff'] = trip['segment_osrm_distance_sum'] - trip['osrm_distance']\n",
    "trip[['osrm_distance', 'segment_osrm_distance_sum', 'distance_diff']].head()"
   ]
  },
  {
   "cell_type": "markdown",
   "id": "7abd2e22",
   "metadata": {},
   "source": [
    "#### Outlier Detection & Removal"
   ]
  },
  {
   "cell_type": "code",
   "execution_count": 98,
   "id": "0ad4f722",
   "metadata": {},
   "outputs": [
    {
     "data": {
      "text/plain": [
       "<AxesSubplot:>"
      ]
     },
     "execution_count": 98,
     "metadata": {},
     "output_type": "execute_result"
    },
    {
     "data": {
      "image/png": "[encoded data removed]",
      "text/plain": [
       "<Figure size 432x288 with 1 Axes>"
      ]
     },
     "metadata": {
      "needs_background": "light"
     },
     "output_type": "display_data"
    }
   ],
   "source": [
    "trip[['osrm_distance', 'segment_osrm_distance_sum', 'distance_diff']].plot(kind='box', rot=25)"
   ]
  },
  {
   "cell_type": "code",
   "execution_count": 99,
   "id": "1237d302",
   "metadata": {},
   "outputs": [
    {
     "data": {
      "text/plain": [
       "<AxesSubplot:>"
      ]
     },
     "execution_count": 99,
     "metadata": {},
     "output_type": "execute_result"
    },
    {
     "data": {
      "image/png": "[encoded data removed]",
      "text/plain": [
       "<Figure size 432x288 with 1 Axes>"
      ]
     },
     "metadata": {
      "needs_background": "light"
     },
     "output_type": "display_data"
    }
   ],
   "source": [
    "q1 = trip['distance_diff'].quantile(0.25)\n",
    "q3 = trip['distance_diff'].quantile(0.75)\n",
    "iqr = q3 - q1\n",
    "trip = trip[(trip['distance_diff'] >= q1 - 1.5*iqr) & (trip['distance_diff'] <= q3 + 1.5*iqr)]\n",
    "trip[['osrm_distance', 'segment_osrm_distance_sum', 'distance_diff']].plot(kind='box', rot=25)"
   ]
  },
  {
   "cell_type": "code",
   "execution_count": 100,
   "id": "ad9221fa",
   "metadata": {},
   "outputs": [
    {
     "data": {
      "text/plain": [
       "(8631, 32)"
      ]
     },
     "execution_count": 100,
     "metadata": {},
     "output_type": "execute_result"
    }
   ],
   "source": [
    "trip.shape"
   ]
  },
  {
   "cell_type": "markdown",
   "id": "69d256d7",
   "metadata": {},
   "source": [
    "#### Normality Check"
   ]
  },
  {
   "cell_type": "code",
   "execution_count": 101,
   "id": "90680e6e",
   "metadata": {},
   "outputs": [
    {
     "data": {
      "image/png": "[encoded data removed]",
      "text/plain": [
       "<Figure size 432x288 with 1 Axes>"
      ]
     },
     "metadata": {
      "needs_background": "light"
     },
     "output_type": "display_data"
    }
   ],
   "source": [
    "probplot(np.log1p(trip['osrm_distance']), dist=\"norm\", plot=plt)\n",
    "plt.show()"
   ]
  },
  {
   "cell_type": "code",
   "execution_count": 102,
   "id": "a371fb2a",
   "metadata": {},
   "outputs": [
    {
     "data": {
      "image/png": "[encoded data removed]",
      "text/plain": [
       "<Figure size 432x288 with 1 Axes>"
      ]
     },
     "metadata": {
      "needs_background": "light"
     },
     "output_type": "display_data"
    }
   ],
   "source": [
    "probplot(boxcox(trip['osrm_distance'])[0], dist=\"norm\", plot=plt)\n",
    "plt.show()"
   ]
  },
  {
   "cell_type": "markdown",
   "id": "16f1176b",
   "metadata": {},
   "source": [
    "#### T-test:\n",
    "    H0: There is no difference in osrm_distance and segment_osrm_distance_sum.\n",
    "    Ha: There is a difference in osrm_distance and segment_osrm_distance_sum."
   ]
  },
  {
   "cell_type": "code",
   "execution_count": 103,
   "id": "c7bb7c3b",
   "metadata": {},
   "outputs": [
    {
     "data": {
      "text/html": [
       "<div>\n",
       "<style scoped>\n",
       "    .dataframe tbody tr th:only-of-type {\n",
       "        vertical-align: middle;\n",
       "    }\n",
       "\n",
       "    .dataframe tbody tr th {\n",
       "        vertical-align: top;\n",
       "    }\n",
       "\n",
       "    .dataframe thead th {\n",
       "        text-align: right;\n",
       "    }\n",
       "</style>\n",
       "<table border=\"1\" class=\"dataframe\">\n",
       "  <thead>\n",
       "    <tr style=\"text-align: right;\">\n",
       "      <th></th>\n",
       "      <th>count</th>\n",
       "      <th>mean</th>\n",
       "      <th>std</th>\n",
       "      <th>min</th>\n",
       "      <th>25%</th>\n",
       "      <th>50%</th>\n",
       "      <th>75%</th>\n",
       "      <th>max</th>\n",
       "    </tr>\n",
       "  </thead>\n",
       "  <tbody>\n",
       "    <tr>\n",
       "      <th>osrm_distance</th>\n",
       "      <td>8631.0</td>\n",
       "      <td>59.027132</td>\n",
       "      <td>59.824305</td>\n",
       "      <td>9.0729</td>\n",
       "      <td>24.0684</td>\n",
       "      <td>35.9510</td>\n",
       "      <td>66.82280</td>\n",
       "      <td>417.0608</td>\n",
       "    </tr>\n",
       "    <tr>\n",
       "      <th>segment_osrm_distance_sum</th>\n",
       "      <td>8631.0</td>\n",
       "      <td>60.220973</td>\n",
       "      <td>60.017537</td>\n",
       "      <td>9.0729</td>\n",
       "      <td>24.8516</td>\n",
       "      <td>37.5447</td>\n",
       "      <td>68.42155</td>\n",
       "      <td>423.3045</td>\n",
       "    </tr>\n",
       "    <tr>\n",
       "      <th>distance_diff</th>\n",
       "      <td>8631.0</td>\n",
       "      <td>1.193841</td>\n",
       "      <td>2.295937</td>\n",
       "      <td>-5.1771</td>\n",
       "      <td>0.0000</td>\n",
       "      <td>0.0001</td>\n",
       "      <td>2.05075</td>\n",
       "      <td>8.6496</td>\n",
       "    </tr>\n",
       "  </tbody>\n",
       "</table>\n",
       "</div>"
      ],
      "text/plain": [
       "                            count       mean        std     min      25%  \\\n",
       "osrm_distance              8631.0  59.027132  59.824305  9.0729  24.0684   \n",
       "segment_osrm_distance_sum  8631.0  60.220973  60.017537  9.0729  24.8516   \n",
       "distance_diff              8631.0   1.193841   2.295937 -5.1771   0.0000   \n",
       "\n",
       "                               50%       75%       max  \n",
       "osrm_distance              35.9510  66.82280  417.0608  \n",
       "segment_osrm_distance_sum  37.5447  68.42155  423.3045  \n",
       "distance_diff               0.0001   2.05075    8.6496  "
      ]
     },
     "execution_count": 103,
     "metadata": {},
     "output_type": "execute_result"
    }
   ],
   "source": [
    "trip[['osrm_distance', 'segment_osrm_distance_sum', 'distance_diff']].describe().T"
   ]
  },
  {
   "cell_type": "code",
   "execution_count": 104,
   "id": "9aaff5f7",
   "metadata": {},
   "outputs": [
    {
     "data": {
      "text/plain": [
       "Ttest_indResult(statistic=-24.87251406747588, pvalue=3.3745998088011386e-134)"
      ]
     },
     "execution_count": 104,
     "metadata": {},
     "output_type": "execute_result"
    }
   ],
   "source": [
    "ttest_ind(boxcox(trip['osrm_distance'])[0], boxcox(trip['segment_osrm_distance_sum'])[0], equal_var=True) # 2 tailed"
   ]
  },
  {
   "cell_type": "markdown",
   "id": "7f53124c",
   "metadata": {},
   "source": [
    "#### Inferences:\n",
    "    Considering an alpha value of 0.05, the p-value of 3.37e-134 is less than alpha/2 i.e., 0.025. Hence we reject the null hypothesis, H0\n",
    "    Therefore, there is difference in osrm_distance and segment_osrm_distance_sum."
   ]
  },
  {
   "cell_type": "markdown",
   "id": "ed7a979f",
   "metadata": {},
   "source": [
    "## Standard Scaler"
   ]
  },
  {
   "cell_type": "code",
   "execution_count": 106,
   "id": "fcf608ab",
   "metadata": {},
   "outputs": [],
   "source": [
    "from sklearn.preprocessing import StandardScaler"
   ]
  },
  {
   "cell_type": "code",
   "execution_count": 107,
   "id": "02634dc6",
   "metadata": {},
   "outputs": [
    {
     "data": {
      "text/plain": [
       "StandardScaler()"
      ]
     },
     "execution_count": 107,
     "metadata": {},
     "output_type": "execute_result"
    }
   ],
   "source": [
    "scaler=StandardScaler()\n",
    "scaler.fit(trip[num_cols])"
   ]
  },
  {
   "cell_type": "code",
   "execution_count": 108,
   "id": "9f400f5d",
   "metadata": {},
   "outputs": [],
   "source": [
    "trip[num_cols] = scaler.transform(trip[num_cols])"
   ]
  },
  {
   "cell_type": "code",
   "execution_count": 109,
   "id": "1dfe5dfa",
   "metadata": {},
   "outputs": [
    {
     "data": {
      "text/html": [
       "<div>\n",
       "<style scoped>\n",
       "    .dataframe tbody tr th:only-of-type {\n",
       "        vertical-align: middle;\n",
       "    }\n",
       "\n",
       "    .dataframe tbody tr th {\n",
       "        vertical-align: top;\n",
       "    }\n",
       "\n",
       "    .dataframe thead th {\n",
       "        text-align: right;\n",
       "    }\n",
       "</style>\n",
       "<table border=\"1\" class=\"dataframe\">\n",
       "  <thead>\n",
       "    <tr style=\"text-align: right;\">\n",
       "      <th></th>\n",
       "      <th>start_scan_to_end_scan</th>\n",
       "      <th>od_time_diff_hour</th>\n",
       "      <th>actual_distance_to_destination</th>\n",
       "      <th>actual_time</th>\n",
       "      <th>osrm_time</th>\n",
       "      <th>osrm_distance</th>\n",
       "      <th>segment_actual_time_sum</th>\n",
       "      <th>segment_osrm_time_sum</th>\n",
       "      <th>segment_osrm_distance_sum</th>\n",
       "    </tr>\n",
       "  </thead>\n",
       "  <tbody>\n",
       "    <tr>\n",
       "      <th>0</th>\n",
       "      <td>-0.302775</td>\n",
       "      <td>-0.298157</td>\n",
       "      <td>0.533305</td>\n",
       "      <td>0.253275</td>\n",
       "      <td>0.329919</td>\n",
       "      <td>0.436033</td>\n",
       "      <td>0.245425</td>\n",
       "      <td>0.247789</td>\n",
       "      <td>0.399380</td>\n",
       "    </tr>\n",
       "    <tr>\n",
       "      <th>1</th>\n",
       "      <td>-0.681302</td>\n",
       "      <td>-0.681675</td>\n",
       "      <td>-0.604868</td>\n",
       "      <td>-0.594457</td>\n",
       "      <td>-0.754100</td>\n",
       "      <td>-0.657750</td>\n",
       "      <td>-0.587337</td>\n",
       "      <td>-0.748830</td>\n",
       "      <td>-0.672249</td>\n",
       "    </tr>\n",
       "    <tr>\n",
       "      <th>2</th>\n",
       "      <td>2.238090</td>\n",
       "      <td>2.239522</td>\n",
       "      <td>1.635916</td>\n",
       "      <td>2.251502</td>\n",
       "      <td>1.332126</td>\n",
       "      <td>1.467125</td>\n",
       "      <td>2.266394</td>\n",
       "      <td>1.264747</td>\n",
       "      <td>1.442511</td>\n",
       "    </tr>\n",
       "    <tr>\n",
       "      <th>3</th>\n",
       "      <td>-0.260190</td>\n",
       "      <td>-0.256191</td>\n",
       "      <td>-0.454055</td>\n",
       "      <td>-0.574273</td>\n",
       "      <td>-0.590474</td>\n",
       "      <td>-0.517586</td>\n",
       "      <td>-0.577181</td>\n",
       "      <td>-0.606456</td>\n",
       "      <td>-0.535812</td>\n",
       "    </tr>\n",
       "    <tr>\n",
       "      <th>4</th>\n",
       "      <td>-0.690765</td>\n",
       "      <td>-0.693445</td>\n",
       "      <td>-0.768949</td>\n",
       "      <td>-0.947679</td>\n",
       "      <td>-0.795006</td>\n",
       "      <td>-0.785825</td>\n",
       "      <td>-0.942783</td>\n",
       "      <td>-0.809848</td>\n",
       "      <td>-0.803188</td>\n",
       "    </tr>\n",
       "    <tr>\n",
       "      <th>...</th>\n",
       "      <td>...</td>\n",
       "      <td>...</td>\n",
       "      <td>...</td>\n",
       "      <td>...</td>\n",
       "      <td>...</td>\n",
       "      <td>...</td>\n",
       "      <td>...</td>\n",
       "      <td>...</td>\n",
       "      <td>...</td>\n",
       "    </tr>\n",
       "    <tr>\n",
       "      <th>13762</th>\n",
       "      <td>-0.298043</td>\n",
       "      <td>-0.294352</td>\n",
       "      <td>-0.405004</td>\n",
       "      <td>-0.564181</td>\n",
       "      <td>-0.488208</td>\n",
       "      <td>-0.346709</td>\n",
       "      <td>-0.567025</td>\n",
       "      <td>-0.403065</td>\n",
       "      <td>-0.442912</td>\n",
       "    </tr>\n",
       "    <tr>\n",
       "      <th>13763</th>\n",
       "      <td>-0.880029</td>\n",
       "      <td>-0.881778</td>\n",
       "      <td>-0.646326</td>\n",
       "      <td>-0.766022</td>\n",
       "      <td>-0.815459</td>\n",
       "      <td>-0.721881</td>\n",
       "      <td>-0.770138</td>\n",
       "      <td>-0.850526</td>\n",
       "      <td>-0.739450</td>\n",
       "    </tr>\n",
       "    <tr>\n",
       "      <th>13764</th>\n",
       "      <td>-0.738081</td>\n",
       "      <td>-0.739730</td>\n",
       "      <td>-0.592981</td>\n",
       "      <td>-0.806390</td>\n",
       "      <td>-0.733647</td>\n",
       "      <td>-0.643933</td>\n",
       "      <td>-0.810760</td>\n",
       "      <td>-0.748830</td>\n",
       "      <td>-0.661753</td>\n",
       "    </tr>\n",
       "    <tr>\n",
       "      <th>13766</th>\n",
       "      <td>-0.870566</td>\n",
       "      <td>-0.870342</td>\n",
       "      <td>-0.638630</td>\n",
       "      <td>-0.977955</td>\n",
       "      <td>-0.815459</td>\n",
       "      <td>-0.717792</td>\n",
       "      <td>-0.973250</td>\n",
       "      <td>-0.850526</td>\n",
       "      <td>-0.735372</td>\n",
       "    </tr>\n",
       "    <tr>\n",
       "      <th>13769</th>\n",
       "      <td>0.515791</td>\n",
       "      <td>0.518817</td>\n",
       "      <td>0.388922</td>\n",
       "      <td>1.585426</td>\n",
       "      <td>0.329919</td>\n",
       "      <td>0.360269</td>\n",
       "      <td>1.596123</td>\n",
       "      <td>0.288467</td>\n",
       "      <td>0.339216</td>\n",
       "    </tr>\n",
       "  </tbody>\n",
       "</table>\n",
       "<p>8631 rows × 9 columns</p>\n",
       "</div>"
      ],
      "text/plain": [
       "       start_scan_to_end_scan  od_time_diff_hour  \\\n",
       "0                   -0.302775          -0.298157   \n",
       "1                   -0.681302          -0.681675   \n",
       "2                    2.238090           2.239522   \n",
       "3                   -0.260190          -0.256191   \n",
       "4                   -0.690765          -0.693445   \n",
       "...                       ...                ...   \n",
       "13762               -0.298043          -0.294352   \n",
       "13763               -0.880029          -0.881778   \n",
       "13764               -0.738081          -0.739730   \n",
       "13766               -0.870566          -0.870342   \n",
       "13769                0.515791           0.518817   \n",
       "\n",
       "       actual_distance_to_destination  actual_time  osrm_time  osrm_distance  \\\n",
       "0                            0.533305     0.253275   0.329919       0.436033   \n",
       "1                           -0.604868    -0.594457  -0.754100      -0.657750   \n",
       "2                            1.635916     2.251502   1.332126       1.467125   \n",
       "3                           -0.454055    -0.574273  -0.590474      -0.517586   \n",
       "4                           -0.768949    -0.947679  -0.795006      -0.785825   \n",
       "...                               ...          ...        ...            ...   \n",
       "13762                       -0.405004    -0.564181  -0.488208      -0.346709   \n",
       "13763                       -0.646326    -0.766022  -0.815459      -0.721881   \n",
       "13764                       -0.592981    -0.806390  -0.733647      -0.643933   \n",
       "13766                       -0.638630    -0.977955  -0.815459      -0.717792   \n",
       "13769                        0.388922     1.585426   0.329919       0.360269   \n",
       "\n",
       "       segment_actual_time_sum  segment_osrm_time_sum  \\\n",
       "0                     0.245425               0.247789   \n",
       "1                    -0.587337              -0.748830   \n",
       "2                     2.266394               1.264747   \n",
       "3                    -0.577181              -0.606456   \n",
       "4                    -0.942783              -0.809848   \n",
       "...                        ...                    ...   \n",
       "13762                -0.567025              -0.403065   \n",
       "13763                -0.770138              -0.850526   \n",
       "13764                -0.810760              -0.748830   \n",
       "13766                -0.973250              -0.850526   \n",
       "13769                 1.596123               0.288467   \n",
       "\n",
       "       segment_osrm_distance_sum  \n",
       "0                       0.399380  \n",
       "1                      -0.672249  \n",
       "2                       1.442511  \n",
       "3                      -0.535812  \n",
       "4                      -0.803188  \n",
       "...                          ...  \n",
       "13762                  -0.442912  \n",
       "13763                  -0.739450  \n",
       "13764                  -0.661753  \n",
       "13766                  -0.735372  \n",
       "13769                   0.339216  \n",
       "\n",
       "[8631 rows x 9 columns]"
      ]
     },
     "execution_count": 109,
     "metadata": {},
     "output_type": "execute_result"
    }
   ],
   "source": [
    "trip[num_cols]"
   ]
  },
  {
   "cell_type": "markdown",
   "id": "d63a5af9",
   "metadata": {},
   "source": [
    "# Business Insights:\n",
    "1. Carting to FTL ratio is 60:40 almost. So most of the orders for Carting compared to FTL\n",
    "2. MH, KA, and HR are the states which have the most shipments.\n",
    "3. Bangalore + Bengaluru has the highest source orders followed by Gurgaon & Mumbai.\n",
    "4. Bangalore + Bengaluru has the highest source orders followed by Mumbai & Gurgaon.\n",
    "5. The least amount of trips are created during the morning time, most of the operations happen afternoon till midnight.\n",
    "6. There is no difference in od_time_diff_hour and start_scan_to_end_scan.\n",
    "7. There is a difference between actual_time and osrm_time.\n",
    "8. There is no difference in actual_time and segment_actual_time_sum.\n",
    "9. There is a difference in osrm_time and segment_osrm_time_sum.\n",
    "10. here is a difference in osrm_distance and segment_osrm_distance_sum."
   ]
  },
  {
   "cell_type": "markdown",
   "id": "c170e5d1",
   "metadata": {},
   "source": [
    "# Recommendations:\n",
    "1. Reach can be increased in North East as there are very few orders coming from there.\n",
    "2. Top 5 cities are getting decent order flow, the next 5 cities can be brought into focus.\n",
    "3. OSRM time and distance both need to be tracked more efficiently.\n",
    "4. All the data points need to be refined at the point of collection.\n",
    "5. City naming needs to be corrected and center naming can be refined."
   ]
  },
  {
   "cell_type": "code",
   "execution_count": null,
   "id": "cf473258",
   "metadata": {},
   "outputs": [],
   "source": []
  }
 ],
 "metadata": {
  "kernelspec": {
   "display_name": "Python 3 (ipykernel)",
   "language": "python",
   "name": "python3"
  },
  "language_info": {
   "codemirror_mode": {
    "name": "ipython",
    "version": 3
   },
   "file_extension": ".py",
   "mimetype": "text/x-python",
   "name": "python",
   "nbconvert_exporter": "python",
   "pygments_lexer": "ipython3",
   "version": "3.9.12"
  }
 },
 "nbformat": 4,
 "nbformat_minor": 5
}
